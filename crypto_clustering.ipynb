{
 "cells": [
  {
   "cell_type": "markdown",
   "metadata": {},
   "source": [
    "# Clustering Crypto"
   ]
  },
  {
   "cell_type": "code",
   "execution_count": 22,
   "metadata": {},
   "outputs": [],
   "source": [
    "# Initial imports\n",
    "import pandas as pd\n",
    "import hvplot.pandas\n",
    "from path import Path\n",
    "import plotly.express as px\n",
    "from sklearn.preprocessing import StandardScaler, MinMaxScaler\n",
    "from sklearn.decomposition import PCA\n",
    "from sklearn.cluster import KMeans\n",
    "from matplotlib import pyplot as plt\n"
   ]
  },
  {
   "cell_type": "markdown",
   "metadata": {},
   "source": [
    "### Deliverable 1: Preprocessing the Data for PCA"
   ]
  },
  {
   "cell_type": "code",
   "execution_count": 3,
   "metadata": {},
   "outputs": [
    {
     "data": {
      "text/html": [
       "<div>\n",
       "<style scoped>\n",
       "    .dataframe tbody tr th:only-of-type {\n",
       "        vertical-align: middle;\n",
       "    }\n",
       "\n",
       "    .dataframe tbody tr th {\n",
       "        vertical-align: top;\n",
       "    }\n",
       "\n",
       "    .dataframe thead th {\n",
       "        text-align: right;\n",
       "    }\n",
       "</style>\n",
       "<table border=\"1\" class=\"dataframe\">\n",
       "  <thead>\n",
       "    <tr style=\"text-align: right;\">\n",
       "      <th></th>\n",
       "      <th>Unnamed: 0</th>\n",
       "      <th>CoinName</th>\n",
       "      <th>Algorithm</th>\n",
       "      <th>IsTrading</th>\n",
       "      <th>ProofType</th>\n",
       "      <th>TotalCoinsMined</th>\n",
       "      <th>TotalCoinSupply</th>\n",
       "    </tr>\n",
       "  </thead>\n",
       "  <tbody>\n",
       "    <tr>\n",
       "      <th>1247</th>\n",
       "      <td>XBC</td>\n",
       "      <td>BitcoinPlus</td>\n",
       "      <td>Scrypt</td>\n",
       "      <td>True</td>\n",
       "      <td>PoS</td>\n",
       "      <td>1.283270e+05</td>\n",
       "      <td>1000000</td>\n",
       "    </tr>\n",
       "    <tr>\n",
       "      <th>1248</th>\n",
       "      <td>DVTC</td>\n",
       "      <td>DivotyCoin</td>\n",
       "      <td>Scrypt</td>\n",
       "      <td>False</td>\n",
       "      <td>PoW/PoS</td>\n",
       "      <td>2.149121e+07</td>\n",
       "      <td>100000000</td>\n",
       "    </tr>\n",
       "    <tr>\n",
       "      <th>1249</th>\n",
       "      <td>GIOT</td>\n",
       "      <td>Giotto Coin</td>\n",
       "      <td>Scrypt</td>\n",
       "      <td>False</td>\n",
       "      <td>PoW/PoS</td>\n",
       "      <td>NaN</td>\n",
       "      <td>233100000</td>\n",
       "    </tr>\n",
       "    <tr>\n",
       "      <th>1250</th>\n",
       "      <td>OPSC</td>\n",
       "      <td>OpenSourceCoin</td>\n",
       "      <td>SHA-256</td>\n",
       "      <td>False</td>\n",
       "      <td>PoW/PoS</td>\n",
       "      <td>NaN</td>\n",
       "      <td>21000000</td>\n",
       "    </tr>\n",
       "    <tr>\n",
       "      <th>1251</th>\n",
       "      <td>PUNK</td>\n",
       "      <td>SteamPunk</td>\n",
       "      <td>PoS</td>\n",
       "      <td>False</td>\n",
       "      <td>PoS</td>\n",
       "      <td>NaN</td>\n",
       "      <td>40000000</td>\n",
       "    </tr>\n",
       "  </tbody>\n",
       "</table>\n",
       "</div>"
      ],
      "text/plain": [
       "     Unnamed: 0        CoinName Algorithm  IsTrading ProofType  \\\n",
       "1247        XBC     BitcoinPlus    Scrypt       True       PoS   \n",
       "1248       DVTC      DivotyCoin    Scrypt      False   PoW/PoS   \n",
       "1249       GIOT     Giotto Coin    Scrypt      False   PoW/PoS   \n",
       "1250       OPSC  OpenSourceCoin   SHA-256      False   PoW/PoS   \n",
       "1251       PUNK       SteamPunk       PoS      False       PoS   \n",
       "\n",
       "      TotalCoinsMined TotalCoinSupply  \n",
       "1247     1.283270e+05         1000000  \n",
       "1248     2.149121e+07       100000000  \n",
       "1249              NaN       233100000  \n",
       "1250              NaN        21000000  \n",
       "1251              NaN        40000000  "
      ]
     },
     "execution_count": 3,
     "metadata": {},
     "output_type": "execute_result"
    }
   ],
   "source": [
    "# Load the crypto_data.csv dataset.\n",
    "file_path = \"Resources/crypto_data.csv\"\n",
    "crypto_df = pd.read_csv(file_path)\n",
    "crypto_df.tail()"
   ]
  },
  {
   "cell_type": "code",
   "execution_count": 4,
   "metadata": {},
   "outputs": [
    {
     "data": {
      "text/plain": [
       "(1252, 7)"
      ]
     },
     "execution_count": 4,
     "metadata": {},
     "output_type": "execute_result"
    }
   ],
   "source": [
    "crypto_df.shape"
   ]
  },
  {
   "cell_type": "code",
   "execution_count": 5,
   "metadata": {},
   "outputs": [
    {
     "data": {
      "text/plain": [
       "Unnamed: 0          object\n",
       "CoinName            object\n",
       "Algorithm           object\n",
       "IsTrading             bool\n",
       "ProofType           object\n",
       "TotalCoinsMined    float64\n",
       "TotalCoinSupply     object\n",
       "dtype: object"
      ]
     },
     "execution_count": 5,
     "metadata": {},
     "output_type": "execute_result"
    }
   ],
   "source": [
    "crypto_df.dtypes"
   ]
  },
  {
   "cell_type": "code",
   "execution_count": 6,
   "metadata": {},
   "outputs": [
    {
     "data": {
      "text/html": [
       "<div>\n",
       "<style scoped>\n",
       "    .dataframe tbody tr th:only-of-type {\n",
       "        vertical-align: middle;\n",
       "    }\n",
       "\n",
       "    .dataframe tbody tr th {\n",
       "        vertical-align: top;\n",
       "    }\n",
       "\n",
       "    .dataframe thead th {\n",
       "        text-align: right;\n",
       "    }\n",
       "</style>\n",
       "<table border=\"1\" class=\"dataframe\">\n",
       "  <thead>\n",
       "    <tr style=\"text-align: right;\">\n",
       "      <th></th>\n",
       "      <th>Unnamed: 0</th>\n",
       "      <th>CoinName</th>\n",
       "      <th>Algorithm</th>\n",
       "      <th>IsTrading</th>\n",
       "      <th>ProofType</th>\n",
       "      <th>TotalCoinsMined</th>\n",
       "      <th>TotalCoinSupply</th>\n",
       "    </tr>\n",
       "  </thead>\n",
       "  <tbody>\n",
       "    <tr>\n",
       "      <th>0</th>\n",
       "      <td>42</td>\n",
       "      <td>42 Coin</td>\n",
       "      <td>Scrypt</td>\n",
       "      <td>True</td>\n",
       "      <td>PoW/PoS</td>\n",
       "      <td>4.199995e+01</td>\n",
       "      <td>42</td>\n",
       "    </tr>\n",
       "    <tr>\n",
       "      <th>1</th>\n",
       "      <td>365</td>\n",
       "      <td>365Coin</td>\n",
       "      <td>X11</td>\n",
       "      <td>True</td>\n",
       "      <td>PoW/PoS</td>\n",
       "      <td>NaN</td>\n",
       "      <td>2300000000</td>\n",
       "    </tr>\n",
       "    <tr>\n",
       "      <th>2</th>\n",
       "      <td>404</td>\n",
       "      <td>404Coin</td>\n",
       "      <td>Scrypt</td>\n",
       "      <td>True</td>\n",
       "      <td>PoW/PoS</td>\n",
       "      <td>1.055185e+09</td>\n",
       "      <td>532000000</td>\n",
       "    </tr>\n",
       "    <tr>\n",
       "      <th>3</th>\n",
       "      <td>611</td>\n",
       "      <td>SixEleven</td>\n",
       "      <td>SHA-256</td>\n",
       "      <td>True</td>\n",
       "      <td>PoW</td>\n",
       "      <td>NaN</td>\n",
       "      <td>611000</td>\n",
       "    </tr>\n",
       "    <tr>\n",
       "      <th>4</th>\n",
       "      <td>808</td>\n",
       "      <td>808</td>\n",
       "      <td>SHA-256</td>\n",
       "      <td>True</td>\n",
       "      <td>PoW/PoS</td>\n",
       "      <td>0.000000e+00</td>\n",
       "      <td>0</td>\n",
       "    </tr>\n",
       "    <tr>\n",
       "      <th>...</th>\n",
       "      <td>...</td>\n",
       "      <td>...</td>\n",
       "      <td>...</td>\n",
       "      <td>...</td>\n",
       "      <td>...</td>\n",
       "      <td>...</td>\n",
       "      <td>...</td>\n",
       "    </tr>\n",
       "    <tr>\n",
       "      <th>1243</th>\n",
       "      <td>SERO</td>\n",
       "      <td>Super Zero</td>\n",
       "      <td>Ethash</td>\n",
       "      <td>True</td>\n",
       "      <td>PoW</td>\n",
       "      <td>NaN</td>\n",
       "      <td>1000000000</td>\n",
       "    </tr>\n",
       "    <tr>\n",
       "      <th>1244</th>\n",
       "      <td>UOS</td>\n",
       "      <td>UOS</td>\n",
       "      <td>SHA-256</td>\n",
       "      <td>True</td>\n",
       "      <td>DPoI</td>\n",
       "      <td>NaN</td>\n",
       "      <td>1000000000</td>\n",
       "    </tr>\n",
       "    <tr>\n",
       "      <th>1245</th>\n",
       "      <td>BDX</td>\n",
       "      <td>Beldex</td>\n",
       "      <td>CryptoNight</td>\n",
       "      <td>True</td>\n",
       "      <td>PoW</td>\n",
       "      <td>9.802226e+08</td>\n",
       "      <td>1400222610</td>\n",
       "    </tr>\n",
       "    <tr>\n",
       "      <th>1246</th>\n",
       "      <td>ZEN</td>\n",
       "      <td>Horizen</td>\n",
       "      <td>Equihash</td>\n",
       "      <td>True</td>\n",
       "      <td>PoW</td>\n",
       "      <td>7.296538e+06</td>\n",
       "      <td>21000000</td>\n",
       "    </tr>\n",
       "    <tr>\n",
       "      <th>1247</th>\n",
       "      <td>XBC</td>\n",
       "      <td>BitcoinPlus</td>\n",
       "      <td>Scrypt</td>\n",
       "      <td>True</td>\n",
       "      <td>PoS</td>\n",
       "      <td>1.283270e+05</td>\n",
       "      <td>1000000</td>\n",
       "    </tr>\n",
       "  </tbody>\n",
       "</table>\n",
       "<p>1144 rows × 7 columns</p>\n",
       "</div>"
      ],
      "text/plain": [
       "     Unnamed: 0     CoinName    Algorithm  IsTrading ProofType  \\\n",
       "0            42      42 Coin       Scrypt       True   PoW/PoS   \n",
       "1           365      365Coin          X11       True   PoW/PoS   \n",
       "2           404      404Coin       Scrypt       True   PoW/PoS   \n",
       "3           611    SixEleven      SHA-256       True       PoW   \n",
       "4           808          808      SHA-256       True   PoW/PoS   \n",
       "...         ...          ...          ...        ...       ...   \n",
       "1243       SERO   Super Zero       Ethash       True       PoW   \n",
       "1244        UOS          UOS      SHA-256       True      DPoI   \n",
       "1245        BDX       Beldex  CryptoNight       True       PoW   \n",
       "1246        ZEN      Horizen     Equihash       True       PoW   \n",
       "1247        XBC  BitcoinPlus       Scrypt       True       PoS   \n",
       "\n",
       "      TotalCoinsMined TotalCoinSupply  \n",
       "0        4.199995e+01              42  \n",
       "1                 NaN      2300000000  \n",
       "2        1.055185e+09       532000000  \n",
       "3                 NaN          611000  \n",
       "4        0.000000e+00               0  \n",
       "...               ...             ...  \n",
       "1243              NaN      1000000000  \n",
       "1244              NaN      1000000000  \n",
       "1245     9.802226e+08      1400222610  \n",
       "1246     7.296538e+06        21000000  \n",
       "1247     1.283270e+05         1000000  \n",
       "\n",
       "[1144 rows x 7 columns]"
      ]
     },
     "execution_count": 6,
     "metadata": {},
     "output_type": "execute_result"
    }
   ],
   "source": [
    "# Keep all the cryptocurrencies that are being traded.\n",
    "crypto_df = crypto_df[crypto_df.IsTrading == 1]\n",
    "crypto_df"
   ]
  },
  {
   "cell_type": "code",
   "execution_count": 7,
   "metadata": {},
   "outputs": [
    {
     "name": "stdout",
     "output_type": "stream",
     "text": [
      "Column Unnamed: 0 has 0 null values\n",
      "Column CoinName has 0 null values\n",
      "Column Algorithm has 0 null values\n",
      "Column IsTrading has 0 null values\n",
      "Column ProofType has 0 null values\n",
      "Column TotalCoinsMined has 459 null values\n",
      "Column TotalCoinSupply has 0 null values\n"
     ]
    }
   ],
   "source": [
    "for column in crypto_df.columns:\n",
    "    print(f\"Column {column} has {crypto_df[column].isnull().sum()} null values\")"
   ]
  },
  {
   "cell_type": "code",
   "execution_count": 8,
   "metadata": {},
   "outputs": [],
   "source": [
    "# Keep all the cryptocurrencies that have a working algorithm.\n"
   ]
  },
  {
   "cell_type": "code",
   "execution_count": 9,
   "metadata": {},
   "outputs": [
    {
     "data": {
      "text/html": [
       "<div>\n",
       "<style scoped>\n",
       "    .dataframe tbody tr th:only-of-type {\n",
       "        vertical-align: middle;\n",
       "    }\n",
       "\n",
       "    .dataframe tbody tr th {\n",
       "        vertical-align: top;\n",
       "    }\n",
       "\n",
       "    .dataframe thead th {\n",
       "        text-align: right;\n",
       "    }\n",
       "</style>\n",
       "<table border=\"1\" class=\"dataframe\">\n",
       "  <thead>\n",
       "    <tr style=\"text-align: right;\">\n",
       "      <th></th>\n",
       "      <th>Unnamed: 0</th>\n",
       "      <th>CoinName</th>\n",
       "      <th>Algorithm</th>\n",
       "      <th>ProofType</th>\n",
       "      <th>TotalCoinsMined</th>\n",
       "      <th>TotalCoinSupply</th>\n",
       "    </tr>\n",
       "  </thead>\n",
       "  <tbody>\n",
       "    <tr>\n",
       "      <th>0</th>\n",
       "      <td>42</td>\n",
       "      <td>42 Coin</td>\n",
       "      <td>Scrypt</td>\n",
       "      <td>PoW/PoS</td>\n",
       "      <td>4.199995e+01</td>\n",
       "      <td>42</td>\n",
       "    </tr>\n",
       "    <tr>\n",
       "      <th>1</th>\n",
       "      <td>365</td>\n",
       "      <td>365Coin</td>\n",
       "      <td>X11</td>\n",
       "      <td>PoW/PoS</td>\n",
       "      <td>NaN</td>\n",
       "      <td>2300000000</td>\n",
       "    </tr>\n",
       "    <tr>\n",
       "      <th>2</th>\n",
       "      <td>404</td>\n",
       "      <td>404Coin</td>\n",
       "      <td>Scrypt</td>\n",
       "      <td>PoW/PoS</td>\n",
       "      <td>1.055185e+09</td>\n",
       "      <td>532000000</td>\n",
       "    </tr>\n",
       "    <tr>\n",
       "      <th>3</th>\n",
       "      <td>611</td>\n",
       "      <td>SixEleven</td>\n",
       "      <td>SHA-256</td>\n",
       "      <td>PoW</td>\n",
       "      <td>NaN</td>\n",
       "      <td>611000</td>\n",
       "    </tr>\n",
       "    <tr>\n",
       "      <th>4</th>\n",
       "      <td>808</td>\n",
       "      <td>808</td>\n",
       "      <td>SHA-256</td>\n",
       "      <td>PoW/PoS</td>\n",
       "      <td>0.000000e+00</td>\n",
       "      <td>0</td>\n",
       "    </tr>\n",
       "  </tbody>\n",
       "</table>\n",
       "</div>"
      ],
      "text/plain": [
       "  Unnamed: 0   CoinName Algorithm ProofType  TotalCoinsMined TotalCoinSupply\n",
       "0         42    42 Coin    Scrypt   PoW/PoS     4.199995e+01              42\n",
       "1        365    365Coin       X11   PoW/PoS              NaN      2300000000\n",
       "2        404    404Coin    Scrypt   PoW/PoS     1.055185e+09       532000000\n",
       "3        611  SixEleven   SHA-256       PoW              NaN          611000\n",
       "4        808        808   SHA-256   PoW/PoS     0.000000e+00               0"
      ]
     },
     "execution_count": 9,
     "metadata": {},
     "output_type": "execute_result"
    }
   ],
   "source": [
    "# Remove the \"IsTrading\" column. \n",
    "crypto_df.drop(columns=[\"IsTrading\"], inplace=True)\n",
    "crypto_df.head()"
   ]
  },
  {
   "cell_type": "code",
   "execution_count": 10,
   "metadata": {},
   "outputs": [
    {
     "data": {
      "text/plain": [
       "(685, 6)"
      ]
     },
     "execution_count": 10,
     "metadata": {},
     "output_type": "execute_result"
    }
   ],
   "source": [
    "# Remove rows that have at least 1 null value.\n",
    "crypto_df = crypto_df.dropna()\n",
    "crypto_df.shape\n"
   ]
  },
  {
   "cell_type": "code",
   "execution_count": 11,
   "metadata": {},
   "outputs": [
    {
     "data": {
      "text/html": [
       "<div>\n",
       "<style scoped>\n",
       "    .dataframe tbody tr th:only-of-type {\n",
       "        vertical-align: middle;\n",
       "    }\n",
       "\n",
       "    .dataframe tbody tr th {\n",
       "        vertical-align: top;\n",
       "    }\n",
       "\n",
       "    .dataframe thead th {\n",
       "        text-align: right;\n",
       "    }\n",
       "</style>\n",
       "<table border=\"1\" class=\"dataframe\">\n",
       "  <thead>\n",
       "    <tr style=\"text-align: right;\">\n",
       "      <th></th>\n",
       "      <th>Unnamed: 0</th>\n",
       "      <th>CoinName</th>\n",
       "      <th>Algorithm</th>\n",
       "      <th>ProofType</th>\n",
       "      <th>TotalCoinsMined</th>\n",
       "      <th>TotalCoinSupply</th>\n",
       "    </tr>\n",
       "  </thead>\n",
       "  <tbody>\n",
       "    <tr>\n",
       "      <th>0</th>\n",
       "      <td>42</td>\n",
       "      <td>42 Coin</td>\n",
       "      <td>Scrypt</td>\n",
       "      <td>PoW/PoS</td>\n",
       "      <td>4.199995e+01</td>\n",
       "      <td>42</td>\n",
       "    </tr>\n",
       "    <tr>\n",
       "      <th>2</th>\n",
       "      <td>404</td>\n",
       "      <td>404Coin</td>\n",
       "      <td>Scrypt</td>\n",
       "      <td>PoW/PoS</td>\n",
       "      <td>1.055185e+09</td>\n",
       "      <td>532000000</td>\n",
       "    </tr>\n",
       "    <tr>\n",
       "      <th>4</th>\n",
       "      <td>808</td>\n",
       "      <td>808</td>\n",
       "      <td>SHA-256</td>\n",
       "      <td>PoW/PoS</td>\n",
       "      <td>0.000000e+00</td>\n",
       "      <td>0</td>\n",
       "    </tr>\n",
       "    <tr>\n",
       "      <th>5</th>\n",
       "      <td>1337</td>\n",
       "      <td>EliteCoin</td>\n",
       "      <td>X13</td>\n",
       "      <td>PoW/PoS</td>\n",
       "      <td>2.927942e+10</td>\n",
       "      <td>314159265359</td>\n",
       "    </tr>\n",
       "    <tr>\n",
       "      <th>7</th>\n",
       "      <td>BTC</td>\n",
       "      <td>Bitcoin</td>\n",
       "      <td>SHA-256</td>\n",
       "      <td>PoW</td>\n",
       "      <td>1.792718e+07</td>\n",
       "      <td>21000000</td>\n",
       "    </tr>\n",
       "  </tbody>\n",
       "</table>\n",
       "</div>"
      ],
      "text/plain": [
       "  Unnamed: 0   CoinName Algorithm ProofType  TotalCoinsMined TotalCoinSupply\n",
       "0         42    42 Coin    Scrypt   PoW/PoS     4.199995e+01              42\n",
       "2        404    404Coin    Scrypt   PoW/PoS     1.055185e+09       532000000\n",
       "4        808        808   SHA-256   PoW/PoS     0.000000e+00               0\n",
       "5       1337  EliteCoin       X13   PoW/PoS     2.927942e+10    314159265359\n",
       "7        BTC    Bitcoin   SHA-256       PoW     1.792718e+07        21000000"
      ]
     },
     "execution_count": 11,
     "metadata": {},
     "output_type": "execute_result"
    }
   ],
   "source": [
    "crypto_df.head()"
   ]
  },
  {
   "cell_type": "code",
   "execution_count": 12,
   "metadata": {},
   "outputs": [
    {
     "data": {
      "text/html": [
       "<div>\n",
       "<style scoped>\n",
       "    .dataframe tbody tr th:only-of-type {\n",
       "        vertical-align: middle;\n",
       "    }\n",
       "\n",
       "    .dataframe tbody tr th {\n",
       "        vertical-align: top;\n",
       "    }\n",
       "\n",
       "    .dataframe thead th {\n",
       "        text-align: right;\n",
       "    }\n",
       "</style>\n",
       "<table border=\"1\" class=\"dataframe\">\n",
       "  <thead>\n",
       "    <tr style=\"text-align: right;\">\n",
       "      <th></th>\n",
       "      <th>Unnamed: 0</th>\n",
       "      <th>CoinName</th>\n",
       "      <th>Algorithm</th>\n",
       "      <th>ProofType</th>\n",
       "      <th>TotalCoinsMined</th>\n",
       "      <th>TotalCoinSupply</th>\n",
       "    </tr>\n",
       "  </thead>\n",
       "  <tbody>\n",
       "    <tr>\n",
       "      <th>0</th>\n",
       "      <td>42</td>\n",
       "      <td>42 Coin</td>\n",
       "      <td>Scrypt</td>\n",
       "      <td>PoW/PoS</td>\n",
       "      <td>4.199995e+01</td>\n",
       "      <td>42</td>\n",
       "    </tr>\n",
       "    <tr>\n",
       "      <th>2</th>\n",
       "      <td>404</td>\n",
       "      <td>404Coin</td>\n",
       "      <td>Scrypt</td>\n",
       "      <td>PoW/PoS</td>\n",
       "      <td>1.055185e+09</td>\n",
       "      <td>532000000</td>\n",
       "    </tr>\n",
       "    <tr>\n",
       "      <th>5</th>\n",
       "      <td>1337</td>\n",
       "      <td>EliteCoin</td>\n",
       "      <td>X13</td>\n",
       "      <td>PoW/PoS</td>\n",
       "      <td>2.927942e+10</td>\n",
       "      <td>314159265359</td>\n",
       "    </tr>\n",
       "    <tr>\n",
       "      <th>7</th>\n",
       "      <td>BTC</td>\n",
       "      <td>Bitcoin</td>\n",
       "      <td>SHA-256</td>\n",
       "      <td>PoW</td>\n",
       "      <td>1.792718e+07</td>\n",
       "      <td>21000000</td>\n",
       "    </tr>\n",
       "    <tr>\n",
       "      <th>8</th>\n",
       "      <td>ETH</td>\n",
       "      <td>Ethereum</td>\n",
       "      <td>Ethash</td>\n",
       "      <td>PoW</td>\n",
       "      <td>1.076842e+08</td>\n",
       "      <td>0</td>\n",
       "    </tr>\n",
       "  </tbody>\n",
       "</table>\n",
       "</div>"
      ],
      "text/plain": [
       "  Unnamed: 0   CoinName Algorithm ProofType  TotalCoinsMined TotalCoinSupply\n",
       "0         42    42 Coin    Scrypt   PoW/PoS     4.199995e+01              42\n",
       "2        404    404Coin    Scrypt   PoW/PoS     1.055185e+09       532000000\n",
       "5       1337  EliteCoin       X13   PoW/PoS     2.927942e+10    314159265359\n",
       "7        BTC    Bitcoin   SHA-256       PoW     1.792718e+07        21000000\n",
       "8        ETH   Ethereum    Ethash       PoW     1.076842e+08               0"
      ]
     },
     "execution_count": 12,
     "metadata": {},
     "output_type": "execute_result"
    }
   ],
   "source": [
    "# Keep the rows where coins are mined.\n",
    "crypto_df = crypto_df[crypto_df.TotalCoinsMined > 0]\n",
    "crypto_df.head()"
   ]
  },
  {
   "cell_type": "code",
   "execution_count": 13,
   "metadata": {},
   "outputs": [
    {
     "data": {
      "text/html": [
       "<div>\n",
       "<style scoped>\n",
       "    .dataframe tbody tr th:only-of-type {\n",
       "        vertical-align: middle;\n",
       "    }\n",
       "\n",
       "    .dataframe tbody tr th {\n",
       "        vertical-align: top;\n",
       "    }\n",
       "\n",
       "    .dataframe thead th {\n",
       "        text-align: right;\n",
       "    }\n",
       "</style>\n",
       "<table border=\"1\" class=\"dataframe\">\n",
       "  <thead>\n",
       "    <tr style=\"text-align: right;\">\n",
       "      <th></th>\n",
       "      <th>CoinName</th>\n",
       "    </tr>\n",
       "  </thead>\n",
       "  <tbody>\n",
       "    <tr>\n",
       "      <th>0</th>\n",
       "      <td>42 Coin</td>\n",
       "    </tr>\n",
       "    <tr>\n",
       "      <th>2</th>\n",
       "      <td>404Coin</td>\n",
       "    </tr>\n",
       "    <tr>\n",
       "      <th>5</th>\n",
       "      <td>EliteCoin</td>\n",
       "    </tr>\n",
       "    <tr>\n",
       "      <th>7</th>\n",
       "      <td>Bitcoin</td>\n",
       "    </tr>\n",
       "    <tr>\n",
       "      <th>8</th>\n",
       "      <td>Ethereum</td>\n",
       "    </tr>\n",
       "    <tr>\n",
       "      <th>...</th>\n",
       "      <td>...</td>\n",
       "    </tr>\n",
       "    <tr>\n",
       "      <th>1238</th>\n",
       "      <td>ZEPHYR</td>\n",
       "    </tr>\n",
       "    <tr>\n",
       "      <th>1242</th>\n",
       "      <td>Gapcoin</td>\n",
       "    </tr>\n",
       "    <tr>\n",
       "      <th>1245</th>\n",
       "      <td>Beldex</td>\n",
       "    </tr>\n",
       "    <tr>\n",
       "      <th>1246</th>\n",
       "      <td>Horizen</td>\n",
       "    </tr>\n",
       "    <tr>\n",
       "      <th>1247</th>\n",
       "      <td>BitcoinPlus</td>\n",
       "    </tr>\n",
       "  </tbody>\n",
       "</table>\n",
       "<p>532 rows × 1 columns</p>\n",
       "</div>"
      ],
      "text/plain": [
       "         CoinName\n",
       "0         42 Coin\n",
       "2         404Coin\n",
       "5       EliteCoin\n",
       "7         Bitcoin\n",
       "8        Ethereum\n",
       "...           ...\n",
       "1238       ZEPHYR\n",
       "1242      Gapcoin\n",
       "1245       Beldex\n",
       "1246      Horizen\n",
       "1247  BitcoinPlus\n",
       "\n",
       "[532 rows x 1 columns]"
      ]
     },
     "execution_count": 13,
     "metadata": {},
     "output_type": "execute_result"
    }
   ],
   "source": [
    "# Create a new DataFrame that holds only the cryptocurrencies names.\n",
    "name_df = crypto_df.filter([\"CoinName\"])\n",
    "name_df"
   ]
  },
  {
   "cell_type": "code",
   "execution_count": 14,
   "metadata": {},
   "outputs": [
    {
     "data": {
      "text/html": [
       "<div>\n",
       "<style scoped>\n",
       "    .dataframe tbody tr th:only-of-type {\n",
       "        vertical-align: middle;\n",
       "    }\n",
       "\n",
       "    .dataframe tbody tr th {\n",
       "        vertical-align: top;\n",
       "    }\n",
       "\n",
       "    .dataframe thead th {\n",
       "        text-align: right;\n",
       "    }\n",
       "</style>\n",
       "<table border=\"1\" class=\"dataframe\">\n",
       "  <thead>\n",
       "    <tr style=\"text-align: right;\">\n",
       "      <th></th>\n",
       "      <th>Algorithm</th>\n",
       "      <th>ProofType</th>\n",
       "      <th>TotalCoinsMined</th>\n",
       "      <th>TotalCoinSupply</th>\n",
       "    </tr>\n",
       "  </thead>\n",
       "  <tbody>\n",
       "    <tr>\n",
       "      <th>0</th>\n",
       "      <td>Scrypt</td>\n",
       "      <td>PoW/PoS</td>\n",
       "      <td>4.199995e+01</td>\n",
       "      <td>42</td>\n",
       "    </tr>\n",
       "    <tr>\n",
       "      <th>2</th>\n",
       "      <td>Scrypt</td>\n",
       "      <td>PoW/PoS</td>\n",
       "      <td>1.055185e+09</td>\n",
       "      <td>532000000</td>\n",
       "    </tr>\n",
       "    <tr>\n",
       "      <th>5</th>\n",
       "      <td>X13</td>\n",
       "      <td>PoW/PoS</td>\n",
       "      <td>2.927942e+10</td>\n",
       "      <td>314159265359</td>\n",
       "    </tr>\n",
       "    <tr>\n",
       "      <th>7</th>\n",
       "      <td>SHA-256</td>\n",
       "      <td>PoW</td>\n",
       "      <td>1.792718e+07</td>\n",
       "      <td>21000000</td>\n",
       "    </tr>\n",
       "    <tr>\n",
       "      <th>8</th>\n",
       "      <td>Ethash</td>\n",
       "      <td>PoW</td>\n",
       "      <td>1.076842e+08</td>\n",
       "      <td>0</td>\n",
       "    </tr>\n",
       "    <tr>\n",
       "      <th>...</th>\n",
       "      <td>...</td>\n",
       "      <td>...</td>\n",
       "      <td>...</td>\n",
       "      <td>...</td>\n",
       "    </tr>\n",
       "    <tr>\n",
       "      <th>1238</th>\n",
       "      <td>SHA-256</td>\n",
       "      <td>DPoS</td>\n",
       "      <td>2.000000e+09</td>\n",
       "      <td>2000000000</td>\n",
       "    </tr>\n",
       "    <tr>\n",
       "      <th>1242</th>\n",
       "      <td>Scrypt</td>\n",
       "      <td>PoW/PoS</td>\n",
       "      <td>1.493105e+07</td>\n",
       "      <td>250000000</td>\n",
       "    </tr>\n",
       "    <tr>\n",
       "      <th>1245</th>\n",
       "      <td>CryptoNight</td>\n",
       "      <td>PoW</td>\n",
       "      <td>9.802226e+08</td>\n",
       "      <td>1400222610</td>\n",
       "    </tr>\n",
       "    <tr>\n",
       "      <th>1246</th>\n",
       "      <td>Equihash</td>\n",
       "      <td>PoW</td>\n",
       "      <td>7.296538e+06</td>\n",
       "      <td>21000000</td>\n",
       "    </tr>\n",
       "    <tr>\n",
       "      <th>1247</th>\n",
       "      <td>Scrypt</td>\n",
       "      <td>PoS</td>\n",
       "      <td>1.283270e+05</td>\n",
       "      <td>1000000</td>\n",
       "    </tr>\n",
       "  </tbody>\n",
       "</table>\n",
       "<p>532 rows × 4 columns</p>\n",
       "</div>"
      ],
      "text/plain": [
       "        Algorithm ProofType  TotalCoinsMined TotalCoinSupply\n",
       "0          Scrypt   PoW/PoS     4.199995e+01              42\n",
       "2          Scrypt   PoW/PoS     1.055185e+09       532000000\n",
       "5             X13   PoW/PoS     2.927942e+10    314159265359\n",
       "7         SHA-256       PoW     1.792718e+07        21000000\n",
       "8          Ethash       PoW     1.076842e+08               0\n",
       "...           ...       ...              ...             ...\n",
       "1238      SHA-256      DPoS     2.000000e+09      2000000000\n",
       "1242       Scrypt   PoW/PoS     1.493105e+07       250000000\n",
       "1245  CryptoNight       PoW     9.802226e+08      1400222610\n",
       "1246     Equihash       PoW     7.296538e+06        21000000\n",
       "1247       Scrypt       PoS     1.283270e+05         1000000\n",
       "\n",
       "[532 rows x 4 columns]"
      ]
     },
     "execution_count": 14,
     "metadata": {},
     "output_type": "execute_result"
    }
   ],
   "source": [
    "# Drop the 'CoinName' column since it's not going to be used on the clustering algorithm.\n",
    "crypto_df = crypto_df.drop(['Unnamed: 0', 'CoinName'], axis=1)\n",
    "crypto_df"
   ]
  },
  {
   "cell_type": "code",
   "execution_count": 15,
   "metadata": {},
   "outputs": [
    {
     "data": {
      "text/html": [
       "<div>\n",
       "<style scoped>\n",
       "    .dataframe tbody tr th:only-of-type {\n",
       "        vertical-align: middle;\n",
       "    }\n",
       "\n",
       "    .dataframe tbody tr th {\n",
       "        vertical-align: top;\n",
       "    }\n",
       "\n",
       "    .dataframe thead th {\n",
       "        text-align: right;\n",
       "    }\n",
       "</style>\n",
       "<table border=\"1\" class=\"dataframe\">\n",
       "  <thead>\n",
       "    <tr style=\"text-align: right;\">\n",
       "      <th></th>\n",
       "      <th>TotalCoinsMined</th>\n",
       "      <th>TotalCoinSupply</th>\n",
       "      <th>alg_1GB AES Pattern Search</th>\n",
       "      <th>alg_536</th>\n",
       "      <th>alg_Argon2d</th>\n",
       "      <th>alg_BLAKE256</th>\n",
       "      <th>alg_Blake</th>\n",
       "      <th>alg_Blake2S</th>\n",
       "      <th>alg_Blake2b</th>\n",
       "      <th>alg_C11</th>\n",
       "      <th>...</th>\n",
       "      <th>proof_PoW/PoS</th>\n",
       "      <th>proof_PoW/PoS</th>\n",
       "      <th>proof_PoW/PoW</th>\n",
       "      <th>proof_PoW/nPoS</th>\n",
       "      <th>proof_Pos</th>\n",
       "      <th>proof_Proof of Authority</th>\n",
       "      <th>proof_Proof of Trust</th>\n",
       "      <th>proof_TPoS</th>\n",
       "      <th>proof_Zero-Knowledge Proof</th>\n",
       "      <th>proof_dPoW/PoW</th>\n",
       "    </tr>\n",
       "  </thead>\n",
       "  <tbody>\n",
       "    <tr>\n",
       "      <th>0</th>\n",
       "      <td>4.199995e+01</td>\n",
       "      <td>42</td>\n",
       "      <td>0</td>\n",
       "      <td>0</td>\n",
       "      <td>0</td>\n",
       "      <td>0</td>\n",
       "      <td>0</td>\n",
       "      <td>0</td>\n",
       "      <td>0</td>\n",
       "      <td>0</td>\n",
       "      <td>...</td>\n",
       "      <td>1</td>\n",
       "      <td>0</td>\n",
       "      <td>0</td>\n",
       "      <td>0</td>\n",
       "      <td>0</td>\n",
       "      <td>0</td>\n",
       "      <td>0</td>\n",
       "      <td>0</td>\n",
       "      <td>0</td>\n",
       "      <td>0</td>\n",
       "    </tr>\n",
       "    <tr>\n",
       "      <th>2</th>\n",
       "      <td>1.055185e+09</td>\n",
       "      <td>532000000</td>\n",
       "      <td>0</td>\n",
       "      <td>0</td>\n",
       "      <td>0</td>\n",
       "      <td>0</td>\n",
       "      <td>0</td>\n",
       "      <td>0</td>\n",
       "      <td>0</td>\n",
       "      <td>0</td>\n",
       "      <td>...</td>\n",
       "      <td>1</td>\n",
       "      <td>0</td>\n",
       "      <td>0</td>\n",
       "      <td>0</td>\n",
       "      <td>0</td>\n",
       "      <td>0</td>\n",
       "      <td>0</td>\n",
       "      <td>0</td>\n",
       "      <td>0</td>\n",
       "      <td>0</td>\n",
       "    </tr>\n",
       "    <tr>\n",
       "      <th>5</th>\n",
       "      <td>2.927942e+10</td>\n",
       "      <td>314159265359</td>\n",
       "      <td>0</td>\n",
       "      <td>0</td>\n",
       "      <td>0</td>\n",
       "      <td>0</td>\n",
       "      <td>0</td>\n",
       "      <td>0</td>\n",
       "      <td>0</td>\n",
       "      <td>0</td>\n",
       "      <td>...</td>\n",
       "      <td>1</td>\n",
       "      <td>0</td>\n",
       "      <td>0</td>\n",
       "      <td>0</td>\n",
       "      <td>0</td>\n",
       "      <td>0</td>\n",
       "      <td>0</td>\n",
       "      <td>0</td>\n",
       "      <td>0</td>\n",
       "      <td>0</td>\n",
       "    </tr>\n",
       "    <tr>\n",
       "      <th>7</th>\n",
       "      <td>1.792718e+07</td>\n",
       "      <td>21000000</td>\n",
       "      <td>0</td>\n",
       "      <td>0</td>\n",
       "      <td>0</td>\n",
       "      <td>0</td>\n",
       "      <td>0</td>\n",
       "      <td>0</td>\n",
       "      <td>0</td>\n",
       "      <td>0</td>\n",
       "      <td>...</td>\n",
       "      <td>0</td>\n",
       "      <td>0</td>\n",
       "      <td>0</td>\n",
       "      <td>0</td>\n",
       "      <td>0</td>\n",
       "      <td>0</td>\n",
       "      <td>0</td>\n",
       "      <td>0</td>\n",
       "      <td>0</td>\n",
       "      <td>0</td>\n",
       "    </tr>\n",
       "    <tr>\n",
       "      <th>8</th>\n",
       "      <td>1.076842e+08</td>\n",
       "      <td>0</td>\n",
       "      <td>0</td>\n",
       "      <td>0</td>\n",
       "      <td>0</td>\n",
       "      <td>0</td>\n",
       "      <td>0</td>\n",
       "      <td>0</td>\n",
       "      <td>0</td>\n",
       "      <td>0</td>\n",
       "      <td>...</td>\n",
       "      <td>0</td>\n",
       "      <td>0</td>\n",
       "      <td>0</td>\n",
       "      <td>0</td>\n",
       "      <td>0</td>\n",
       "      <td>0</td>\n",
       "      <td>0</td>\n",
       "      <td>0</td>\n",
       "      <td>0</td>\n",
       "      <td>0</td>\n",
       "    </tr>\n",
       "    <tr>\n",
       "      <th>...</th>\n",
       "      <td>...</td>\n",
       "      <td>...</td>\n",
       "      <td>...</td>\n",
       "      <td>...</td>\n",
       "      <td>...</td>\n",
       "      <td>...</td>\n",
       "      <td>...</td>\n",
       "      <td>...</td>\n",
       "      <td>...</td>\n",
       "      <td>...</td>\n",
       "      <td>...</td>\n",
       "      <td>...</td>\n",
       "      <td>...</td>\n",
       "      <td>...</td>\n",
       "      <td>...</td>\n",
       "      <td>...</td>\n",
       "      <td>...</td>\n",
       "      <td>...</td>\n",
       "      <td>...</td>\n",
       "      <td>...</td>\n",
       "      <td>...</td>\n",
       "    </tr>\n",
       "    <tr>\n",
       "      <th>1238</th>\n",
       "      <td>2.000000e+09</td>\n",
       "      <td>2000000000</td>\n",
       "      <td>0</td>\n",
       "      <td>0</td>\n",
       "      <td>0</td>\n",
       "      <td>0</td>\n",
       "      <td>0</td>\n",
       "      <td>0</td>\n",
       "      <td>0</td>\n",
       "      <td>0</td>\n",
       "      <td>...</td>\n",
       "      <td>0</td>\n",
       "      <td>0</td>\n",
       "      <td>0</td>\n",
       "      <td>0</td>\n",
       "      <td>0</td>\n",
       "      <td>0</td>\n",
       "      <td>0</td>\n",
       "      <td>0</td>\n",
       "      <td>0</td>\n",
       "      <td>0</td>\n",
       "    </tr>\n",
       "    <tr>\n",
       "      <th>1242</th>\n",
       "      <td>1.493105e+07</td>\n",
       "      <td>250000000</td>\n",
       "      <td>0</td>\n",
       "      <td>0</td>\n",
       "      <td>0</td>\n",
       "      <td>0</td>\n",
       "      <td>0</td>\n",
       "      <td>0</td>\n",
       "      <td>0</td>\n",
       "      <td>0</td>\n",
       "      <td>...</td>\n",
       "      <td>1</td>\n",
       "      <td>0</td>\n",
       "      <td>0</td>\n",
       "      <td>0</td>\n",
       "      <td>0</td>\n",
       "      <td>0</td>\n",
       "      <td>0</td>\n",
       "      <td>0</td>\n",
       "      <td>0</td>\n",
       "      <td>0</td>\n",
       "    </tr>\n",
       "    <tr>\n",
       "      <th>1245</th>\n",
       "      <td>9.802226e+08</td>\n",
       "      <td>1400222610</td>\n",
       "      <td>0</td>\n",
       "      <td>0</td>\n",
       "      <td>0</td>\n",
       "      <td>0</td>\n",
       "      <td>0</td>\n",
       "      <td>0</td>\n",
       "      <td>0</td>\n",
       "      <td>0</td>\n",
       "      <td>...</td>\n",
       "      <td>0</td>\n",
       "      <td>0</td>\n",
       "      <td>0</td>\n",
       "      <td>0</td>\n",
       "      <td>0</td>\n",
       "      <td>0</td>\n",
       "      <td>0</td>\n",
       "      <td>0</td>\n",
       "      <td>0</td>\n",
       "      <td>0</td>\n",
       "    </tr>\n",
       "    <tr>\n",
       "      <th>1246</th>\n",
       "      <td>7.296538e+06</td>\n",
       "      <td>21000000</td>\n",
       "      <td>0</td>\n",
       "      <td>0</td>\n",
       "      <td>0</td>\n",
       "      <td>0</td>\n",
       "      <td>0</td>\n",
       "      <td>0</td>\n",
       "      <td>0</td>\n",
       "      <td>0</td>\n",
       "      <td>...</td>\n",
       "      <td>0</td>\n",
       "      <td>0</td>\n",
       "      <td>0</td>\n",
       "      <td>0</td>\n",
       "      <td>0</td>\n",
       "      <td>0</td>\n",
       "      <td>0</td>\n",
       "      <td>0</td>\n",
       "      <td>0</td>\n",
       "      <td>0</td>\n",
       "    </tr>\n",
       "    <tr>\n",
       "      <th>1247</th>\n",
       "      <td>1.283270e+05</td>\n",
       "      <td>1000000</td>\n",
       "      <td>0</td>\n",
       "      <td>0</td>\n",
       "      <td>0</td>\n",
       "      <td>0</td>\n",
       "      <td>0</td>\n",
       "      <td>0</td>\n",
       "      <td>0</td>\n",
       "      <td>0</td>\n",
       "      <td>...</td>\n",
       "      <td>0</td>\n",
       "      <td>0</td>\n",
       "      <td>0</td>\n",
       "      <td>0</td>\n",
       "      <td>0</td>\n",
       "      <td>0</td>\n",
       "      <td>0</td>\n",
       "      <td>0</td>\n",
       "      <td>0</td>\n",
       "      <td>0</td>\n",
       "    </tr>\n",
       "  </tbody>\n",
       "</table>\n",
       "<p>532 rows × 98 columns</p>\n",
       "</div>"
      ],
      "text/plain": [
       "      TotalCoinsMined TotalCoinSupply  alg_1GB AES Pattern Search  alg_536  \\\n",
       "0        4.199995e+01              42                           0        0   \n",
       "2        1.055185e+09       532000000                           0        0   \n",
       "5        2.927942e+10    314159265359                           0        0   \n",
       "7        1.792718e+07        21000000                           0        0   \n",
       "8        1.076842e+08               0                           0        0   \n",
       "...               ...             ...                         ...      ...   \n",
       "1238     2.000000e+09      2000000000                           0        0   \n",
       "1242     1.493105e+07       250000000                           0        0   \n",
       "1245     9.802226e+08      1400222610                           0        0   \n",
       "1246     7.296538e+06        21000000                           0        0   \n",
       "1247     1.283270e+05         1000000                           0        0   \n",
       "\n",
       "      alg_Argon2d  alg_BLAKE256  alg_Blake  alg_Blake2S  alg_Blake2b  alg_C11  \\\n",
       "0               0             0          0            0            0        0   \n",
       "2               0             0          0            0            0        0   \n",
       "5               0             0          0            0            0        0   \n",
       "7               0             0          0            0            0        0   \n",
       "8               0             0          0            0            0        0   \n",
       "...           ...           ...        ...          ...          ...      ...   \n",
       "1238            0             0          0            0            0        0   \n",
       "1242            0             0          0            0            0        0   \n",
       "1245            0             0          0            0            0        0   \n",
       "1246            0             0          0            0            0        0   \n",
       "1247            0             0          0            0            0        0   \n",
       "\n",
       "      ...  proof_PoW/PoS  proof_PoW/PoS   proof_PoW/PoW  proof_PoW/nPoS  \\\n",
       "0     ...              1               0              0               0   \n",
       "2     ...              1               0              0               0   \n",
       "5     ...              1               0              0               0   \n",
       "7     ...              0               0              0               0   \n",
       "8     ...              0               0              0               0   \n",
       "...   ...            ...             ...            ...             ...   \n",
       "1238  ...              0               0              0               0   \n",
       "1242  ...              1               0              0               0   \n",
       "1245  ...              0               0              0               0   \n",
       "1246  ...              0               0              0               0   \n",
       "1247  ...              0               0              0               0   \n",
       "\n",
       "      proof_Pos  proof_Proof of Authority  proof_Proof of Trust  proof_TPoS  \\\n",
       "0             0                         0                     0           0   \n",
       "2             0                         0                     0           0   \n",
       "5             0                         0                     0           0   \n",
       "7             0                         0                     0           0   \n",
       "8             0                         0                     0           0   \n",
       "...         ...                       ...                   ...         ...   \n",
       "1238          0                         0                     0           0   \n",
       "1242          0                         0                     0           0   \n",
       "1245          0                         0                     0           0   \n",
       "1246          0                         0                     0           0   \n",
       "1247          0                         0                     0           0   \n",
       "\n",
       "      proof_Zero-Knowledge Proof  proof_dPoW/PoW  \n",
       "0                              0               0  \n",
       "2                              0               0  \n",
       "5                              0               0  \n",
       "7                              0               0  \n",
       "8                              0               0  \n",
       "...                          ...             ...  \n",
       "1238                           0               0  \n",
       "1242                           0               0  \n",
       "1245                           0               0  \n",
       "1246                           0               0  \n",
       "1247                           0               0  \n",
       "\n",
       "[532 rows x 98 columns]"
      ]
     },
     "execution_count": 15,
     "metadata": {},
     "output_type": "execute_result"
    }
   ],
   "source": [
    "# Use get_dummies() to create variables for text features.\n",
    "dummies = pd.get_dummies(crypto_df[\"Algorithm\"], prefix=\"alg\")\n",
    "dummies2=pd.get_dummies(crypto_df[\"ProofType\"], prefix=\"proof\")\n",
    "combined = crypto_df.join(dummies, how='inner')\n",
    "\n",
    "crypto_df2 = combined.join(dummies2, how='inner')\n",
    "X = crypto_df2.drop([\"Algorithm\", \"ProofType\"], axis =1)\n",
    "X"
   ]
  },
  {
   "cell_type": "code",
   "execution_count": 16,
   "metadata": {},
   "outputs": [
    {
     "data": {
      "text/plain": [
       "array([[-0.11710817, -0.1528703 , -0.0433963 , ..., -0.0433963 ,\n",
       "        -0.0433963 , -0.0433963 ],\n",
       "       [-0.09396955, -0.145009  , -0.0433963 , ..., -0.0433963 ,\n",
       "        -0.0433963 , -0.0433963 ],\n",
       "       [ 0.52494561,  4.48942416, -0.0433963 , ..., -0.0433963 ,\n",
       "        -0.0433963 , -0.0433963 ],\n",
       "       ...,\n",
       "       [-0.09561336, -0.13217937, -0.0433963 , ..., -0.0433963 ,\n",
       "        -0.0433963 , -0.0433963 ],\n",
       "       [-0.11694817, -0.15255998, -0.0433963 , ..., -0.0433963 ,\n",
       "        -0.0433963 , -0.0433963 ],\n",
       "       [-0.11710536, -0.15285552, -0.0433963 , ..., -0.0433963 ,\n",
       "        -0.0433963 , -0.0433963 ]])"
      ]
     },
     "execution_count": 16,
     "metadata": {},
     "output_type": "execute_result"
    }
   ],
   "source": [
    "# Standardize the data with StandardScaler().\n",
    "from sklearn.preprocessing import StandardScaler\n",
    "X_scaled = StandardScaler().fit_transform(X)\n",
    "X_scaled"
   ]
  },
  {
   "cell_type": "markdown",
   "metadata": {},
   "source": [
    "### Deliverable 2: Reducing Data Dimensions Using PCA"
   ]
  },
  {
   "cell_type": "code",
   "execution_count": 43,
   "metadata": {},
   "outputs": [
    {
     "name": "stdout",
     "output_type": "stream",
     "text": [
      "[0.02793125 0.02138122 0.02045687]\n"
     ]
    }
   ],
   "source": [
    "# Using PCA to reduce dimension to three principal components.\n",
    "pca = PCA(n_components=3)\n",
    "pca.fit(X_scaled)\n",
    "print(pca.explained_variance_ratio_)\n",
    "\n",
    "X_pca = pca.transform(X_scaled)"
   ]
  },
  {
   "cell_type": "code",
   "execution_count": 44,
   "metadata": {},
   "outputs": [
    {
     "data": {
      "text/html": [
       "<div>\n",
       "<style scoped>\n",
       "    .dataframe tbody tr th:only-of-type {\n",
       "        vertical-align: middle;\n",
       "    }\n",
       "\n",
       "    .dataframe tbody tr th {\n",
       "        vertical-align: top;\n",
       "    }\n",
       "\n",
       "    .dataframe thead th {\n",
       "        text-align: right;\n",
       "    }\n",
       "</style>\n",
       "<table border=\"1\" class=\"dataframe\">\n",
       "  <thead>\n",
       "    <tr style=\"text-align: right;\">\n",
       "      <th></th>\n",
       "      <th>principal component 1</th>\n",
       "      <th>principal component 2</th>\n",
       "      <th>principal component 3</th>\n",
       "    </tr>\n",
       "  </thead>\n",
       "  <tbody>\n",
       "    <tr>\n",
       "      <th>0</th>\n",
       "      <td>-0.336071</td>\n",
       "      <td>1.082274</td>\n",
       "      <td>-0.406156</td>\n",
       "    </tr>\n",
       "    <tr>\n",
       "      <th>1</th>\n",
       "      <td>-0.319411</td>\n",
       "      <td>1.082610</td>\n",
       "      <td>-0.406775</td>\n",
       "    </tr>\n",
       "    <tr>\n",
       "      <th>2</th>\n",
       "      <td>2.308337</td>\n",
       "      <td>1.660233</td>\n",
       "      <td>-0.546162</td>\n",
       "    </tr>\n",
       "    <tr>\n",
       "      <th>3</th>\n",
       "      <td>-0.147264</td>\n",
       "      <td>-1.351396</td>\n",
       "      <td>0.183865</td>\n",
       "    </tr>\n",
       "    <tr>\n",
       "      <th>4</th>\n",
       "      <td>-0.148602</td>\n",
       "      <td>-2.061040</td>\n",
       "      <td>0.270292</td>\n",
       "    </tr>\n",
       "    <tr>\n",
       "      <th>...</th>\n",
       "      <td>...</td>\n",
       "      <td>...</td>\n",
       "      <td>...</td>\n",
       "    </tr>\n",
       "    <tr>\n",
       "      <th>527</th>\n",
       "      <td>2.472295</td>\n",
       "      <td>0.686499</td>\n",
       "      <td>-0.023767</td>\n",
       "    </tr>\n",
       "    <tr>\n",
       "      <th>528</th>\n",
       "      <td>-0.334117</td>\n",
       "      <td>1.082181</td>\n",
       "      <td>-0.406208</td>\n",
       "    </tr>\n",
       "    <tr>\n",
       "      <th>529</th>\n",
       "      <td>0.323786</td>\n",
       "      <td>-2.319007</td>\n",
       "      <td>0.283594</td>\n",
       "    </tr>\n",
       "    <tr>\n",
       "      <th>530</th>\n",
       "      <td>-0.152059</td>\n",
       "      <td>-1.986787</td>\n",
       "      <td>0.268713</td>\n",
       "    </tr>\n",
       "    <tr>\n",
       "      <th>531</th>\n",
       "      <td>-0.288886</td>\n",
       "      <td>0.832053</td>\n",
       "      <td>-0.205835</td>\n",
       "    </tr>\n",
       "  </tbody>\n",
       "</table>\n",
       "<p>532 rows × 3 columns</p>\n",
       "</div>"
      ],
      "text/plain": [
       "     principal component 1  principal component 2  principal component 3\n",
       "0                -0.336071               1.082274              -0.406156\n",
       "1                -0.319411               1.082610              -0.406775\n",
       "2                 2.308337               1.660233              -0.546162\n",
       "3                -0.147264              -1.351396               0.183865\n",
       "4                -0.148602              -2.061040               0.270292\n",
       "..                     ...                    ...                    ...\n",
       "527               2.472295               0.686499              -0.023767\n",
       "528              -0.334117               1.082181              -0.406208\n",
       "529               0.323786              -2.319007               0.283594\n",
       "530              -0.152059              -1.986787               0.268713\n",
       "531              -0.288886               0.832053              -0.205835\n",
       "\n",
       "[532 rows x 3 columns]"
      ]
     },
     "execution_count": 44,
     "metadata": {},
     "output_type": "execute_result"
    }
   ],
   "source": [
    "# Create a DataFrame with the three principal components.\n",
    "df_pca = pd.DataFrame(X_pca, columns=['principal component 1','principal component 2','principal component 3'])\n",
    "df_pca"
   ]
  },
  {
   "cell_type": "markdown",
   "metadata": {},
   "source": [
    "### Deliverable 3: Clustering Crytocurrencies Using K-Means\n",
    "\n",
    "#### Finding the Best Value for `k` Using the Elbow Curve"
   ]
  },
  {
   "cell_type": "code",
   "execution_count": 45,
   "metadata": {},
   "outputs": [
    {
     "name": "stderr",
     "output_type": "stream",
     "text": [
      "C:\\Users\\klcol\\anaconda3\\envs\\mlenv\\lib\\site-packages\\sklearn\\cluster\\_kmeans.py:1036: UserWarning:\n",
      "\n",
      "KMeans is known to have a memory leak on Windows with MKL, when there are less chunks than available threads. You can avoid it by setting the environment variable OMP_NUM_THREADS=3.\n",
      "\n"
     ]
    },
    {
     "data": {
      "image/png": "[encoded data removed]",
      "text/plain": [
       "<Figure size 432x288 with 1 Axes>"
      ]
     },
     "metadata": {
      "needs_background": "light"
     },
     "output_type": "display_data"
    }
   ],
   "source": [
    "# Create an elbow curve to find the best value for K.\n",
    "sse = {}\n",
    "K = range(1,10)\n",
    "for k in K:\n",
    "    kmeanmodel = KMeans(n_clusters=k).fit(X_pca)\n",
    "    sse[k]= kmeanmodel.inertia_\n",
    "    \n",
    "# Plot\n",
    "plt.plot(list(sse.keys()), list(sse.values()))\n",
    "plt.xlabel('k')\n",
    "plt.ylabel('SSE')\n",
    "plt.title('Elbow Method')\n",
    "plt.show()"
   ]
  },
  {
   "cell_type": "markdown",
   "metadata": {},
   "source": [
    "Running K-Means with `k=4`"
   ]
  },
  {
   "cell_type": "code",
   "execution_count": 46,
   "metadata": {},
   "outputs": [],
   "source": [
    "# Initialize the K-Means model.\n",
    "model = KMeans(n_clusters=4, random_state=42)\n",
    "# Fit the model\n",
    "model.fit(X_pca)\n",
    "\n",
    "# Predict clusters\n",
    "y_pred = model.predict(X_pca)\n"
   ]
  },
  {
   "cell_type": "code",
   "execution_count": 54,
   "metadata": {},
   "outputs": [
    {
     "name": "stdout",
     "output_type": "stream",
     "text": [
      "(205, 9)\n"
     ]
    },
    {
     "data": {
      "text/html": [
       "<div>\n",
       "<style scoped>\n",
       "    .dataframe tbody tr th:only-of-type {\n",
       "        vertical-align: middle;\n",
       "    }\n",
       "\n",
       "    .dataframe tbody tr th {\n",
       "        vertical-align: top;\n",
       "    }\n",
       "\n",
       "    .dataframe thead th {\n",
       "        text-align: right;\n",
       "    }\n",
       "</style>\n",
       "<table border=\"1\" class=\"dataframe\">\n",
       "  <thead>\n",
       "    <tr style=\"text-align: right;\">\n",
       "      <th></th>\n",
       "      <th>CoinName</th>\n",
       "      <th>Algorithm</th>\n",
       "      <th>ProofType</th>\n",
       "      <th>TotalCoinsMined</th>\n",
       "      <th>TotalCoinSupply</th>\n",
       "      <th>principal component 1</th>\n",
       "      <th>principal component 2</th>\n",
       "      <th>principal component 3</th>\n",
       "      <th>Class</th>\n",
       "    </tr>\n",
       "  </thead>\n",
       "  <tbody>\n",
       "    <tr>\n",
       "      <th>482</th>\n",
       "      <td>Opair</td>\n",
       "      <td>PoS</td>\n",
       "      <td>PoS</td>\n",
       "      <td>7.403381e+07</td>\n",
       "      <td>74000000</td>\n",
       "      <td>-0.107896</td>\n",
       "      <td>-0.381876</td>\n",
       "      <td>-0.070515</td>\n",
       "      <td>0</td>\n",
       "    </tr>\n",
       "    <tr>\n",
       "      <th>483</th>\n",
       "      <td>PesoBit</td>\n",
       "      <td>Scrypt</td>\n",
       "      <td>PoW/PoS</td>\n",
       "      <td>3.352296e+07</td>\n",
       "      <td>0</td>\n",
       "      <td>-0.145407</td>\n",
       "      <td>-1.351421</td>\n",
       "      <td>0.183805</td>\n",
       "      <td>0</td>\n",
       "    </tr>\n",
       "    <tr>\n",
       "      <th>491</th>\n",
       "      <td>Halloween Coin</td>\n",
       "      <td>X11</td>\n",
       "      <td>PoW/PoS</td>\n",
       "      <td>2.646785e+08</td>\n",
       "      <td>1500000000</td>\n",
       "      <td>-0.091290</td>\n",
       "      <td>-2.254473</td>\n",
       "      <td>0.325774</td>\n",
       "      <td>0</td>\n",
       "    </tr>\n",
       "    <tr>\n",
       "      <th>504</th>\n",
       "      <td>ZCoin</td>\n",
       "      <td>Lyra2Z</td>\n",
       "      <td>PoW</td>\n",
       "      <td>7.568281e+06</td>\n",
       "      <td>21400000</td>\n",
       "      <td>-0.202689</td>\n",
       "      <td>-1.235457</td>\n",
       "      <td>0.120283</td>\n",
       "      <td>0</td>\n",
       "    </tr>\n",
       "    <tr>\n",
       "      <th>509</th>\n",
       "      <td>CoffeeCoin</td>\n",
       "      <td>PoS</td>\n",
       "      <td>PoS</td>\n",
       "      <td>1.487168e+08</td>\n",
       "      <td>39999898</td>\n",
       "      <td>-0.165991</td>\n",
       "      <td>-1.070815</td>\n",
       "      <td>-0.001543</td>\n",
       "      <td>0</td>\n",
       "    </tr>\n",
       "    <tr>\n",
       "      <th>516</th>\n",
       "      <td>RoyalCoin</td>\n",
       "      <td>X13</td>\n",
       "      <td>PoS</td>\n",
       "      <td>2.500124e+06</td>\n",
       "      <td>2500124</td>\n",
       "      <td>-0.128815</td>\n",
       "      <td>-1.836648</td>\n",
       "      <td>0.269982</td>\n",
       "      <td>0</td>\n",
       "    </tr>\n",
       "    <tr>\n",
       "      <th>522</th>\n",
       "      <td>GanjaCoin V2</td>\n",
       "      <td>X14</td>\n",
       "      <td>PoW/PoS</td>\n",
       "      <td>1.000000e+08</td>\n",
       "      <td>100000000</td>\n",
       "      <td>-0.249091</td>\n",
       "      <td>0.551554</td>\n",
       "      <td>-0.021158</td>\n",
       "      <td>1</td>\n",
       "    </tr>\n",
       "    <tr>\n",
       "      <th>523</th>\n",
       "      <td>TeamUP</td>\n",
       "      <td>PoS</td>\n",
       "      <td>PoS</td>\n",
       "      <td>1.781868e+07</td>\n",
       "      <td>301000000</td>\n",
       "      <td>-0.399938</td>\n",
       "      <td>2.638179</td>\n",
       "      <td>4.277307</td>\n",
       "      <td>1</td>\n",
       "    </tr>\n",
       "    <tr>\n",
       "      <th>525</th>\n",
       "      <td>LanaCoin</td>\n",
       "      <td>SHA-256D</td>\n",
       "      <td>PoW/PoS</td>\n",
       "      <td>1.082163e+09</td>\n",
       "      <td>7506000000</td>\n",
       "      <td>34.059014</td>\n",
       "      <td>1.942630</td>\n",
       "      <td>-1.468518</td>\n",
       "      <td>2</td>\n",
       "    </tr>\n",
       "    <tr>\n",
       "      <th>526</th>\n",
       "      <td>Elementrem</td>\n",
       "      <td>Ethash</td>\n",
       "      <td>PoW</td>\n",
       "      <td>2.620554e+07</td>\n",
       "      <td>26205539</td>\n",
       "      <td>-0.353586</td>\n",
       "      <td>1.610407</td>\n",
       "      <td>-0.001361</td>\n",
       "      <td>1</td>\n",
       "    </tr>\n",
       "  </tbody>\n",
       "</table>\n",
       "</div>"
      ],
      "text/plain": [
       "           CoinName Algorithm ProofType  TotalCoinsMined TotalCoinSupply  \\\n",
       "482           Opair       PoS       PoS     7.403381e+07        74000000   \n",
       "483         PesoBit    Scrypt   PoW/PoS     3.352296e+07               0   \n",
       "491  Halloween Coin       X11   PoW/PoS     2.646785e+08      1500000000   \n",
       "504           ZCoin    Lyra2Z       PoW     7.568281e+06        21400000   \n",
       "509      CoffeeCoin       PoS       PoS     1.487168e+08        39999898   \n",
       "516       RoyalCoin       X13       PoS     2.500124e+06         2500124   \n",
       "522    GanjaCoin V2       X14   PoW/PoS     1.000000e+08       100000000   \n",
       "523          TeamUP       PoS       PoS     1.781868e+07       301000000   \n",
       "525        LanaCoin  SHA-256D   PoW/PoS     1.082163e+09      7506000000   \n",
       "526      Elementrem    Ethash       PoW     2.620554e+07        26205539   \n",
       "\n",
       "     principal component 1  principal component 2  principal component 3  \\\n",
       "482              -0.107896              -0.381876              -0.070515   \n",
       "483              -0.145407              -1.351421               0.183805   \n",
       "491              -0.091290              -2.254473               0.325774   \n",
       "504              -0.202689              -1.235457               0.120283   \n",
       "509              -0.165991              -1.070815              -0.001543   \n",
       "516              -0.128815              -1.836648               0.269982   \n",
       "522              -0.249091               0.551554              -0.021158   \n",
       "523              -0.399938               2.638179               4.277307   \n",
       "525              34.059014               1.942630              -1.468518   \n",
       "526              -0.353586               1.610407              -0.001361   \n",
       "\n",
       "     Class  \n",
       "482      0  \n",
       "483      0  \n",
       "491      0  \n",
       "504      0  \n",
       "509      0  \n",
       "516      0  \n",
       "522      1  \n",
       "523      1  \n",
       "525      2  \n",
       "526      1  "
      ]
     },
     "execution_count": 54,
     "metadata": {},
     "output_type": "execute_result"
    }
   ],
   "source": [
    "# Create a new DataFrame including predicted clusters and cryptocurrencies features.\n",
    "# Concatentate the crypto_df and pcs_df DataFrames on the same columns.\n",
    "# Add prediected values onto the original dataframe\n",
    "df_y = pd.DataFrame(y_pred, columns=['Class'])\n",
    "combined = crypto_df.join(df_pca, how='inner')\n",
    "#combined.head()\n",
    "combined2 = combined.join(df_y, how='inner')\n",
    "#combined2.head()\n",
    "#  Add a new column, \"CoinName\" to the clustered_df DataFrame that holds the names of the cryptocurrencies. \n",
    "clustered_df = name_df.join(combined2, how='inner')\n",
    "#clustered_df.head()\n",
    "\n",
    "# Print the shape of the clustered_df\n",
    "print(clustered_df.shape)\n",
    "clustered_df.tail(10)"
   ]
  },
  {
   "cell_type": "markdown",
   "metadata": {},
   "source": [
    "### Deliverable 4: Visualizing Cryptocurrencies Results\n",
    "\n",
    "#### 3D-Scatter with Clusters"
   ]
  },
  {
   "cell_type": "code",
   "execution_count": 55,
   "metadata": {},
   "outputs": [
    {
     "data": {
      "application/vnd.plotly.v1+json": {
       "config": {
        "plotlyServerURL": "https://plot.ly"
       },
       "data": [
        {
         "hovertemplate": "Class=%{marker.color}<br>principal component 1=%{x}<br>principal component 2=%{y}<br>principal component 3=%{z}<extra></extra>",
         "legendgroup": "1",
         "marker": {
          "color": [
           1,
           1,
           1,
           1,
           1,
           1,
           1,
           1,
           1,
           1,
           1,
           1,
           1,
           1,
           1,
           1,
           1,
           1,
           1,
           1,
           1,
           1,
           1,
           1,
           1,
           1,
           1,
           1,
           1,
           1,
           1,
           1,
           1,
           1,
           1,
           1,
           1,
           1,
           1,
           1,
           1,
           1,
           1,
           1,
           1,
           1,
           1,
           1,
           1,
           1,
           1,
           1,
           1,
           1,
           1,
           1,
           1,
           1,
           1,
           1,
           1,
           1,
           1,
           1,
           1,
           1,
           1,
           1,
           1,
           1,
           1,
           1,
           1,
           1,
           1,
           1,
           1,
           1,
           1,
           1,
           1,
           1,
           1,
           1,
           1,
           1,
           1,
           1,
           1,
           1,
           1,
           1,
           1,
           1,
           1,
           1,
           1,
           1,
           1,
           1,
           1,
           1,
           1,
           1,
           1,
           1
          ],
          "coloraxis": "coloraxis",
          "symbol": "circle"
         },
         "mode": "markers",
         "name": "1",
         "scene": "scene",
         "showlegend": true,
         "type": "scatter3d",
         "x": [
          -0.3360712687862762,
          2.3083371658942307,
          -0.28514021167601294,
          -0.31539886886701357,
          -0.26815912099755723,
          -0.23722451515854687,
          -0.32830925427710494,
          -0.347661380654416,
          -0.33413035491881476,
          -0.3269376053181222,
          -0.39424631068750354,
          -0.27871115205793767,
          -0.28858265821047413,
          -0.3468221343891433,
          -0.39461782426723563,
          -0.30891347137439873,
          -0.39452948203506594,
          -0.24841702042425332,
          -0.02251121838425006,
          -0.3446329091659794,
          -0.2832179424701414,
          -0.3360533391975708,
          -0.27570669905583517,
          -0.3357877663463182,
          -0.42945049589545675,
          -0.3684477328456381,
          -0.307957243519071,
          -0.07317800272519621,
          -0.31536978586001524,
          -0.07212477654905414,
          -0.3356636792049061,
          -0.0768903154060187,
          -0.311646159871191,
          -0.33570177498923953,
          -0.33414099110371503,
          -0.22720943485653158,
          -0.39407336070600824,
          -0.3349061253948988,
          -0.31541442678532955,
          -0.3358908964043607,
          -0.3360475728991868,
          -0.286823246799699,
          -0.3463019419915508,
          -0.3356617701969827,
          -0.38075372826268145,
          -0.22863971162306143,
          -0.3453798217908359,
          -0.27996172615873777,
          0.8563405885867114,
          -0.3467656217965579,
          -0.3357436804851111,
          -0.31527711322538116,
          -0.37303449177067016,
          -0.33494835952130936,
          0.35459195081570505,
          -0.33593671058910785,
          -0.3360072656350431,
          -0.35256175329209744,
          -0.3322348741354915,
          -0.31539084295286074,
          -0.3359120570745084,
          -0.22840760089458764,
          -0.31676848466421853,
          -0.39248683889205843,
          -0.34559152436692014,
          -0.3289778685294265,
          -0.27111516581370954,
          0.5799939345424018,
          -0.36043192099335813,
          -0.27539184430618363,
          -0.28854363526204585,
          -0.3943377750012473,
          -0.3119912578984122,
          -0.313737358295678,
          -0.34520144211093795,
          -0.3410439606857445,
          -0.33576658421623656,
          -0.094669176803925,
          -0.3931306608790793,
          3.732268778369452,
          -0.2721339733662979,
          -0.33322729966427983,
          -0.3130192040003415,
          -0.3349053284603066,
          -0.3516125882459511,
          -0.3360123268932009,
          -0.347238883496266,
          -0.29423306522325526,
          -0.3315582549568044,
          -0.39441418232536446,
          -0.2820861580871675,
          -0.39684838824968566,
          -0.28823788493799307,
          -0.34815662128569447,
          1.0234730969239951,
          -0.3590958696810968,
          -0.3512809325363991,
          -0.28573589238251007,
          -0.1955521296276996,
          -0.3991587652347976,
          -0.3472931915955032,
          -0.3091623971782584,
          -0.29999213949107945,
          -0.24909145614396122,
          -0.39993775154149713,
          -0.3535855551160444
         ],
         "y": [
          1.082274120379705,
          1.6602330561510095,
          1.5928576860218056,
          0.8016467985437495,
          0.5514354451289184,
          1.8683906470717533,
          1.0826051751019623,
          1.4672413177498433,
          1.0822724242708217,
          0.9149090935570522,
          1.1642556938718474,
          0.8015239771945478,
          0.8320553029978798,
          0.9140610061625855,
          1.1642553353917822,
          1.532894977195331,
          1.1642520641705767,
          0.06623481735765377,
          1.2432859901794355,
          1.3911401305434845,
          0.8319435129948701,
          1.0822748851172577,
          1.771176033061979,
          1.0822721324112625,
          1.9415953662738548,
          0.7698271302029484,
          0.8012756983764248,
          0.8680641726782762,
          0.8016480389518849,
          1.1593192583921232,
          1.082261937297581,
          0.6777932081013817,
          0.8014527531718257,
          1.0822586698748495,
          1.0822860501824305,
          1.5208778699664487,
          1.1642433589229166,
          1.082260456510049,
          0.8016468389665367,
          1.082267029873287,
          1.08227513105343,
          0.8321417333337527,
          1.4672472043045959,
          1.0822915857759594,
          1.1637906819594637,
          1.520955903265834,
          1.4671267303894853,
          1.9205430691477186,
          1.8188672049629804,
          1.4672443235374586,
          1.082258525193777,
          0.8016533994518923,
          0.4489184033227151,
          1.0822206404097041,
          0.8366087137560562,
          1.082270707690705,
          1.0822745159419471,
          1.4108897075758273,
          1.0820857562147173,
          0.8016478448314962,
          1.082265470312192,
          1.5209573377927033,
          1.0823934184520552,
          1.1642687863997314,
          1.467251956686014,
          1.0818726807210632,
          0.8314037375051117,
          1.928227732941291,
          1.5108975196741594,
          1.7711753822592606,
          0.8320561043507225,
          1.1642482729747539,
          0.6092124596301535,
          0.8016627527408945,
          1.5107093756552352,
          1.4059939971760822,
          1.082276704778951,
          0.5525078995236193,
          1.1642173917585732,
          1.6527439688240335,
          1.7711876164956086,
          1.0822475821513704,
          1.2606743839600534,
          1.0822182518454904,
          1.4108562724037697,
          1.0822738184069753,
          0.9140284480278452,
          0.5079115165711224,
          1.0823032804280772,
          1.164246422110531,
          0.8319917842948855,
          1.6611034650087486,
          0.8320630947302418,
          1.4106305634070844,
          1.5179704605546949,
          0.8594162011083336,
          1.4108844972751964,
          0.8320050754997287,
          1.0755957518251598,
          1.6611077067348674,
          0.9140270469248549,
          1.5504571521455628,
          1.9214529274947632,
          0.5515535149099441,
          2.638178688218233,
          1.6104067323810125
         ],
         "z": [
          -0.4061558803251184,
          -0.5461621241519382,
          -0.22382102362882098,
          -0.2208072206213581,
          -0.020489923025227792,
          -0.5061217728899563,
          -0.4064714100039706,
          -0.0918150024703414,
          -0.40622176130671794,
          -0.12152815533955134,
          -0.3210282839744013,
          -0.22203853559356257,
          -0.20584591324664384,
          -0.12071983953778469,
          -0.3210155683127288,
          -0.24852343405890018,
          -0.3210180747328574,
          0.06557513002126614,
          -0.5045887932829595,
          -0.06854602215573931,
          -0.2060115046750801,
          -0.40615660917619745,
          -0.47519974951556604,
          -0.4061652351557531,
          -0.4964703656462049,
          0.02731843363938438,
          -0.2210036286583913,
          -0.3107658160852288,
          -0.22080840285977246,
          -0.33124480944167495,
          -0.40616789270358666,
          -0.3641990513513839,
          -0.22090520246047696,
          -0.4061660909613434,
          -0.4062234986269482,
          -0.27491192795020253,
          -0.32103227691460856,
          -0.40619348038812386,
          -0.22080669666870964,
          -0.40616093438429424,
          -0.40615684357903825,
          -0.20591918945456464,
          -0.09186223647537421,
          -0.40617252664698733,
          -0.3214164242085469,
          -0.2748752121413671,
          -0.09187509517125696,
          -0.5406431199818649,
          -0.5211268968805799,
          -0.09184599128882463,
          -0.40616464061254043,
          -0.22081238701618766,
          0.00015097281355811777,
          -0.40618590539719623,
          -0.22846567143076155,
          -0.40615993988987975,
          -0.4061581223778744,
          -0.17005074196154582,
          -0.4062575894844199,
          -0.22080765536299818,
          -0.4061599729407428,
          -0.2748833430613056,
          -0.4068320635990136,
          -0.32109026074088365,
          -0.09188717839908682,
          -0.40633574619200663,
          -0.20634076197215243,
          -0.5620635343781756,
          -0.38646635946862007,
          -0.47521037882831973,
          -0.20584736655855498,
          -0.3210240234838696,
          -0.016995788001736102,
          -0.2208663000594839,
          -0.38695638952429157,
          -0.13924004945962712,
          -0.40616666160998605,
          -0.026567371049017928,
          -0.32106040059644037,
          -0.05574047264701918,
          -0.4753232856934643,
          -0.40624870735461915,
          -0.18615314062940883,
          -0.4061870037249068,
          -0.17007793513020839,
          -0.4061578424090999,
          -0.12070062031273841,
          -0.2207245335184498,
          -0.4063141681807827,
          -0.32102113445752384,
          -0.20605751226206812,
          -0.3704690460398169,
          -0.20585886313228094,
          -0.17016092518435147,
          -0.05358709268741855,
          -0.21731651774366584,
          -0.17009358678283812,
          -0.20593518501946154,
          -0.4099153341498548,
          -0.3703909667991352,
          -0.12069855369163722,
          -0.26953705796261174,
          -0.5401007356111798,
          -0.021157904635625037,
          4.277307216240433,
          -0.0013611987807998448
         ]
        },
        {
         "hovertemplate": "Class=%{marker.color}<br>principal component 1=%{x}<br>principal component 2=%{y}<br>principal component 3=%{z}<extra></extra>",
         "legendgroup": "0",
         "marker": {
          "color": [
           0,
           0,
           0,
           0,
           0,
           0,
           0,
           0,
           0,
           0,
           0,
           0,
           0,
           0,
           0,
           0,
           0,
           0,
           0,
           0,
           0,
           0,
           0,
           0,
           0,
           0,
           0,
           0,
           0,
           0,
           0,
           0,
           0,
           0,
           0,
           0,
           0,
           0,
           0,
           0,
           0,
           0,
           0,
           0,
           0,
           0,
           0,
           0,
           0,
           0,
           0,
           0,
           0,
           0,
           0,
           0,
           0,
           0,
           0,
           0,
           0,
           0,
           0,
           0,
           0,
           0,
           0,
           0,
           0,
           0,
           0,
           0,
           0,
           0,
           0,
           0,
           0,
           0,
           0,
           0,
           0,
           0,
           0,
           0,
           0,
           0,
           0,
           0,
           0,
           0,
           0,
           0,
           0,
           0,
           0,
           0
          ],
          "coloraxis": "coloraxis",
          "symbol": "diamond"
         },
         "mode": "markers",
         "name": "0",
         "scene": "scene",
         "showlegend": true,
         "type": "scatter3d",
         "x": [
          -0.16676698142643134,
          -0.15009954651436216,
          -0.14704399473763452,
          -0.15205832998364457,
          0.15928977225941196,
          -0.16791307351098345,
          -0.22640100019977702,
          -0.09407851945616946,
          -0.16733376100041575,
          -0.2031283213009972,
          0.2305334253353771,
          -0.16772810447495803,
          -0.16803877887573437,
          -0.1725631077776578,
          -0.14726406106561274,
          -0.1668340343146474,
          -0.16711146208084943,
          1.5806480665308773,
          -0.1644012468542192,
          -0.16799059526382007,
          -0.16797004842767607,
          -0.1660647457334941,
          -0.14676662219718406,
          -0.14703682103124915,
          -0.14762740715956926,
          -0.22666419766314835,
          -0.1468339097943593,
          3.8577297995200466,
          0.4571284317063448,
          -0.16527329727266052,
          -0.151363843962604,
          -0.10408777604023534,
          -0.1473305630293854,
          -0.15237857470956104,
          -0.14707047603233742,
          -0.16543687779229396,
          -0.14966904526131028,
          0.372375282897056,
          -0.1413621664955677,
          -0.1666839544804313,
          0.27120460132168495,
          -0.22553256812490521,
          -0.166931439665895,
          -0.2665231312793457,
          0.3020545632679186,
          -0.10815571813069716,
          -0.16528758884638203,
          -0.16778392411918105,
          -0.15207994537239708,
          -0.09486155997754164,
          -0.22431344131255085,
          0.30204891715517723,
          -0.1681022115050109,
          0.3021796192363899,
          -0.15209231541346974,
          -0.16620400376428185,
          -0.14716056372105255,
          -0.16745505691241777,
          -0.22651295586261425,
          3.2411244705831592,
          -0.09370986240712428,
          -0.16732383064469872,
          -0.17725118762723135,
          -0.15193838234775792,
          -0.150579619791696,
          -0.16620221305655042,
          -0.17709662876608256,
          -0.1477768034120593,
          -0.17719681346554655,
          0.3020316963521501,
          1.099901979272773,
          -0.17028760784813227,
          -0.16317472240342015,
          0.30590551696602697,
          -0.15008281890466327,
          -0.16793381661103327,
          -0.225581745733804,
          -0.14297165247650206,
          0.3158171540481842,
          -0.226469120063971,
          -0.16795839769452114,
          -0.1377165838271141,
          -0.15611087559007839,
          -0.19214763750435354,
          -0.046699952510889334,
          -0.1453824740660341,
          -0.14726301264771605,
          0.38196045865510475,
          -0.15177122342983457,
          -0.19227729740283395,
          -0.10789618410721535,
          -0.145407377327916,
          -0.09128971449951248,
          -0.20268937487268276,
          -0.1659912521477652,
          -0.1288154040196834
         ],
         "y": [
          -1.0707790548639815,
          -2.2153059247861697,
          -2.061121262280028,
          -1.986786608327295,
          -1.8391418938286836,
          -1.0707835858092445,
          -0.9887991655911407,
          -1.8365726334349552,
          -1.0708144920025477,
          -1.2354613695326226,
          -1.350051867985635,
          -1.0707756967660964,
          -1.0707820734517086,
          -1.6526685165038175,
          -1.0708881865062403,
          -1.0707720590248981,
          -1.0707854724121861,
          -1.0599719622462376,
          -1.0708058710037398,
          -1.070779148406391,
          -1.0707860158244826,
          -1.0708659643567036,
          -1.3513935134267245,
          -1.3514282604078445,
          -1.3513973070580931,
          -0.9887963115733917,
          -1.3513949669037808,
          -2.2971570309777736,
          -2.319373605497676,
          -1.070773346212394,
          -1.07076694503354,
          -2.197718511137452,
          -1.3513992540079878,
          -2.230527970360515,
          -1.3514112234428552,
          -1.0708391854028536,
          -2.0610972887335746,
          -2.1746349863494037,
          -2.1930028986078556,
          -1.0707755137136705,
          -1.3487581043894927,
          -0.988807180993632,
          -1.0708454505323952,
          -1.157861252350782,
          -2.318954865419224,
          -1.8366098525588717,
          -1.0707976192589022,
          -1.0707844133063995,
          -1.9867875302369193,
          -1.0746928860173373,
          -0.988856557255627,
          -2.318962849982695,
          -1.0707787799284745,
          -2.318960091368832,
          -1.9867852419164918,
          -1.0707663071615916,
          -2.2167575233771424,
          -1.0707999539757842,
          -0.9888031661936879,
          -1.0661667687271843,
          -1.07499575419354,
          -1.0708028048256197,
          -1.6526509369230207,
          -1.986781492486853,
          -2.2464179100691943,
          -1.0707662307868056,
          -1.652657016488827,
          -2.061201795450719,
          -1.6526519969239277,
          -2.3189576006511747,
          -1.305461415684926,
          -1.6526869173541001,
          -2.1761589036203524,
          -2.3190201165639595,
          -2.2463570825288444,
          -1.0707844705152192,
          -0.9888205420900463,
          -2.228968804931045,
          -2.3190648202541366,
          -0.9888027749228162,
          -1.070786296993911,
          -2.216009744562346,
          -2.208324200909143,
          -1.2486009197772274,
          -1.987628454746309,
          -2.2424545109365965,
          -1.3513963729426641,
          -2.3212279288409983,
          -1.9867813225784707,
          -1.589729425620417,
          -0.38187615698447847,
          -1.3514207136580603,
          -2.2544729843715925,
          -1.235457431726498,
          -1.0708149593351877,
          -1.8366481989193872
         ],
         "z": [
          -0.0015221470554806448,
          0.2922146755629538,
          0.2702511791231379,
          0.26871315917229627,
          0.2605480962027109,
          -0.0014823923653941539,
          0.08365542776976387,
          0.26878643877918307,
          -0.001497371440389662,
          0.12029883998962215,
          0.17078307185481387,
          -0.001489911446893306,
          -0.0014783416421812977,
          0.1898594664038774,
          -0.0021699490965646166,
          -0.0015209401033145175,
          -0.0015094189061241002,
          -0.06273585433337568,
          -0.0015986340077865323,
          -0.0014804343958270915,
          -0.0014800763072515498,
          -0.0015326848822273486,
          0.1838474321582097,
          0.18386199455666227,
          0.18387735054647858,
          0.08366395718864392,
          0.18384994916486852,
          0.15979705691393212,
          0.27910617945538163,
          -0.0015739284556932586,
          -0.002048920469420951,
          0.25695305222112697,
          0.1838675347374251,
          0.29638244592743285,
          0.18386051602039763,
          -0.001558208020164482,
          0.2703369410792481,
          0.24167677231211215,
          0.3230980933720637,
          -0.001525522141316733,
          0.16919771027887726,
          0.08362706857876523,
          -0.0015063109547261931,
          0.21163887623841815,
          0.28432624949325686,
          0.2692718963155822,
          -0.001569700904434752,
          -0.0014866659922903268,
          0.268714037848388,
          -0.0033694070125145584,
          0.08359313222102996,
          0.2843276723379754,
          -0.0014766875269066847,
          0.2843227931719146,
          0.2687141067593224,
          -0.0015432966228702781,
          0.26737590624477503,
          -0.001495478263292128,
          0.08365985948929577,
          -0.1183668455132411,
          -0.003361981921974561,
          -0.0014995108632570818,
          0.19001651748167966,
          0.268708283242415,
          0.30788143750224345,
          -0.0015433694160126253,
          0.19001218730631528,
          0.2702885620552091,
          0.1900148278702159,
          0.2843274502553235,
          0.06281614343649243,
          0.18978475765020927,
          0.3740005447437104,
          0.28420507223504876,
          0.30785513390654334,
          -0.0014815491482635067,
          0.08363080342161011,
          0.2873494226955663,
          0.2838741929413083,
          0.08365830535977295,
          -0.0014804300115335799,
          0.29190114964627273,
          0.2734553100229982,
          0.12437346649837033,
          0.2652524923944276,
          0.31223164754740984,
          0.1838647887814749,
          0.28195350432140054,
          0.2687025606268544,
          0.1980035734043439,
          -0.07051526337323909,
          0.18380530349552163,
          0.3257738320883825,
          0.12028327477394449,
          -0.00154304936584992,
          0.2699818451960903
         ]
        },
        {
         "hovertemplate": "Class=%{marker.color}<br>principal component 1=%{x}<br>principal component 2=%{y}<br>principal component 3=%{z}<extra></extra>",
         "legendgroup": "3",
         "marker": {
          "color": [
           3,
           3
          ],
          "coloraxis": "coloraxis",
          "symbol": "square"
         },
         "mode": "markers",
         "name": "3",
         "scene": "scene",
         "showlegend": true,
         "type": "scatter3d",
         "x": [
          4.424493552774078,
          -0.34434873689847173
         ],
         "y": [
          1.4113746975607284,
          3.6471406378080955
         ],
         "z": [
          10.166263027079633,
          21.936611465382846
         ]
        },
        {
         "hovertemplate": "Class=%{marker.color}<br>principal component 1=%{x}<br>principal component 2=%{y}<br>principal component 3=%{z}<extra></extra>",
         "legendgroup": "2",
         "marker": {
          "color": [
           2
          ],
          "coloraxis": "coloraxis",
          "symbol": "x"
         },
         "mode": "markers",
         "name": "2",
         "scene": "scene",
         "showlegend": true,
         "type": "scatter3d",
         "x": [
          34.05901404494024
         ],
         "y": [
          1.9426304981510407
         ],
         "z": [
          -1.4685184990568414
         ]
        }
       ],
       "layout": {
        "coloraxis": {
         "colorbar": {
          "title": {
           "text": "Class"
          }
         },
         "colorscale": [
          [
           0,
           "#0d0887"
          ],
          [
           0.1111111111111111,
           "#46039f"
          ],
          [
           0.2222222222222222,
           "#7201a8"
          ],
          [
           0.3333333333333333,
           "#9c179e"
          ],
          [
           0.4444444444444444,
           "#bd3786"
          ],
          [
           0.5555555555555556,
           "#d8576b"
          ],
          [
           0.6666666666666666,
           "#ed7953"
          ],
          [
           0.7777777777777778,
           "#fb9f3a"
          ],
          [
           0.8888888888888888,
           "#fdca26"
          ],
          [
           1,
           "#f0f921"
          ]
         ]
        },
        "legend": {
         "title": {
          "text": "Class"
         },
         "tracegroupgap": 0,
         "x": 0,
         "y": 1
        },
        "margin": {
         "t": 60
        },
        "scene": {
         "domain": {
          "x": [
           0,
           1
          ],
          "y": [
           0,
           1
          ]
         },
         "xaxis": {
          "title": {
           "text": "principal component 1"
          }
         },
         "yaxis": {
          "title": {
           "text": "principal component 2"
          }
         },
         "zaxis": {
          "title": {
           "text": "principal component 3"
          }
         }
        },
        "template": {
         "data": {
          "bar": [
           {
            "error_x": {
             "color": "#2a3f5f"
            },
            "error_y": {
             "color": "#2a3f5f"
            },
            "marker": {
             "line": {
              "color": "#E5ECF6",
              "width": 0.5
             },
             "pattern": {
              "fillmode": "overlay",
              "size": 10,
              "solidity": 0.2
             }
            },
            "type": "bar"
           }
          ],
          "barpolar": [
           {
            "marker": {
             "line": {
              "color": "#E5ECF6",
              "width": 0.5
             },
             "pattern": {
              "fillmode": "overlay",
              "size": 10,
              "solidity": 0.2
             }
            },
            "type": "barpolar"
           }
          ],
          "carpet": [
           {
            "aaxis": {
             "endlinecolor": "#2a3f5f",
             "gridcolor": "white",
             "linecolor": "white",
             "minorgridcolor": "white",
             "startlinecolor": "#2a3f5f"
            },
            "baxis": {
             "endlinecolor": "#2a3f5f",
             "gridcolor": "white",
             "linecolor": "white",
             "minorgridcolor": "white",
             "startlinecolor": "#2a3f5f"
            },
            "type": "carpet"
           }
          ],
          "choropleth": [
           {
            "colorbar": {
             "outlinewidth": 0,
             "ticks": ""
            },
            "type": "choropleth"
           }
          ],
          "contour": [
           {
            "colorbar": {
             "outlinewidth": 0,
             "ticks": ""
            },
            "colorscale": [
             [
              0,
              "#0d0887"
             ],
             [
              0.1111111111111111,
              "#46039f"
             ],
             [
              0.2222222222222222,
              "#7201a8"
             ],
             [
              0.3333333333333333,
              "#9c179e"
             ],
             [
              0.4444444444444444,
              "#bd3786"
             ],
             [
              0.5555555555555556,
              "#d8576b"
             ],
             [
              0.6666666666666666,
              "#ed7953"
             ],
             [
              0.7777777777777778,
              "#fb9f3a"
             ],
             [
              0.8888888888888888,
              "#fdca26"
             ],
             [
              1,
              "#f0f921"
             ]
            ],
            "type": "contour"
           }
          ],
          "contourcarpet": [
           {
            "colorbar": {
             "outlinewidth": 0,
             "ticks": ""
            },
            "type": "contourcarpet"
           }
          ],
          "heatmap": [
           {
            "colorbar": {
             "outlinewidth": 0,
             "ticks": ""
            },
            "colorscale": [
             [
              0,
              "#0d0887"
             ],
             [
              0.1111111111111111,
              "#46039f"
             ],
             [
              0.2222222222222222,
              "#7201a8"
             ],
             [
              0.3333333333333333,
              "#9c179e"
             ],
             [
              0.4444444444444444,
              "#bd3786"
             ],
             [
              0.5555555555555556,
              "#d8576b"
             ],
             [
              0.6666666666666666,
              "#ed7953"
             ],
             [
              0.7777777777777778,
              "#fb9f3a"
             ],
             [
              0.8888888888888888,
              "#fdca26"
             ],
             [
              1,
              "#f0f921"
             ]
            ],
            "type": "heatmap"
           }
          ],
          "heatmapgl": [
           {
            "colorbar": {
             "outlinewidth": 0,
             "ticks": ""
            },
            "colorscale": [
             [
              0,
              "#0d0887"
             ],
             [
              0.1111111111111111,
              "#46039f"
             ],
             [
              0.2222222222222222,
              "#7201a8"
             ],
             [
              0.3333333333333333,
              "#9c179e"
             ],
             [
              0.4444444444444444,
              "#bd3786"
             ],
             [
              0.5555555555555556,
              "#d8576b"
             ],
             [
              0.6666666666666666,
              "#ed7953"
             ],
             [
              0.7777777777777778,
              "#fb9f3a"
             ],
             [
              0.8888888888888888,
              "#fdca26"
             ],
             [
              1,
              "#f0f921"
             ]
            ],
            "type": "heatmapgl"
           }
          ],
          "histogram": [
           {
            "marker": {
             "pattern": {
              "fillmode": "overlay",
              "size": 10,
              "solidity": 0.2
             }
            },
            "type": "histogram"
           }
          ],
          "histogram2d": [
           {
            "colorbar": {
             "outlinewidth": 0,
             "ticks": ""
            },
            "colorscale": [
             [
              0,
              "#0d0887"
             ],
             [
              0.1111111111111111,
              "#46039f"
             ],
             [
              0.2222222222222222,
              "#7201a8"
             ],
             [
              0.3333333333333333,
              "#9c179e"
             ],
             [
              0.4444444444444444,
              "#bd3786"
             ],
             [
              0.5555555555555556,
              "#d8576b"
             ],
             [
              0.6666666666666666,
              "#ed7953"
             ],
             [
              0.7777777777777778,
              "#fb9f3a"
             ],
             [
              0.8888888888888888,
              "#fdca26"
             ],
             [
              1,
              "#f0f921"
             ]
            ],
            "type": "histogram2d"
           }
          ],
          "histogram2dcontour": [
           {
            "colorbar": {
             "outlinewidth": 0,
             "ticks": ""
            },
            "colorscale": [
             [
              0,
              "#0d0887"
             ],
             [
              0.1111111111111111,
              "#46039f"
             ],
             [
              0.2222222222222222,
              "#7201a8"
             ],
             [
              0.3333333333333333,
              "#9c179e"
             ],
             [
              0.4444444444444444,
              "#bd3786"
             ],
             [
              0.5555555555555556,
              "#d8576b"
             ],
             [
              0.6666666666666666,
              "#ed7953"
             ],
             [
              0.7777777777777778,
              "#fb9f3a"
             ],
             [
              0.8888888888888888,
              "#fdca26"
             ],
             [
              1,
              "#f0f921"
             ]
            ],
            "type": "histogram2dcontour"
           }
          ],
          "mesh3d": [
           {
            "colorbar": {
             "outlinewidth": 0,
             "ticks": ""
            },
            "type": "mesh3d"
           }
          ],
          "parcoords": [
           {
            "line": {
             "colorbar": {
              "outlinewidth": 0,
              "ticks": ""
             }
            },
            "type": "parcoords"
           }
          ],
          "pie": [
           {
            "automargin": true,
            "type": "pie"
           }
          ],
          "scatter": [
           {
            "fillpattern": {
             "fillmode": "overlay",
             "size": 10,
             "solidity": 0.2
            },
            "type": "scatter"
           }
          ],
          "scatter3d": [
           {
            "line": {
             "colorbar": {
              "outlinewidth": 0,
              "ticks": ""
             }
            },
            "marker": {
             "colorbar": {
              "outlinewidth": 0,
              "ticks": ""
             }
            },
            "type": "scatter3d"
           }
          ],
          "scattercarpet": [
           {
            "marker": {
             "colorbar": {
              "outlinewidth": 0,
              "ticks": ""
             }
            },
            "type": "scattercarpet"
           }
          ],
          "scattergeo": [
           {
            "marker": {
             "colorbar": {
              "outlinewidth": 0,
              "ticks": ""
             }
            },
            "type": "scattergeo"
           }
          ],
          "scattergl": [
           {
            "marker": {
             "colorbar": {
              "outlinewidth": 0,
              "ticks": ""
             }
            },
            "type": "scattergl"
           }
          ],
          "scattermapbox": [
           {
            "marker": {
             "colorbar": {
              "outlinewidth": 0,
              "ticks": ""
             }
            },
            "type": "scattermapbox"
           }
          ],
          "scatterpolar": [
           {
            "marker": {
             "colorbar": {
              "outlinewidth": 0,
              "ticks": ""
             }
            },
            "type": "scatterpolar"
           }
          ],
          "scatterpolargl": [
           {
            "marker": {
             "colorbar": {
              "outlinewidth": 0,
              "ticks": ""
             }
            },
            "type": "scatterpolargl"
           }
          ],
          "scatterternary": [
           {
            "marker": {
             "colorbar": {
              "outlinewidth": 0,
              "ticks": ""
             }
            },
            "type": "scatterternary"
           }
          ],
          "surface": [
           {
            "colorbar": {
             "outlinewidth": 0,
             "ticks": ""
            },
            "colorscale": [
             [
              0,
              "#0d0887"
             ],
             [
              0.1111111111111111,
              "#46039f"
             ],
             [
              0.2222222222222222,
              "#7201a8"
             ],
             [
              0.3333333333333333,
              "#9c179e"
             ],
             [
              0.4444444444444444,
              "#bd3786"
             ],
             [
              0.5555555555555556,
              "#d8576b"
             ],
             [
              0.6666666666666666,
              "#ed7953"
             ],
             [
              0.7777777777777778,
              "#fb9f3a"
             ],
             [
              0.8888888888888888,
              "#fdca26"
             ],
             [
              1,
              "#f0f921"
             ]
            ],
            "type": "surface"
           }
          ],
          "table": [
           {
            "cells": {
             "fill": {
              "color": "#EBF0F8"
             },
             "line": {
              "color": "white"
             }
            },
            "header": {
             "fill": {
              "color": "#C8D4E3"
             },
             "line": {
              "color": "white"
             }
            },
            "type": "table"
           }
          ]
         },
         "layout": {
          "annotationdefaults": {
           "arrowcolor": "#2a3f5f",
           "arrowhead": 0,
           "arrowwidth": 1
          },
          "autotypenumbers": "strict",
          "coloraxis": {
           "colorbar": {
            "outlinewidth": 0,
            "ticks": ""
           }
          },
          "colorscale": {
           "diverging": [
            [
             0,
             "#8e0152"
            ],
            [
             0.1,
             "#c51b7d"
            ],
            [
             0.2,
             "#de77ae"
            ],
            [
             0.3,
             "#f1b6da"
            ],
            [
             0.4,
             "#fde0ef"
            ],
            [
             0.5,
             "#f7f7f7"
            ],
            [
             0.6,
             "#e6f5d0"
            ],
            [
             0.7,
             "#b8e186"
            ],
            [
             0.8,
             "#7fbc41"
            ],
            [
             0.9,
             "#4d9221"
            ],
            [
             1,
             "#276419"
            ]
           ],
           "sequential": [
            [
             0,
             "#0d0887"
            ],
            [
             0.1111111111111111,
             "#46039f"
            ],
            [
             0.2222222222222222,
             "#7201a8"
            ],
            [
             0.3333333333333333,
             "#9c179e"
            ],
            [
             0.4444444444444444,
             "#bd3786"
            ],
            [
             0.5555555555555556,
             "#d8576b"
            ],
            [
             0.6666666666666666,
             "#ed7953"
            ],
            [
             0.7777777777777778,
             "#fb9f3a"
            ],
            [
             0.8888888888888888,
             "#fdca26"
            ],
            [
             1,
             "#f0f921"
            ]
           ],
           "sequentialminus": [
            [
             0,
             "#0d0887"
            ],
            [
             0.1111111111111111,
             "#46039f"
            ],
            [
             0.2222222222222222,
             "#7201a8"
            ],
            [
             0.3333333333333333,
             "#9c179e"
            ],
            [
             0.4444444444444444,
             "#bd3786"
            ],
            [
             0.5555555555555556,
             "#d8576b"
            ],
            [
             0.6666666666666666,
             "#ed7953"
            ],
            [
             0.7777777777777778,
             "#fb9f3a"
            ],
            [
             0.8888888888888888,
             "#fdca26"
            ],
            [
             1,
             "#f0f921"
            ]
           ]
          },
          "colorway": [
           "#636efa",
           "#EF553B",
           "#00cc96",
           "#ab63fa",
           "#FFA15A",
           "#19d3f3",
           "#FF6692",
           "#B6E880",
           "#FF97FF",
           "#FECB52"
          ],
          "font": {
           "color": "#2a3f5f"
          },
          "geo": {
           "bgcolor": "white",
           "lakecolor": "white",
           "landcolor": "#E5ECF6",
           "showlakes": true,
           "showland": true,
           "subunitcolor": "white"
          },
          "hoverlabel": {
           "align": "left"
          },
          "hovermode": "closest",
          "mapbox": {
           "style": "light"
          },
          "paper_bgcolor": "white",
          "plot_bgcolor": "#E5ECF6",
          "polar": {
           "angularaxis": {
            "gridcolor": "white",
            "linecolor": "white",
            "ticks": ""
           },
           "bgcolor": "#E5ECF6",
           "radialaxis": {
            "gridcolor": "white",
            "linecolor": "white",
            "ticks": ""
           }
          },
          "scene": {
           "xaxis": {
            "backgroundcolor": "#E5ECF6",
            "gridcolor": "white",
            "gridwidth": 2,
            "linecolor": "white",
            "showbackground": true,
            "ticks": "",
            "zerolinecolor": "white"
           },
           "yaxis": {
            "backgroundcolor": "#E5ECF6",
            "gridcolor": "white",
            "gridwidth": 2,
            "linecolor": "white",
            "showbackground": true,
            "ticks": "",
            "zerolinecolor": "white"
           },
           "zaxis": {
            "backgroundcolor": "#E5ECF6",
            "gridcolor": "white",
            "gridwidth": 2,
            "linecolor": "white",
            "showbackground": true,
            "ticks": "",
            "zerolinecolor": "white"
           }
          },
          "shapedefaults": {
           "line": {
            "color": "#2a3f5f"
           }
          },
          "ternary": {
           "aaxis": {
            "gridcolor": "white",
            "linecolor": "white",
            "ticks": ""
           },
           "baxis": {
            "gridcolor": "white",
            "linecolor": "white",
            "ticks": ""
           },
           "bgcolor": "#E5ECF6",
           "caxis": {
            "gridcolor": "white",
            "linecolor": "white",
            "ticks": ""
           }
          },
          "title": {
           "x": 0.05
          },
          "xaxis": {
           "automargin": true,
           "gridcolor": "white",
           "linecolor": "white",
           "ticks": "",
           "title": {
            "standoff": 15
           },
           "zerolinecolor": "white",
           "zerolinewidth": 2
          },
          "yaxis": {
           "automargin": true,
           "gridcolor": "white",
           "linecolor": "white",
           "ticks": "",
           "title": {
            "standoff": 15
           },
           "zerolinecolor": "white",
           "zerolinewidth": 2
          }
         }
        },
        "width": 800
       }
      },
      "text/html": [
       "<div>                            <div id=\"4ddfddd6-7ea9-4956-97e1-1d874c268e93\" class=\"plotly-graph-div\" style=\"height:525px; width:800px;\"></div>            <script type=\"text/javascript\">                require([\"plotly\"], function(Plotly) {                    window.PLOTLYENV=window.PLOTLYENV || {};                                    if (document.getElementById(\"4ddfddd6-7ea9-4956-97e1-1d874c268e93\")) {                    Plotly.newPlot(                        \"4ddfddd6-7ea9-4956-97e1-1d874c268e93\",                        [{\"hovertemplate\":\"Class=%{marker.color}<br>principal component 1=%{x}<br>principal component 2=%{y}<br>principal component 3=%{z}<extra></extra>\",\"legendgroup\":\"1\",\"marker\":{\"color\":[1,1,1,1,1,1,1,1,1,1,1,1,1,1,1,1,1,1,1,1,1,1,1,1,1,1,1,1,1,1,1,1,1,1,1,1,1,1,1,1,1,1,1,1,1,1,1,1,1,1,1,1,1,1,1,1,1,1,1,1,1,1,1,1,1,1,1,1,1,1,1,1,1,1,1,1,1,1,1,1,1,1,1,1,1,1,1,1,1,1,1,1,1,1,1,1,1,1,1,1,1,1,1,1,1,1],\"coloraxis\":\"coloraxis\",\"symbol\":\"circle\"},\"mode\":\"markers\",\"name\":\"1\",\"scene\":\"scene\",\"showlegend\":true,\"x\":[-0.3360712687862762,2.3083371658942307,-0.28514021167601294,-0.31539886886701357,-0.26815912099755723,-0.23722451515854687,-0.32830925427710494,-0.347661380654416,-0.33413035491881476,-0.3269376053181222,-0.39424631068750354,-0.27871115205793767,-0.28858265821047413,-0.3468221343891433,-0.39461782426723563,-0.30891347137439873,-0.39452948203506594,-0.24841702042425332,-0.02251121838425006,-0.3446329091659794,-0.2832179424701414,-0.3360533391975708,-0.27570669905583517,-0.3357877663463182,-0.42945049589545675,-0.3684477328456381,-0.307957243519071,-0.07317800272519621,-0.31536978586001524,-0.07212477654905414,-0.3356636792049061,-0.0768903154060187,-0.311646159871191,-0.33570177498923953,-0.33414099110371503,-0.22720943485653158,-0.39407336070600824,-0.3349061253948988,-0.31541442678532955,-0.3358908964043607,-0.3360475728991868,-0.286823246799699,-0.3463019419915508,-0.3356617701969827,-0.38075372826268145,-0.22863971162306143,-0.3453798217908359,-0.27996172615873777,0.8563405885867114,-0.3467656217965579,-0.3357436804851111,-0.31527711322538116,-0.37303449177067016,-0.33494835952130936,0.35459195081570505,-0.33593671058910785,-0.3360072656350431,-0.35256175329209744,-0.3322348741354915,-0.31539084295286074,-0.3359120570745084,-0.22840760089458764,-0.31676848466421853,-0.39248683889205843,-0.34559152436692014,-0.3289778685294265,-0.27111516581370954,0.5799939345424018,-0.36043192099335813,-0.27539184430618363,-0.28854363526204585,-0.3943377750012473,-0.3119912578984122,-0.313737358295678,-0.34520144211093795,-0.3410439606857445,-0.33576658421623656,-0.094669176803925,-0.3931306608790793,3.732268778369452,-0.2721339733662979,-0.33322729966427983,-0.3130192040003415,-0.3349053284603066,-0.3516125882459511,-0.3360123268932009,-0.347238883496266,-0.29423306522325526,-0.3315582549568044,-0.39441418232536446,-0.2820861580871675,-0.39684838824968566,-0.28823788493799307,-0.34815662128569447,1.0234730969239951,-0.3590958696810968,-0.3512809325363991,-0.28573589238251007,-0.1955521296276996,-0.3991587652347976,-0.3472931915955032,-0.3091623971782584,-0.29999213949107945,-0.24909145614396122,-0.39993775154149713,-0.3535855551160444],\"y\":[1.082274120379705,1.6602330561510095,1.5928576860218056,0.8016467985437495,0.5514354451289184,1.8683906470717533,1.0826051751019623,1.4672413177498433,1.0822724242708217,0.9149090935570522,1.1642556938718474,0.8015239771945478,0.8320553029978798,0.9140610061625855,1.1642553353917822,1.532894977195331,1.1642520641705767,0.06623481735765377,1.2432859901794355,1.3911401305434845,0.8319435129948701,1.0822748851172577,1.771176033061979,1.0822721324112625,1.9415953662738548,0.7698271302029484,0.8012756983764248,0.8680641726782762,0.8016480389518849,1.1593192583921232,1.082261937297581,0.6777932081013817,0.8014527531718257,1.0822586698748495,1.0822860501824305,1.5208778699664487,1.1642433589229166,1.082260456510049,0.8016468389665367,1.082267029873287,1.08227513105343,0.8321417333337527,1.4672472043045959,1.0822915857759594,1.1637906819594637,1.520955903265834,1.4671267303894853,1.9205430691477186,1.8188672049629804,1.4672443235374586,1.082258525193777,0.8016533994518923,0.4489184033227151,1.0822206404097041,0.8366087137560562,1.082270707690705,1.0822745159419471,1.4108897075758273,1.0820857562147173,0.8016478448314962,1.082265470312192,1.5209573377927033,1.0823934184520552,1.1642687863997314,1.467251956686014,1.0818726807210632,0.8314037375051117,1.928227732941291,1.5108975196741594,1.7711753822592606,0.8320561043507225,1.1642482729747539,0.6092124596301535,0.8016627527408945,1.5107093756552352,1.4059939971760822,1.082276704778951,0.5525078995236193,1.1642173917585732,1.6527439688240335,1.7711876164956086,1.0822475821513704,1.2606743839600534,1.0822182518454904,1.4108562724037697,1.0822738184069753,0.9140284480278452,0.5079115165711224,1.0823032804280772,1.164246422110531,0.8319917842948855,1.6611034650087486,0.8320630947302418,1.4106305634070844,1.5179704605546949,0.8594162011083336,1.4108844972751964,0.8320050754997287,1.0755957518251598,1.6611077067348674,0.9140270469248549,1.5504571521455628,1.9214529274947632,0.5515535149099441,2.638178688218233,1.6104067323810125],\"z\":[-0.4061558803251184,-0.5461621241519382,-0.22382102362882098,-0.2208072206213581,-0.020489923025227792,-0.5061217728899563,-0.4064714100039706,-0.0918150024703414,-0.40622176130671794,-0.12152815533955134,-0.3210282839744013,-0.22203853559356257,-0.20584591324664384,-0.12071983953778469,-0.3210155683127288,-0.24852343405890018,-0.3210180747328574,0.06557513002126614,-0.5045887932829595,-0.06854602215573931,-0.2060115046750801,-0.40615660917619745,-0.47519974951556604,-0.4061652351557531,-0.4964703656462049,0.02731843363938438,-0.2210036286583913,-0.3107658160852288,-0.22080840285977246,-0.33124480944167495,-0.40616789270358666,-0.3641990513513839,-0.22090520246047696,-0.4061660909613434,-0.4062234986269482,-0.27491192795020253,-0.32103227691460856,-0.40619348038812386,-0.22080669666870964,-0.40616093438429424,-0.40615684357903825,-0.20591918945456464,-0.09186223647537421,-0.40617252664698733,-0.3214164242085469,-0.2748752121413671,-0.09187509517125696,-0.5406431199818649,-0.5211268968805799,-0.09184599128882463,-0.40616464061254043,-0.22081238701618766,0.00015097281355811777,-0.40618590539719623,-0.22846567143076155,-0.40615993988987975,-0.4061581223778744,-0.17005074196154582,-0.4062575894844199,-0.22080765536299818,-0.4061599729407428,-0.2748833430613056,-0.4068320635990136,-0.32109026074088365,-0.09188717839908682,-0.40633574619200663,-0.20634076197215243,-0.5620635343781756,-0.38646635946862007,-0.47521037882831973,-0.20584736655855498,-0.3210240234838696,-0.016995788001736102,-0.2208663000594839,-0.38695638952429157,-0.13924004945962712,-0.40616666160998605,-0.026567371049017928,-0.32106040059644037,-0.05574047264701918,-0.4753232856934643,-0.40624870735461915,-0.18615314062940883,-0.4061870037249068,-0.17007793513020839,-0.4061578424090999,-0.12070062031273841,-0.2207245335184498,-0.4063141681807827,-0.32102113445752384,-0.20605751226206812,-0.3704690460398169,-0.20585886313228094,-0.17016092518435147,-0.05358709268741855,-0.21731651774366584,-0.17009358678283812,-0.20593518501946154,-0.4099153341498548,-0.3703909667991352,-0.12069855369163722,-0.26953705796261174,-0.5401007356111798,-0.021157904635625037,4.277307216240433,-0.0013611987807998448],\"type\":\"scatter3d\"},{\"hovertemplate\":\"Class=%{marker.color}<br>principal component 1=%{x}<br>principal component 2=%{y}<br>principal component 3=%{z}<extra></extra>\",\"legendgroup\":\"0\",\"marker\":{\"color\":[0,0,0,0,0,0,0,0,0,0,0,0,0,0,0,0,0,0,0,0,0,0,0,0,0,0,0,0,0,0,0,0,0,0,0,0,0,0,0,0,0,0,0,0,0,0,0,0,0,0,0,0,0,0,0,0,0,0,0,0,0,0,0,0,0,0,0,0,0,0,0,0,0,0,0,0,0,0,0,0,0,0,0,0,0,0,0,0,0,0,0,0,0,0,0,0],\"coloraxis\":\"coloraxis\",\"symbol\":\"diamond\"},\"mode\":\"markers\",\"name\":\"0\",\"scene\":\"scene\",\"showlegend\":true,\"x\":[-0.16676698142643134,-0.15009954651436216,-0.14704399473763452,-0.15205832998364457,0.15928977225941196,-0.16791307351098345,-0.22640100019977702,-0.09407851945616946,-0.16733376100041575,-0.2031283213009972,0.2305334253353771,-0.16772810447495803,-0.16803877887573437,-0.1725631077776578,-0.14726406106561274,-0.1668340343146474,-0.16711146208084943,1.5806480665308773,-0.1644012468542192,-0.16799059526382007,-0.16797004842767607,-0.1660647457334941,-0.14676662219718406,-0.14703682103124915,-0.14762740715956926,-0.22666419766314835,-0.1468339097943593,3.8577297995200466,0.4571284317063448,-0.16527329727266052,-0.151363843962604,-0.10408777604023534,-0.1473305630293854,-0.15237857470956104,-0.14707047603233742,-0.16543687779229396,-0.14966904526131028,0.372375282897056,-0.1413621664955677,-0.1666839544804313,0.27120460132168495,-0.22553256812490521,-0.166931439665895,-0.2665231312793457,0.3020545632679186,-0.10815571813069716,-0.16528758884638203,-0.16778392411918105,-0.15207994537239708,-0.09486155997754164,-0.22431344131255085,0.30204891715517723,-0.1681022115050109,0.3021796192363899,-0.15209231541346974,-0.16620400376428185,-0.14716056372105255,-0.16745505691241777,-0.22651295586261425,3.2411244705831592,-0.09370986240712428,-0.16732383064469872,-0.17725118762723135,-0.15193838234775792,-0.150579619791696,-0.16620221305655042,-0.17709662876608256,-0.1477768034120593,-0.17719681346554655,0.3020316963521501,1.099901979272773,-0.17028760784813227,-0.16317472240342015,0.30590551696602697,-0.15008281890466327,-0.16793381661103327,-0.225581745733804,-0.14297165247650206,0.3158171540481842,-0.226469120063971,-0.16795839769452114,-0.1377165838271141,-0.15611087559007839,-0.19214763750435354,-0.046699952510889334,-0.1453824740660341,-0.14726301264771605,0.38196045865510475,-0.15177122342983457,-0.19227729740283395,-0.10789618410721535,-0.145407377327916,-0.09128971449951248,-0.20268937487268276,-0.1659912521477652,-0.1288154040196834],\"y\":[-1.0707790548639815,-2.2153059247861697,-2.061121262280028,-1.986786608327295,-1.8391418938286836,-1.0707835858092445,-0.9887991655911407,-1.8365726334349552,-1.0708144920025477,-1.2354613695326226,-1.350051867985635,-1.0707756967660964,-1.0707820734517086,-1.6526685165038175,-1.0708881865062403,-1.0707720590248981,-1.0707854724121861,-1.0599719622462376,-1.0708058710037398,-1.070779148406391,-1.0707860158244826,-1.0708659643567036,-1.3513935134267245,-1.3514282604078445,-1.3513973070580931,-0.9887963115733917,-1.3513949669037808,-2.2971570309777736,-2.319373605497676,-1.070773346212394,-1.07076694503354,-2.197718511137452,-1.3513992540079878,-2.230527970360515,-1.3514112234428552,-1.0708391854028536,-2.0610972887335746,-2.1746349863494037,-2.1930028986078556,-1.0707755137136705,-1.3487581043894927,-0.988807180993632,-1.0708454505323952,-1.157861252350782,-2.318954865419224,-1.8366098525588717,-1.0707976192589022,-1.0707844133063995,-1.9867875302369193,-1.0746928860173373,-0.988856557255627,-2.318962849982695,-1.0707787799284745,-2.318960091368832,-1.9867852419164918,-1.0707663071615916,-2.2167575233771424,-1.0707999539757842,-0.9888031661936879,-1.0661667687271843,-1.07499575419354,-1.0708028048256197,-1.6526509369230207,-1.986781492486853,-2.2464179100691943,-1.0707662307868056,-1.652657016488827,-2.061201795450719,-1.6526519969239277,-2.3189576006511747,-1.305461415684926,-1.6526869173541001,-2.1761589036203524,-2.3190201165639595,-2.2463570825288444,-1.0707844705152192,-0.9888205420900463,-2.228968804931045,-2.3190648202541366,-0.9888027749228162,-1.070786296993911,-2.216009744562346,-2.208324200909143,-1.2486009197772274,-1.987628454746309,-2.2424545109365965,-1.3513963729426641,-2.3212279288409983,-1.9867813225784707,-1.589729425620417,-0.38187615698447847,-1.3514207136580603,-2.2544729843715925,-1.235457431726498,-1.0708149593351877,-1.8366481989193872],\"z\":[-0.0015221470554806448,0.2922146755629538,0.2702511791231379,0.26871315917229627,0.2605480962027109,-0.0014823923653941539,0.08365542776976387,0.26878643877918307,-0.001497371440389662,0.12029883998962215,0.17078307185481387,-0.001489911446893306,-0.0014783416421812977,0.1898594664038774,-0.0021699490965646166,-0.0015209401033145175,-0.0015094189061241002,-0.06273585433337568,-0.0015986340077865323,-0.0014804343958270915,-0.0014800763072515498,-0.0015326848822273486,0.1838474321582097,0.18386199455666227,0.18387735054647858,0.08366395718864392,0.18384994916486852,0.15979705691393212,0.27910617945538163,-0.0015739284556932586,-0.002048920469420951,0.25695305222112697,0.1838675347374251,0.29638244592743285,0.18386051602039763,-0.001558208020164482,0.2703369410792481,0.24167677231211215,0.3230980933720637,-0.001525522141316733,0.16919771027887726,0.08362706857876523,-0.0015063109547261931,0.21163887623841815,0.28432624949325686,0.2692718963155822,-0.001569700904434752,-0.0014866659922903268,0.268714037848388,-0.0033694070125145584,0.08359313222102996,0.2843276723379754,-0.0014766875269066847,0.2843227931719146,0.2687141067593224,-0.0015432966228702781,0.26737590624477503,-0.001495478263292128,0.08365985948929577,-0.1183668455132411,-0.003361981921974561,-0.0014995108632570818,0.19001651748167966,0.268708283242415,0.30788143750224345,-0.0015433694160126253,0.19001218730631528,0.2702885620552091,0.1900148278702159,0.2843274502553235,0.06281614343649243,0.18978475765020927,0.3740005447437104,0.28420507223504876,0.30785513390654334,-0.0014815491482635067,0.08363080342161011,0.2873494226955663,0.2838741929413083,0.08365830535977295,-0.0014804300115335799,0.29190114964627273,0.2734553100229982,0.12437346649837033,0.2652524923944276,0.31223164754740984,0.1838647887814749,0.28195350432140054,0.2687025606268544,0.1980035734043439,-0.07051526337323909,0.18380530349552163,0.3257738320883825,0.12028327477394449,-0.00154304936584992,0.2699818451960903],\"type\":\"scatter3d\"},{\"hovertemplate\":\"Class=%{marker.color}<br>principal component 1=%{x}<br>principal component 2=%{y}<br>principal component 3=%{z}<extra></extra>\",\"legendgroup\":\"3\",\"marker\":{\"color\":[3,3],\"coloraxis\":\"coloraxis\",\"symbol\":\"square\"},\"mode\":\"markers\",\"name\":\"3\",\"scene\":\"scene\",\"showlegend\":true,\"x\":[4.424493552774078,-0.34434873689847173],\"y\":[1.4113746975607284,3.6471406378080955],\"z\":[10.166263027079633,21.936611465382846],\"type\":\"scatter3d\"},{\"hovertemplate\":\"Class=%{marker.color}<br>principal component 1=%{x}<br>principal component 2=%{y}<br>principal component 3=%{z}<extra></extra>\",\"legendgroup\":\"2\",\"marker\":{\"color\":[2],\"coloraxis\":\"coloraxis\",\"symbol\":\"x\"},\"mode\":\"markers\",\"name\":\"2\",\"scene\":\"scene\",\"showlegend\":true,\"x\":[34.05901404494024],\"y\":[1.9426304981510407],\"z\":[-1.4685184990568414],\"type\":\"scatter3d\"}],                        {\"template\":{\"data\":{\"histogram2dcontour\":[{\"type\":\"histogram2dcontour\",\"colorbar\":{\"outlinewidth\":0,\"ticks\":\"\"},\"colorscale\":[[0.0,\"#0d0887\"],[0.1111111111111111,\"#46039f\"],[0.2222222222222222,\"#7201a8\"],[0.3333333333333333,\"#9c179e\"],[0.4444444444444444,\"#bd3786\"],[0.5555555555555556,\"#d8576b\"],[0.6666666666666666,\"#ed7953\"],[0.7777777777777778,\"#fb9f3a\"],[0.8888888888888888,\"#fdca26\"],[1.0,\"#f0f921\"]]}],\"choropleth\":[{\"type\":\"choropleth\",\"colorbar\":{\"outlinewidth\":0,\"ticks\":\"\"}}],\"histogram2d\":[{\"type\":\"histogram2d\",\"colorbar\":{\"outlinewidth\":0,\"ticks\":\"\"},\"colorscale\":[[0.0,\"#0d0887\"],[0.1111111111111111,\"#46039f\"],[0.2222222222222222,\"#7201a8\"],[0.3333333333333333,\"#9c179e\"],[0.4444444444444444,\"#bd3786\"],[0.5555555555555556,\"#d8576b\"],[0.6666666666666666,\"#ed7953\"],[0.7777777777777778,\"#fb9f3a\"],[0.8888888888888888,\"#fdca26\"],[1.0,\"#f0f921\"]]}],\"heatmap\":[{\"type\":\"heatmap\",\"colorbar\":{\"outlinewidth\":0,\"ticks\":\"\"},\"colorscale\":[[0.0,\"#0d0887\"],[0.1111111111111111,\"#46039f\"],[0.2222222222222222,\"#7201a8\"],[0.3333333333333333,\"#9c179e\"],[0.4444444444444444,\"#bd3786\"],[0.5555555555555556,\"#d8576b\"],[0.6666666666666666,\"#ed7953\"],[0.7777777777777778,\"#fb9f3a\"],[0.8888888888888888,\"#fdca26\"],[1.0,\"#f0f921\"]]}],\"heatmapgl\":[{\"type\":\"heatmapgl\",\"colorbar\":{\"outlinewidth\":0,\"ticks\":\"\"},\"colorscale\":[[0.0,\"#0d0887\"],[0.1111111111111111,\"#46039f\"],[0.2222222222222222,\"#7201a8\"],[0.3333333333333333,\"#9c179e\"],[0.4444444444444444,\"#bd3786\"],[0.5555555555555556,\"#d8576b\"],[0.6666666666666666,\"#ed7953\"],[0.7777777777777778,\"#fb9f3a\"],[0.8888888888888888,\"#fdca26\"],[1.0,\"#f0f921\"]]}],\"contourcarpet\":[{\"type\":\"contourcarpet\",\"colorbar\":{\"outlinewidth\":0,\"ticks\":\"\"}}],\"contour\":[{\"type\":\"contour\",\"colorbar\":{\"outlinewidth\":0,\"ticks\":\"\"},\"colorscale\":[[0.0,\"#0d0887\"],[0.1111111111111111,\"#46039f\"],[0.2222222222222222,\"#7201a8\"],[0.3333333333333333,\"#9c179e\"],[0.4444444444444444,\"#bd3786\"],[0.5555555555555556,\"#d8576b\"],[0.6666666666666666,\"#ed7953\"],[0.7777777777777778,\"#fb9f3a\"],[0.8888888888888888,\"#fdca26\"],[1.0,\"#f0f921\"]]}],\"surface\":[{\"type\":\"surface\",\"colorbar\":{\"outlinewidth\":0,\"ticks\":\"\"},\"colorscale\":[[0.0,\"#0d0887\"],[0.1111111111111111,\"#46039f\"],[0.2222222222222222,\"#7201a8\"],[0.3333333333333333,\"#9c179e\"],[0.4444444444444444,\"#bd3786\"],[0.5555555555555556,\"#d8576b\"],[0.6666666666666666,\"#ed7953\"],[0.7777777777777778,\"#fb9f3a\"],[0.8888888888888888,\"#fdca26\"],[1.0,\"#f0f921\"]]}],\"mesh3d\":[{\"type\":\"mesh3d\",\"colorbar\":{\"outlinewidth\":0,\"ticks\":\"\"}}],\"scatter\":[{\"fillpattern\":{\"fillmode\":\"overlay\",\"size\":10,\"solidity\":0.2},\"type\":\"scatter\"}],\"parcoords\":[{\"type\":\"parcoords\",\"line\":{\"colorbar\":{\"outlinewidth\":0,\"ticks\":\"\"}}}],\"scatterpolargl\":[{\"type\":\"scatterpolargl\",\"marker\":{\"colorbar\":{\"outlinewidth\":0,\"ticks\":\"\"}}}],\"bar\":[{\"error_x\":{\"color\":\"#2a3f5f\"},\"error_y\":{\"color\":\"#2a3f5f\"},\"marker\":{\"line\":{\"color\":\"#E5ECF6\",\"width\":0.5},\"pattern\":{\"fillmode\":\"overlay\",\"size\":10,\"solidity\":0.2}},\"type\":\"bar\"}],\"scattergeo\":[{\"type\":\"scattergeo\",\"marker\":{\"colorbar\":{\"outlinewidth\":0,\"ticks\":\"\"}}}],\"scatterpolar\":[{\"type\":\"scatterpolar\",\"marker\":{\"colorbar\":{\"outlinewidth\":0,\"ticks\":\"\"}}}],\"histogram\":[{\"marker\":{\"pattern\":{\"fillmode\":\"overlay\",\"size\":10,\"solidity\":0.2}},\"type\":\"histogram\"}],\"scattergl\":[{\"type\":\"scattergl\",\"marker\":{\"colorbar\":{\"outlinewidth\":0,\"ticks\":\"\"}}}],\"scatter3d\":[{\"type\":\"scatter3d\",\"line\":{\"colorbar\":{\"outlinewidth\":0,\"ticks\":\"\"}},\"marker\":{\"colorbar\":{\"outlinewidth\":0,\"ticks\":\"\"}}}],\"scattermapbox\":[{\"type\":\"scattermapbox\",\"marker\":{\"colorbar\":{\"outlinewidth\":0,\"ticks\":\"\"}}}],\"scatterternary\":[{\"type\":\"scatterternary\",\"marker\":{\"colorbar\":{\"outlinewidth\":0,\"ticks\":\"\"}}}],\"scattercarpet\":[{\"type\":\"scattercarpet\",\"marker\":{\"colorbar\":{\"outlinewidth\":0,\"ticks\":\"\"}}}],\"carpet\":[{\"aaxis\":{\"endlinecolor\":\"#2a3f5f\",\"gridcolor\":\"white\",\"linecolor\":\"white\",\"minorgridcolor\":\"white\",\"startlinecolor\":\"#2a3f5f\"},\"baxis\":{\"endlinecolor\":\"#2a3f5f\",\"gridcolor\":\"white\",\"linecolor\":\"white\",\"minorgridcolor\":\"white\",\"startlinecolor\":\"#2a3f5f\"},\"type\":\"carpet\"}],\"table\":[{\"cells\":{\"fill\":{\"color\":\"#EBF0F8\"},\"line\":{\"color\":\"white\"}},\"header\":{\"fill\":{\"color\":\"#C8D4E3\"},\"line\":{\"color\":\"white\"}},\"type\":\"table\"}],\"barpolar\":[{\"marker\":{\"line\":{\"color\":\"#E5ECF6\",\"width\":0.5},\"pattern\":{\"fillmode\":\"overlay\",\"size\":10,\"solidity\":0.2}},\"type\":\"barpolar\"}],\"pie\":[{\"automargin\":true,\"type\":\"pie\"}]},\"layout\":{\"autotypenumbers\":\"strict\",\"colorway\":[\"#636efa\",\"#EF553B\",\"#00cc96\",\"#ab63fa\",\"#FFA15A\",\"#19d3f3\",\"#FF6692\",\"#B6E880\",\"#FF97FF\",\"#FECB52\"],\"font\":{\"color\":\"#2a3f5f\"},\"hovermode\":\"closest\",\"hoverlabel\":{\"align\":\"left\"},\"paper_bgcolor\":\"white\",\"plot_bgcolor\":\"#E5ECF6\",\"polar\":{\"bgcolor\":\"#E5ECF6\",\"angularaxis\":{\"gridcolor\":\"white\",\"linecolor\":\"white\",\"ticks\":\"\"},\"radialaxis\":{\"gridcolor\":\"white\",\"linecolor\":\"white\",\"ticks\":\"\"}},\"ternary\":{\"bgcolor\":\"#E5ECF6\",\"aaxis\":{\"gridcolor\":\"white\",\"linecolor\":\"white\",\"ticks\":\"\"},\"baxis\":{\"gridcolor\":\"white\",\"linecolor\":\"white\",\"ticks\":\"\"},\"caxis\":{\"gridcolor\":\"white\",\"linecolor\":\"white\",\"ticks\":\"\"}},\"coloraxis\":{\"colorbar\":{\"outlinewidth\":0,\"ticks\":\"\"}},\"colorscale\":{\"sequential\":[[0.0,\"#0d0887\"],[0.1111111111111111,\"#46039f\"],[0.2222222222222222,\"#7201a8\"],[0.3333333333333333,\"#9c179e\"],[0.4444444444444444,\"#bd3786\"],[0.5555555555555556,\"#d8576b\"],[0.6666666666666666,\"#ed7953\"],[0.7777777777777778,\"#fb9f3a\"],[0.8888888888888888,\"#fdca26\"],[1.0,\"#f0f921\"]],\"sequentialminus\":[[0.0,\"#0d0887\"],[0.1111111111111111,\"#46039f\"],[0.2222222222222222,\"#7201a8\"],[0.3333333333333333,\"#9c179e\"],[0.4444444444444444,\"#bd3786\"],[0.5555555555555556,\"#d8576b\"],[0.6666666666666666,\"#ed7953\"],[0.7777777777777778,\"#fb9f3a\"],[0.8888888888888888,\"#fdca26\"],[1.0,\"#f0f921\"]],\"diverging\":[[0,\"#8e0152\"],[0.1,\"#c51b7d\"],[0.2,\"#de77ae\"],[0.3,\"#f1b6da\"],[0.4,\"#fde0ef\"],[0.5,\"#f7f7f7\"],[0.6,\"#e6f5d0\"],[0.7,\"#b8e186\"],[0.8,\"#7fbc41\"],[0.9,\"#4d9221\"],[1,\"#276419\"]]},\"xaxis\":{\"gridcolor\":\"white\",\"linecolor\":\"white\",\"ticks\":\"\",\"title\":{\"standoff\":15},\"zerolinecolor\":\"white\",\"automargin\":true,\"zerolinewidth\":2},\"yaxis\":{\"gridcolor\":\"white\",\"linecolor\":\"white\",\"ticks\":\"\",\"title\":{\"standoff\":15},\"zerolinecolor\":\"white\",\"automargin\":true,\"zerolinewidth\":2},\"scene\":{\"xaxis\":{\"backgroundcolor\":\"#E5ECF6\",\"gridcolor\":\"white\",\"linecolor\":\"white\",\"showbackground\":true,\"ticks\":\"\",\"zerolinecolor\":\"white\",\"gridwidth\":2},\"yaxis\":{\"backgroundcolor\":\"#E5ECF6\",\"gridcolor\":\"white\",\"linecolor\":\"white\",\"showbackground\":true,\"ticks\":\"\",\"zerolinecolor\":\"white\",\"gridwidth\":2},\"zaxis\":{\"backgroundcolor\":\"#E5ECF6\",\"gridcolor\":\"white\",\"linecolor\":\"white\",\"showbackground\":true,\"ticks\":\"\",\"zerolinecolor\":\"white\",\"gridwidth\":2}},\"shapedefaults\":{\"line\":{\"color\":\"#2a3f5f\"}},\"annotationdefaults\":{\"arrowcolor\":\"#2a3f5f\",\"arrowhead\":0,\"arrowwidth\":1},\"geo\":{\"bgcolor\":\"white\",\"landcolor\":\"#E5ECF6\",\"subunitcolor\":\"white\",\"showland\":true,\"showlakes\":true,\"lakecolor\":\"white\"},\"title\":{\"x\":0.05},\"mapbox\":{\"style\":\"light\"}}},\"scene\":{\"domain\":{\"x\":[0.0,1.0],\"y\":[0.0,1.0]},\"xaxis\":{\"title\":{\"text\":\"principal component 1\"}},\"yaxis\":{\"title\":{\"text\":\"principal component 2\"}},\"zaxis\":{\"title\":{\"text\":\"principal component 3\"}}},\"coloraxis\":{\"colorbar\":{\"title\":{\"text\":\"Class\"}},\"colorscale\":[[0.0,\"#0d0887\"],[0.1111111111111111,\"#46039f\"],[0.2222222222222222,\"#7201a8\"],[0.3333333333333333,\"#9c179e\"],[0.4444444444444444,\"#bd3786\"],[0.5555555555555556,\"#d8576b\"],[0.6666666666666666,\"#ed7953\"],[0.7777777777777778,\"#fb9f3a\"],[0.8888888888888888,\"#fdca26\"],[1.0,\"#f0f921\"]]},\"legend\":{\"title\":{\"text\":\"Class\"},\"tracegroupgap\":0,\"x\":0,\"y\":1},\"margin\":{\"t\":60},\"width\":800},                        {\"responsive\": true}                    ).then(function(){\n",
       "                            \n",
       "var gd = document.getElementById('4ddfddd6-7ea9-4956-97e1-1d874c268e93');\n",
       "var x = new MutationObserver(function (mutations, observer) {{\n",
       "        var display = window.getComputedStyle(gd).display;\n",
       "        if (!display || display === 'none') {{\n",
       "            console.log([gd, 'removed!']);\n",
       "            Plotly.purge(gd);\n",
       "            observer.disconnect();\n",
       "        }}\n",
       "}});\n",
       "\n",
       "// Listen for the removal of the full notebook cells\n",
       "var notebookContainer = gd.closest('#notebook-container');\n",
       "if (notebookContainer) {{\n",
       "    x.observe(notebookContainer, {childList: true});\n",
       "}}\n",
       "\n",
       "// Listen for the clearing of the current output cell\n",
       "var outputEl = gd.closest('.output');\n",
       "if (outputEl) {{\n",
       "    x.observe(outputEl, {childList: true});\n",
       "}}\n",
       "\n",
       "                        })                };                });            </script>        </div>"
      ]
     },
     "metadata": {},
     "output_type": "display_data"
    }
   ],
   "source": [
    "# Creating a 3D-Scatter with the PCA data and the clusters\n",
    "fig = px.scatter_3d(\n",
    "    clustered_df,\n",
    "    x=\"principal component 1\",\n",
    "    y=\"principal component 2\",\n",
    "    z=\"principal component 3\",\n",
    "    color=\"Class\",\n",
    "    symbol=\"Class\",\n",
    "    width=800,\n",
    ")\n",
    "fig.update_layout(legend=dict(x=0, y=1))\n",
    "fig.show()\n",
    "\n"
   ]
  },
  {
   "cell_type": "code",
   "execution_count": 60,
   "metadata": {},
   "outputs": [
    {
     "data": {},
     "metadata": {},
     "output_type": "display_data"
    },
    {
     "data": {
      "application/vnd.holoviews_exec.v0+json": "",
      "text/html": [
       "<div id='1917'>\n",
       "\n",
       "\n",
       "\n",
       "\n",
       "\n",
       "  <div class=\"bk-root\" id=\"c7b91be0-ef3f-4e54-977f-f92349e6da80\" data-root-id=\"1917\"></div>\n",
       "</div>\n",
       "<script type=\"application/javascript\">(function(root) {\n",
       "  function embed_document(root) {\n",
       "    var docs_json = {\"5c2d6204-cb0a-4aa4-ab88-7ba74b217f1b\":{\"defs\":[{\"extends\":null,\"module\":null,\"name\":\"ReactiveHTML1\",\"overrides\":[],\"properties\":[]},{\"extends\":null,\"module\":null,\"name\":\"FlexBox1\",\"overrides\":[],\"properties\":[{\"default\":\"flex-start\",\"kind\":null,\"name\":\"align_content\"},{\"default\":\"flex-start\",\"kind\":null,\"name\":\"align_items\"},{\"default\":\"row\",\"kind\":null,\"name\":\"flex_direction\"},{\"default\":\"wrap\",\"kind\":null,\"name\":\"flex_wrap\"},{\"default\":\"flex-start\",\"kind\":null,\"name\":\"justify_content\"}]},{\"extends\":null,\"module\":null,\"name\":\"GridStack1\",\"overrides\":[],\"properties\":[{\"default\":\"warn\",\"kind\":null,\"name\":\"mode\"},{\"default\":null,\"kind\":null,\"name\":\"ncols\"},{\"default\":null,\"kind\":null,\"name\":\"nrows\"},{\"default\":true,\"kind\":null,\"name\":\"allow_resize\"},{\"default\":true,\"kind\":null,\"name\":\"allow_drag\"},{\"default\":[],\"kind\":null,\"name\":\"state\"}]},{\"extends\":null,\"module\":null,\"name\":\"click1\",\"overrides\":[],\"properties\":[{\"default\":\"\",\"kind\":null,\"name\":\"terminal_output\"},{\"default\":\"\",\"kind\":null,\"name\":\"debug_name\"},{\"default\":0,\"kind\":null,\"name\":\"clears\"}]},{\"extends\":null,\"module\":null,\"name\":\"TemplateActions1\",\"overrides\":[],\"properties\":[{\"default\":0,\"kind\":null,\"name\":\"open_modal\"},{\"default\":0,\"kind\":null,\"name\":\"close_modal\"}]},{\"extends\":null,\"module\":null,\"name\":\"MaterialTemplateActions1\",\"overrides\":[],\"properties\":[{\"default\":0,\"kind\":null,\"name\":\"open_modal\"},{\"default\":0,\"kind\":null,\"name\":\"close_modal\"}]}],\"roots\":{\"references\":[{\"attributes\":{\"margin\":[5,5,5,5],\"name\":\"HSpacer03472\",\"sizing_mode\":\"stretch_width\"},\"id\":\"1918\",\"type\":\"Spacer\"},{\"attributes\":{},\"id\":\"1922\",\"type\":\"StringEditor\"},{\"attributes\":{},\"id\":\"1931\",\"type\":\"StringFormatter\"},{\"attributes\":{},\"id\":\"1927\",\"type\":\"StringEditor\"},{\"attributes\":{\"margin\":[5,5,5,5],\"name\":\"HSpacer03473\",\"sizing_mode\":\"stretch_width\"},\"id\":\"1973\",\"type\":\"Spacer\"},{\"attributes\":{},\"id\":\"1926\",\"type\":\"StringFormatter\"},{\"attributes\":{},\"id\":\"1921\",\"type\":\"StringFormatter\"},{\"attributes\":{\"children\":[{\"id\":\"1918\"},{\"id\":\"1966\"},{\"id\":\"1973\"}],\"margin\":[0,0,0,0],\"name\":\"Row03468\",\"tags\":[\"embedded\"]},\"id\":\"1917\",\"type\":\"Row\"},{\"attributes\":{\"columns\":[{\"id\":\"1923\"},{\"id\":\"1928\"},{\"id\":\"1933\"},{\"id\":\"1938\"},{\"id\":\"1943\"},{\"id\":\"1948\"},{\"id\":\"1953\"},{\"id\":\"1958\"},{\"id\":\"1963\"}],\"height\":300,\"reorderable\":false,\"source\":{\"id\":\"1919\"},\"view\":{\"id\":\"1968\"},\"width\":700},\"id\":\"1966\",\"type\":\"DataTable\"},{\"attributes\":{\"format\":\"0,0.0[00000]\"},\"id\":\"1936\",\"type\":\"NumberFormatter\"},{\"attributes\":{\"format\":\"0,0.0[00000]\"},\"id\":\"1946\",\"type\":\"NumberFormatter\"},{\"attributes\":{\"data\":{\"Algorithm\":[\"Scrypt\",\"Scrypt\",\"X13\",\"SHA-256\",\"Ethash\",\"Scrypt\",\"X11\",\"CryptoNight-V7\",\"Ethash\",\"Equihash\",\"SHA-512\",\"Multiple\",\"SHA-256\",\"SHA-256\",\"Scrypt\",\"X15\",\"X11\",\"Scrypt\",\"Scrypt\",\"Scrypt\",\"Multiple\",\"Scrypt\",\"SHA-256\",\"Scrypt\",\"Scrypt\",\"Scrypt\",\"Quark\",\"Groestl\",\"Scrypt\",\"Scrypt\",\"Scrypt\",\"Scrypt\",\"Scrypt\",\"X11\",\"Scrypt\",\"Groestl\",\"Multiple\",\"SHA-256\",\"Scrypt\",\"Scrypt\",\"Scrypt\",\"Scrypt\",\"PoS\",\"Scrypt\",\"Scrypt\",\"NeoScrypt\",\"Scrypt\",\"Scrypt\",\"Scrypt\",\"Scrypt\",\"X11\",\"Scrypt\",\"X11\",\"SHA-256\",\"Scrypt\",\"Scrypt\",\"Scrypt\",\"SHA3\",\"Scrypt\",\"HybridScryptHash256\",\"Scrypt\",\"Scrypt\",\"SHA-256\",\"Scrypt\",\"X13\",\"Scrypt\",\"SHA-256\",\"Scrypt\",\"X13\",\"NeoScrypt\",\"Scrypt\",\"Scrypt\",\"Scrypt\",\"Scrypt\",\"Scrypt\",\"Scrypt\",\"X11\",\"X11\",\"SHA-256\",\"Multiple\",\"SHA-256\",\"PHI1612\",\"X11\",\"SHA-256\",\"SHA-256\",\"SHA-256\",\"X11\",\"Scrypt\",\"Scrypt\",\"Scrypt\",\"Scrypt\",\"Lyra2REv2\",\"Scrypt\",\"X11\",\"Multiple\",\"SHA-256\",\"X13\",\"Scrypt\",\"CryptoNight\",\"CryptoNight\",\"Shabal256\",\"Counterparty\",\"Scrypt\",\"SHA-256\",\"Groestl\",\"Scrypt\",\"Scrypt\",\"Scrypt\",\"X13\",\"Scrypt\",\"Scrypt\",\"Scrypt\",\"Scrypt\",\"X13\",\"Scrypt\",\"Stanford Folding\",\"X11\",\"Multiple\",\"QuBit\",\"Scrypt\",\"Scrypt\",\"Scrypt\",\"M7 POW\",\"Scrypt\",\"SHA-256\",\"Scrypt\",\"X11\",\"SHA3\",\"X11\",\"Lyra2RE\",\"SHA-256\",\"QUAIT\",\"X11\",\"X11\",\"Scrypt\",\"Scrypt\",\"Scrypt\",\"Ethash\",\"X13\",\"Blake2b\",\"SHA-256\",\"X15\",\"X11\",\"SHA-256\",\"BLAKE256\",\"Scrypt\",\"1GB AES Pattern Search\",\"SHA-256\",\"X11\",\"Scrypt\",\"SHA-256\",\"SHA-256\",\"NIST5\",\"Scrypt\",\"Scrypt\",\"X11\",\"Dagger\",\"Scrypt\",\"X11GOST\",\"X11\",\"Scrypt\",\"SHA-256\",\"Scrypt\",\"PoS\",\"Scrypt\",\"X11\",\"X11\",\"SHA-256\",\"SHA-256\",\"NIST5\",\"X11\",\"Scrypt\",\"POS 3.0\",\"Scrypt\",\"Scrypt\",\"Scrypt\",\"X13\",\"X11\",\"X11\",\"Equihash\",\"X11\",\"Scrypt\",\"CryptoNight\",\"SHA-256\",\"SHA-256\",\"X11\",\"Scrypt\",\"Multiple\",\"Scrypt\",\"Scrypt\",\"Scrypt\",\"SHA-256\",\"Scrypt\",\"Scrypt\",\"SHA-256D\",\"PoS\",\"Scrypt\",\"X11\",\"Lyra2Z\",\"PoS\",\"X13\",\"X14\",\"PoS\",\"SHA-256D\",\"Ethash\"],\"Class\":{\"__ndarray__\":\"AQAAAAEAAAAAAAAAAAAAAAAAAAAAAAAAAQAAAAAAAAABAAAAAQAAAAAAAAABAAAAAAAAAAEAAAAAAAAAAAAAAAAAAAAAAAAAAAAAAAEAAAAAAAAAAAAAAAAAAAAAAAAAAAAAAAEAAAABAAAAAAAAAAEAAAAAAAAAAAAAAAEAAAABAAAAAAAAAAAAAAABAAAAAQAAAAAAAAABAAAAAQAAAAAAAAAAAAAAAAAAAAEAAAAAAAAAAAAAAAAAAAABAAAAAQAAAAAAAAABAAAAAQAAAAEAAAAAAAAAAQAAAAAAAAAAAAAAAAAAAAAAAAABAAAAAQAAAAAAAAAAAAAAAAAAAAEAAAABAAAAAAAAAAEAAAABAAAAAAAAAAAAAAABAAAAAAAAAAAAAAABAAAAAQAAAAEAAAABAAAAAQAAAAAAAAABAAAAAQAAAAAAAAABAAAAAQAAAAAAAAABAAAAAAAAAAEAAAAAAAAAAQAAAAEAAAABAAAAAQAAAAEAAAABAAAAAAAAAAAAAAABAAAAAQAAAAEAAAAAAAAAAQAAAAEAAAAAAAAAAQAAAAEAAAABAAAAAQAAAAEAAAAAAAAAAAAAAAEAAAABAAAAAQAAAAEAAAAAAAAAAQAAAAAAAAAAAAAAAQAAAAEAAAABAAAAAQAAAAAAAAABAAAAAQAAAAEAAAAAAAAAAAAAAAEAAAADAAAAAAAAAAAAAAABAAAAAAAAAAEAAAAAAAAAAQAAAAEAAAAAAAAAAAAAAAEAAAABAAAAAQAAAAAAAAAAAAAAAAAAAAEAAAABAAAAAQAAAAEAAAAAAAAAAQAAAAEAAAAAAAAAAQAAAAAAAAABAAAAAQAAAAEAAAAAAAAAAQAAAAAAAAAAAAAAAQAAAAAAAAABAAAAAAAAAAEAAAABAAAAAAAAAAAAAAABAAAAAQAAAAAAAAABAAAAAQAAAAAAAAAAAAAAAAAAAAEAAAABAAAAAAAAAAMAAAAAAAAAAAAAAAAAAAAAAAAAAQAAAAAAAAAAAAAAAQAAAAEAAAABAAAAAAAAAAAAAAAAAAAAAAAAAAAAAAAAAAAAAQAAAAEAAAACAAAAAQAAAA==\",\"dtype\":\"int32\",\"order\":\"little\",\"shape\":[205]},\"CoinName\":[\"42 Coin\",\"404Coin\",\"EliteCoin\",\"Bitcoin\",\"Ethereum\",\"Litecoin\",\"Dash\",\"Monero\",\"Ethereum Classic\",\"ZCash\",\"Bitshares\",\"DigiByte\",\"BitcoinDark\",\"PayCoin\",\"ProsperCoin\",\"KoboCoin\",\"Spreadcoin\",\"Argentum\",\"Aurora Coin\",\"BlueCoin\",\"MyriadCoin\",\"MoonCoin\",\"ZetaCoin\",\"SexCoin\",\"Quatloo\",\"EnergyCoin\",\"QuarkCoin\",\"Riecoin\",\"Digitalcoin \",\"BitBar\",\"Catcoin\",\"CryptoBullion\",\"CannaCoin\",\"CryptCoin\",\"CasinoCoin\",\"Diamond\",\"Verge\",\"DevCoin\",\"EarthCoin\",\"E-Gulden\",\"Einsteinium\",\"Emerald\",\"Exclusive Coin\",\"FlutterCoin\",\"Franko\",\"FeatherCoin\",\"GrandCoin\",\"GlobalCoin\",\"GoldCoin\",\"HoboNickels\",\"HyperStake\",\"Infinite Coin\",\"IOCoin\",\"IXcoin\",\"KrugerCoin\",\"LuckyCoin\",\"Litebar \",\"MaxCoin\",\"MegaCoin\",\"MediterraneanCoin\",\"MintCoin\",\"MinCoin\",\"MazaCoin\",\"Nautilus Coin\",\"NavCoin\",\"NobleCoin\",\"Namecoin\",\"NyanCoin\",\"OpalCoin\",\"Orbitcoin\",\"PotCoin\",\"PhoenixCoin\",\"Reddcoin\",\"RonPaulCoin\",\"StableCoin\",\"SmartCoin\",\"SuperCoin\",\"SyncCoin\",\"SysCoin\",\"TeslaCoin\",\"TigerCoin\",\"TittieCoin\",\"TorCoin\",\"TerraCoin\",\"UnbreakableCoin\",\"Unobtanium\",\"UroCoin\",\"UnitaryStatus Dollar\",\"UltraCoin\",\"ViaCoin\",\"VeriCoin\",\"Vertcoin\",\"WorldCoin\",\"X11 Coin\",\"Crypti\",\"JouleCoin\",\"StealthCoin\",\"ZCC Coin\",\"ByteCoin\",\"DigitalNote \",\"BurstCoin\",\"StorjCoin\",\"MonaCoin\",\"Neutron\",\"FairCoin\",\"Gulden\",\"RubyCoin\",\"PesetaCoin\",\"Kore\",\"Wild Beast Coin\",\"Dnotes\",\"Flo\",\"8BIT Coin\",\"Sativa Coin\",\"ArtByte\",\"Folding Coin\",\"Ucoin\",\"Unitus\",\"CypherPunkCoin\",\"OmniCron\",\"Vtorrent\",\"GreenCoin\",\"Cryptonite\",\"MasterCoin\",\"SoonCoin\",\"1Credit\",\"IslaCoin\",\"Nexus\",\"MarsCoin \",\"Crypto\",\"Anarchists Prime\",\"Droidz\",\"BowsCoin\",\"Squall Coin\",\"Song Coin\",\"BitZeny\",\"Diggits\",\"Expanse\",\"Paycon\",\"Siacoin\",\"Emercoin\",\"EverGreenCoin\",\"MindCoin\",\"I0coin\",\"Decred\",\"Revolution VR\",\"HOdlcoin\",\"EDRCoin\",\"Hitcoin\",\"Gamecredits\",\"DubaiCoin\",\"CarpeDiemCoin\",\"PWR Coin\",\"BillaryCoin\",\"GPU Coin\",\"Adzcoin\",\"SoilCoin\",\"YoCoin\",\"SibCoin\",\"EuropeCoin\",\"ZeitCoin\",\"SwingCoin\",\"SafeExchangeCoin\",\"Nebuchadnezzar\",\"Francs\",\"BolivarCoin\",\"Ratecoin\",\"Revenu\",\"Clockcoin\",\"VIP Tokens\",\"BitSend\",\"Omni\",\"Let it Ride\",\"PutinCoin\",\"iBankCoin\",\"Frankywillcoin\",\"MudraCoin\",\"PizzaCoin\",\"Lutetium Coin\",\"Komodo\",\"GoldBlocks\",\"CarterCoin\",\"Karbo\",\"BitTokens\",\"ZayedCoin\",\"MustangCoin\",\"ZoneCoin\",\"Circuits of Value\",\"RootCoin\",\"DopeCoin\",\"BitCurrency\",\"DollarCoin\",\"Swiscoin\",\"Shilling\",\"BuzzCoin\",\"Opair\",\"PesoBit\",\"Halloween Coin\",\"ZCoin\",\"CoffeeCoin\",\"RoyalCoin\",\"GanjaCoin V2\",\"TeamUP\",\"LanaCoin\",\"Elementrem\"],\"ProofType\":[\"PoW/PoS\",\"PoW/PoS\",\"PoW/PoS\",\"PoW\",\"PoW\",\"PoW\",\"PoW/PoS\",\"PoW\",\"PoW\",\"PoW\",\"PoS\",\"PoW\",\"PoW/PoS\",\"PoS\",\"PoW\",\"PoW/PoS\",\"PoW\",\"PoW\",\"PoW/PoS\",\"PoW/PoS\",\"PoW\",\"PoW\",\"PoW\",\"PoW\",\"PoW\",\"PoW/PoS\",\"PoW\",\"PoW\",\"PoW\",\"PoW/PoS\",\"PoW\",\"PoW/PoS\",\"PoW\",\"PoW\",\"PoC\",\"PoW/PoS\",\"PoW\",\"PoW\",\"PoW\",\"PoW\",\"PoW\",\"PoW\",\"PoS\",\"PoS/PoW/PoT\",\"PoW\",\"PoW\",\"PoW\",\"PoW\",\"PoW\",\"PoW/PoS\",\"PoS\",\"PoW\",\"PoW/PoS\",\"PoW\",\"PoW\",\"PoW\",\"PoW\",\"PoW/PoS\",\"PoW\",\"PoW\",\"PoS\",\"PoW\",\"PoW/PoS\",\"PoS\",\"PoW/PoS\",\"PoW\",\"PoW\",\"PoW\",\"PoW/PoS\",\"PoW/PoS\",\"PoW/PoS\",\"PoW/PoS\",\"PoW/PoS\",\"PoW\",\"PoW\",\"PoW\",\"PoS\",\"PoW/PoS\",\"PoW\",\"PoS\",\"PoW\",\"PoS\",\"PoW/PoS\",\"PoW\",\"PoW\",\"PoW\",\"PoW\",\"PoW/PoS\",\"PoW/PoS\",\"PoW\",\"PoST\",\"PoW\",\"PoW\",\"PoW/PoS\",\"PoS\",\"PoW\",\"PoW/PoS\",\"PoW/PoS\",\"PoW\",\"PoW\",\"PoC\",\"PoS\",\"PoW\",\"PoW/PoS\",\"PoW/PoS\",\"PoW\",\"PoS\",\"PoW\",\"PoW/PoS\",\"PoW\",\"PoS\",\"PoW\",\"PoW/PoS\",\"PoW/PoS\",\"PoW\",\"PoW\",\"PoS\",\"PoW\",\"PoW\",\"PoW\",\"PoW/PoS\",\"PoW\",\"PoW\",\"PoW\",\"PoW\",\"PoW\",\"PoW/PoS\",\"PoW/nPoS\",\"PoW\",\"PoW\",\"PoW\",\"PoW/PoS\",\"PoW\",\"PoS/PoW\",\"PoW\",\"PoW\",\"PoS\",\"PoW\",\"PoW/PoS\",\"PoW\",\"PoW/PoS\",\"PoW/PoS\",\"PoW\",\"PoW\",\"PoW/PoS\",\"PoW\",\"PoW\",\"PoW/PoS\",\"PoW/PoS\",\"PoW\",\"PoW/PoS\",\"PoW\",\"PoW/PoS\",\"PoW/PoS\",\"PoS\",\"PoW\",\"PoW\",\"PoW\",\"PoW\",\"PoW/PoS\",\"PoS\",\"PoW/PoS\",\"PoC\",\"PoS\",\"PoW\",\"PoW\",\"PoW/PoS\",\"PoW/PoS\",\"PoW/PoS\",\"PoW/PoS\",\"PoW/PoS\",\"PoW\",\"PoS\",\"PoW/PoS\",\"PoW/PoS\",\"PoW/PoS\",\"PoS\",\"PoW\",\"PoS\",\"dPoW/PoW\",\"PoW/PoS\",\"PoW/PoS\",\"PoW\",\"PoW/PoS\",\"PoW\",\"PoW/PoS\",\"PoW/PoS\",\"PoW\",\"PoW/PoS\",\"PoW\",\"PoS\",\"PoW\",\"PoW/PoW\",\"PoW\",\"PoW/PoS\",\"PoS\",\"PoW/PoS\",\"PoW/PoS\",\"PoW\",\"PoS\",\"PoS\",\"PoW/PoS\",\"PoS\",\"PoW/PoS\",\"PoW\"],\"TotalCoinSupply\":[\"42\",\"532000000\",\"314159265359\",\"21000000\",\"0\",\"84000000\",\"22000000\",\"0\",\"210000000\",\"21000000\",\"3600570502\",\"21000000000\",\"22000000\",\"12500000\",\"21000000\",\"350000000\",\"20000000\",\"64000000\",\"16768584\",\"0\",\"2000000000\",\"384000000000\",\"169795588\",\"250000000\",\"100000000\",\"0\",\"247000000\",\"84000000\",\"48166000\",\"500000\",\"21000000 \",\"1000000\",\"13140000\",\"18000000\",\"40000000000\",\"4380000\",\"16555000000\",\"21000000000\",\"13500000000\",\"21000000 \",\"299792458\",\"32000000\",\"0\",\"0\",\"11235813\",\"336000000\",\"1420609614\",\"70000000\",\"72245700\",\"120000000\",\"0\",\"90600000000\",\"22000000\",\"21000000\",\"265420800\",\"20000000\",\"1350000\",\"100000000\",\"42000000\",\"200000000\",\"0\",\"10000000\",\"2419200000\",\"16180000\",\"0\",\"15000000000\",\"21000000\",\"337000000\",\"0\",\"3770000\",\"420000000\",\"98000000\",\"0\",\"21000000\",\"250000000\",\"51200000\",\"0\",\"1000\",\"888000000\",\"100000000\",\"47011968\",\"2300000000\",\"10000000\",\"42000000\",\"80000000\",\"250000\",\"0\",\"1600000000\",\"100000000\",\"23000000\",\"0\",\"84000000\",\"265420800\",\"5500000\",\"0\",\"45000000\",\"0\",\"1000000000\",\"184467440735\",\"10000000000\",\"2158812800\",\"500000000\",\"105120000\",\"68000000\",\"0\",\"1680000000\",\"0\",\"166386000\",\"12000000\",\"2628000\",\"500000000\",\"160000000\",\"0\",\"10000000\",\"1000000000\",\"1000000000\",\"20000000\",\"0\",\"0\",\"3371337\",\"20000000\",\"10000000000\",\"1840000000\",\"619478\",\"21000000\",\"92000000000\",\"0\",\"78000000\",\"33000000\",\"65789100\",\"53760000\",\"5060000\",\"21000000\",\"0\",\"210240000\",\"250000000\",\"100000000\",\"16906397\",\"50000000\",\"0\",\"1000000000\",\"26298000\",\"16000000\",\"21000000\",\"21000000\",\"210000000\",\"81962100\",\"22000000\",\"26550000000\",\"84000000\",\"10500000\",\"21626280000 \",\"0\",\"42000000\",\"221052632\",\"84000000\",\"30000000\",\"168351300\",\"24000000\",\"384000000\",\" 99000000000\",\"40000000\",\"2147483647\",\"20000000\",\"20000000\",\"25000000\",\"75000000\",\"222725000\",\"525000000\",\"90000000\",\"139000000\",\"616448\",\"33500000\",\"2000000000\",\"44333333\",\"100000000\",\"200000000\",\"25000000\",\"657000000\",\"200000000\",\"50000000\",\"90000000\",\"10000000\",\"21000000\",\"9736000\",\"3000000\",\"21000000\",\"1200000000\",\"0\",\"200000000\",\"0\",\"10638298\",\"3100000000\",\"30000000\",\"20000000000\",\"74000000\",\"0\",\"1500000000\",\"21400000\",\"39999898\",\"2500124\",\"100000000\",\"301000000\",\"7506000000\",\"26205539\"],\"TotalCoinsMined\":{\"__ndarray__\":\"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\",\"dtype\":\"float64\",\"order\":\"little\",\"shape\":[205]},\"principal_component_1\":{\"__ndarray__\":\"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\",\"dtype\":\"float64\",\"order\":\"little\",\"shape\":[205]},\"principal_component_2\":{\"__ndarray__\":\"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\",\"dtype\":\"float64\",\"order\":\"little\",\"shape\":[205]},\"principal_component_3\":{\"__ndarray__\":\"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\",\"dtype\":\"float64\",\"order\":\"little\",\"shape\":[205]}},\"selected\":{\"id\":\"1920\"},\"selection_policy\":{\"id\":\"1969\"}},\"id\":\"1919\",\"type\":\"ColumnDataSource\"},{\"attributes\":{},\"id\":\"1942\",\"type\":\"StringEditor\"},{\"attributes\":{\"editor\":{\"id\":\"1927\"},\"field\":\"Algorithm\",\"formatter\":{\"id\":\"1926\"},\"title\":\"Algorithm\"},\"id\":\"1928\",\"type\":\"TableColumn\"},{\"attributes\":{},\"id\":\"1932\",\"type\":\"StringEditor\"},{\"attributes\":{\"editor\":{\"id\":\"1937\"},\"field\":\"TotalCoinsMined\",\"formatter\":{\"id\":\"1936\"},\"title\":\"TotalCoinsMined\"},\"id\":\"1938\",\"type\":\"TableColumn\"},{\"attributes\":{\"editor\":{\"id\":\"1932\"},\"field\":\"ProofType\",\"formatter\":{\"id\":\"1931\"},\"title\":\"ProofType\"},\"id\":\"1933\",\"type\":\"TableColumn\"},{\"attributes\":{},\"id\":\"1937\",\"type\":\"NumberEditor\"},{\"attributes\":{},\"id\":\"1952\",\"type\":\"NumberEditor\"},{\"attributes\":{\"source\":{\"id\":\"1919\"}},\"id\":\"1968\",\"type\":\"CDSView\"},{\"attributes\":{},\"id\":\"1941\",\"type\":\"StringFormatter\"},{\"attributes\":{\"editor\":{\"id\":\"1947\"},\"field\":\"principal_component_1\",\"formatter\":{\"id\":\"1946\"},\"title\":\"principal component 1\"},\"id\":\"1948\",\"type\":\"TableColumn\"},{\"attributes\":{\"editor\":{\"id\":\"1942\"},\"field\":\"TotalCoinSupply\",\"formatter\":{\"id\":\"1941\"},\"title\":\"TotalCoinSupply\"},\"id\":\"1943\",\"type\":\"TableColumn\"},{\"attributes\":{},\"id\":\"1947\",\"type\":\"NumberEditor\"},{\"attributes\":{\"editor\":{\"id\":\"1952\"},\"field\":\"principal_component_2\",\"formatter\":{\"id\":\"1951\"},\"title\":\"principal component 2\"},\"id\":\"1953\",\"type\":\"TableColumn\"},{\"attributes\":{},\"id\":\"1969\",\"type\":\"UnionRenderers\"},{\"attributes\":{},\"id\":\"1957\",\"type\":\"NumberEditor\"},{\"attributes\":{\"format\":\"0,0.0[00000]\"},\"id\":\"1951\",\"type\":\"NumberFormatter\"},{\"attributes\":{\"editor\":{\"id\":\"1957\"},\"field\":\"principal_component_3\",\"formatter\":{\"id\":\"1956\"},\"title\":\"principal component 3\"},\"id\":\"1958\",\"type\":\"TableColumn\"},{\"attributes\":{},\"id\":\"1920\",\"type\":\"Selection\"},{\"attributes\":{},\"id\":\"1962\",\"type\":\"IntEditor\"},{\"attributes\":{\"format\":\"0,0.0[00000]\"},\"id\":\"1956\",\"type\":\"NumberFormatter\"},{\"attributes\":{},\"id\":\"1961\",\"type\":\"NumberFormatter\"},{\"attributes\":{\"editor\":{\"id\":\"1962\"},\"field\":\"Class\",\"formatter\":{\"id\":\"1961\"},\"title\":\"Class\"},\"id\":\"1963\",\"type\":\"TableColumn\"},{\"attributes\":{\"editor\":{\"id\":\"1922\"},\"field\":\"CoinName\",\"formatter\":{\"id\":\"1921\"},\"title\":\"CoinName\"},\"id\":\"1923\",\"type\":\"TableColumn\"}],\"root_ids\":[\"1917\"]},\"title\":\"Bokeh Application\",\"version\":\"2.4.2\"}};\n",
       "    var render_items = [{\"docid\":\"5c2d6204-cb0a-4aa4-ab88-7ba74b217f1b\",\"root_ids\":[\"1917\"],\"roots\":{\"1917\":\"c7b91be0-ef3f-4e54-977f-f92349e6da80\"}}];\n",
       "    root.Bokeh.embed.embed_items_notebook(docs_json, render_items);\n",
       "  }\n",
       "  if (root.Bokeh !== undefined && root.Bokeh.Panel !== undefined) {\n",
       "    embed_document(root);\n",
       "  } else {\n",
       "    var attempts = 0;\n",
       "    var timer = setInterval(function(root) {\n",
       "      if (root.Bokeh !== undefined && root.Bokeh.Panel !== undefined) {\n",
       "        clearInterval(timer);\n",
       "        embed_document(root);\n",
       "      } else if (document.readyState == \"complete\") {\n",
       "        attempts++;\n",
       "        if (attempts > 200) {\n",
       "          clearInterval(timer);\n",
       "          console.log(\"Bokeh: ERROR: Unable to run BokehJS code because BokehJS library is missing\");\n",
       "        }\n",
       "      }\n",
       "    }, 25, root)\n",
       "  }\n",
       "})(window);</script>"
      ],
      "text/plain": [
       ":Table   [CoinName,Algorithm,ProofType,TotalCoinsMined,TotalCoinSupply,principal component 1,principal component 2,principal component 3,Class]"
      ]
     },
     "execution_count": 60,
     "metadata": {
      "application/vnd.holoviews_exec.v0+json": {
       "id": "1917"
      }
     },
     "output_type": "execute_result"
    }
   ],
   "source": [
    "# Create a table with tradable cryptocurrencies.\n",
    "clustered_df.hvplot.table()"
   ]
  },
  {
   "cell_type": "code",
   "execution_count": 62,
   "metadata": {},
   "outputs": [
    {
     "name": "stdout",
     "output_type": "stream",
     "text": [
      "<class 'pandas.core.frame.DataFrame'>\n",
      "Int64Index: 205 entries, 0 to 526\n",
      "Data columns (total 9 columns):\n",
      " #   Column                 Non-Null Count  Dtype  \n",
      "---  ------                 --------------  -----  \n",
      " 0   CoinName               205 non-null    object \n",
      " 1   Algorithm              205 non-null    object \n",
      " 2   ProofType              205 non-null    object \n",
      " 3   TotalCoinsMined        205 non-null    float64\n",
      " 4   TotalCoinSupply        205 non-null    object \n",
      " 5   principal component 1  205 non-null    float64\n",
      " 6   principal component 2  205 non-null    float64\n",
      " 7   principal component 3  205 non-null    float64\n",
      " 8   Class                  205 non-null    int32  \n",
      "dtypes: float64(4), int32(1), object(4)\n",
      "memory usage: 15.2+ KB\n"
     ]
    }
   ],
   "source": [
    "# Print the total number of tradable cryptocurrencies.\n",
    "clustered_df.info()"
   ]
  },
  {
   "cell_type": "code",
   "execution_count": 71,
   "metadata": {},
   "outputs": [
    {
     "data": {
      "text/plain": [
       "array([[0.00000000e+00, 1.09375000e-10],\n",
       "       [5.73261824e-03, 1.38541667e-03],\n",
       "       [1.59069533e-01, 8.18123087e-01],\n",
       "       [9.73946969e-05, 5.46875000e-05],\n",
       "       [5.85027630e-04, 0.00000000e+00],\n",
       "       [3.42479966e-04, 2.18750000e-04],\n",
       "       [4.90650729e-05, 5.72916667e-05],\n",
       "       [9.34503042e-05, 0.00000000e+00],\n",
       "       [6.15861433e-04, 5.46875000e-04],\n",
       "       [4.01105093e-05, 5.46875000e-05],\n",
       "       [1.48944271e-02, 9.37648568e-03],\n",
       "       [6.19678145e-02, 5.46875000e-02],\n",
       "       [7.00191343e-06, 5.72916667e-05],\n",
       "       [6.51681401e-05, 3.25520833e-05],\n",
       "       [3.13379007e-05, 5.46875000e-05],\n",
       "       [1.38767500e-04, 9.11458333e-04],\n",
       "       [6.05741516e-05, 5.20833333e-05],\n",
       "       [6.63115322e-05, 1.66666667e-04],\n",
       "       [9.85243138e-05, 4.36681875e-05],\n",
       "       [3.45213672e-03, 0.00000000e+00],\n",
       "       [9.17196335e-03, 5.20833333e-03],\n",
       "       [2.49909484e-10, 1.00000000e+00],\n",
       "       [9.24687783e-04, 4.42176010e-04],\n",
       "       [7.00511385e-04, 6.51041667e-04],\n",
       "       [3.99732686e-05, 2.60416667e-04],\n",
       "       [6.68576516e-04, 0.00000000e+00],\n",
       "       [1.41012438e-03, 6.43229167e-04],\n",
       "       [2.69187792e-04, 2.18750000e-04],\n",
       "       [1.81689154e-04, 1.25432292e-04],\n",
       "       [2.31098005e-07, 1.30208333e-06],\n",
       "       [3.92244203e-05, 5.46875000e-05],\n",
       "       [5.64509455e-06, 2.60416667e-06],\n",
       "       [2.55550527e-05, 3.42187500e-05],\n",
       "       [2.71474455e-05, 4.68750000e-05],\n",
       "       [2.17312362e-01, 1.04166667e-01],\n",
       "       [1.79524240e-05, 1.14062500e-05],\n",
       "       [8.65421039e-02, 4.31119792e-02],\n",
       "       [1.01994790e-01, 5.46875000e-02],\n",
       "       [6.81220795e-02, 3.51562500e-02],\n",
       "       [1.13602418e-04, 5.46875000e-05],\n",
       "       [1.18908907e-03, 7.80709526e-04],\n",
       "       [1.05922096e-04, 8.33333333e-05],\n",
       "       [3.08565266e-05, 0.00000000e+00],\n",
       "       [2.50903363e-03, 0.00000000e+00],\n",
       "       [6.20801780e-06, 2.92599297e-05],\n",
       "       [1.13365918e-03, 8.75000000e-04],\n",
       "       [4.80328675e-03, 3.69950420e-03],\n",
       "       [3.56787146e-04, 1.82291667e-04],\n",
       "       [2.26323267e-04, 1.88139844e-04],\n",
       "       [4.84970009e-04, 3.12500000e-04],\n",
       "       [9.11907952e-03, 0.00000000e+00],\n",
       "       [4.92189460e-01, 2.35937500e-01],\n",
       "       [9.58938234e-05, 5.72916667e-05],\n",
       "       [1.14574186e-04, 5.46875000e-05],\n",
       "       [8.22785989e-04, 6.91200000e-04],\n",
       "       [1.04995980e-04, 5.20833333e-05],\n",
       "       [5.99946355e-06, 3.51562500e-06],\n",
       "       [3.33823120e-04, 2.60416667e-04],\n",
       "       [2.07272317e-04, 1.09375000e-04],\n",
       "       [2.19658345e-04, 5.20833333e-04],\n",
       "       [1.15685838e-01, 0.00000000e+00],\n",
       "       [3.15329108e-05, 2.60416667e-05],\n",
       "       [8.76766373e-03, 6.30000000e-03],\n",
       "       [8.79026281e-05, 4.21354167e-05],\n",
       "       [3.59038370e-04, 0.00000000e+00],\n",
       "       [1.28543871e-02, 3.90625000e-02],\n",
       "       [8.00598245e-05, 5.46875000e-05],\n",
       "       [1.81841119e-03, 8.77604167e-04],\n",
       "       [8.23414106e-05, 0.00000000e+00],\n",
       "       [1.74967663e-05, 9.81770833e-06],\n",
       "       [1.20976270e-03, 1.09375000e-03],\n",
       "       [4.01806415e-04, 2.55208333e-04],\n",
       "       [1.59265889e-01, 0.00000000e+00],\n",
       "       [5.99844866e-06, 5.46875000e-05],\n",
       "       [1.31556239e-04, 6.51041667e-04],\n",
       "       [1.39045668e-04, 1.33333333e-04],\n",
       "       [2.75484834e-04, 0.00000000e+00],\n",
       "       [6.16623893e-09, 2.60416667e-09],\n",
       "       [3.06049984e-03, 2.31250000e-03],\n",
       "       [4.36039575e-04, 2.60416667e-04],\n",
       "       [2.36526909e-04, 1.22427000e-04],\n",
       "       [8.81379040e-03, 5.98958333e-03],\n",
       "       [7.77874541e-06, 2.60416667e-05],\n",
       "       [1.24603407e-04, 1.09375000e-04],\n",
       "       [1.23765266e-05, 2.08333333e-04],\n",
       "       [1.09128729e-06, 6.51041667e-07],\n",
       "       [6.55885695e-06, 0.00000000e+00],\n",
       "       [5.97039976e-03, 4.16666667e-03],\n",
       "       [2.72918100e-04, 2.60416667e-04],\n",
       "       [1.25774157e-04, 5.98958333e-05],\n",
       "       [1.73964351e-04, 0.00000000e+00],\n",
       "       [2.78016860e-04, 2.18750000e-04],\n",
       "       [6.49801487e-04, 6.91200000e-04],\n",
       "       [3.77623124e-05, 1.43229167e-05],\n",
       "       [5.43280713e-04, 0.00000000e+00],\n",
       "       [2.12942754e-04, 1.17187500e-04],\n",
       "       [1.79791675e-04, 0.00000000e+00],\n",
       "       [8.04002530e-04, 2.60416667e-03],\n",
       "       [1.00000000e+00, 4.80383960e-01],\n",
       "       [3.75221740e-02, 2.60416667e-02],\n",
       "       [9.84986752e-03, 5.62190833e-03],\n",
       "       [2.78013710e-04, 1.30208333e-03],\n",
       "       [3.70488443e-04, 2.73750000e-04],\n",
       "       [2.12540479e-04, 1.77083333e-04],\n",
       "       [2.88991718e-04, 0.00000000e+00],\n",
       "       [2.25479181e-03, 4.37500000e-03],\n",
       "       [1.47687927e-04, 0.00000000e+00],\n",
       "       [7.47106979e-04, 4.33296875e-04],\n",
       "       [1.09874381e-05, 3.12500000e-05],\n",
       "       [9.88104401e-07, 6.84375000e-06],\n",
       "       [9.48818824e-04, 1.30208333e-03],\n",
       "       [8.27257273e-04, 4.16666667e-04],\n",
       "       [7.97427222e-06, 0.00000000e+00],\n",
       "       [3.85555184e-05, 2.60416667e-05],\n",
       "       [4.30570360e-03, 2.60416667e-03],\n",
       "       [3.90845517e-03, 2.60416667e-03],\n",
       "       [1.46130078e-05, 5.20833333e-05],\n",
       "       [3.53747932e-04, 0.00000000e+00],\n",
       "       [3.45811521e-05, 0.00000000e+00],\n",
       "       [5.50887007e-05, 8.77952344e-06],\n",
       "       [6.30460147e-05, 5.20833333e-05],\n",
       "       [2.50471018e-02, 2.60416667e-02],\n",
       "       [3.84918066e-03, 4.79166667e-03],\n",
       "       [3.36527773e-06, 1.61322396e-06],\n",
       "       [6.77068111e-05, 5.46875000e-05],\n",
       "       [4.79016239e-07, 2.39583333e-01],\n",
       "       [8.22343716e-06, 0.00000000e+00],\n",
       "       [3.45837316e-04, 2.03125000e-04],\n",
       "       [1.75053447e-04, 8.59375000e-05],\n",
       "       [7.46614482e-05, 1.71325781e-04],\n",
       "       [8.01184988e-05, 1.40000000e-04],\n",
       "       [4.65482913e-05, 1.31770833e-05],\n",
       "       [8.61849775e-05, 5.46875000e-05],\n",
       "       [1.78825277e-06, 0.00000000e+00],\n",
       "       [1.76920840e-04, 5.47500000e-04],\n",
       "       [4.10798939e-04, 6.51041667e-04],\n",
       "       [5.43280713e-04, 2.60416667e-04],\n",
       "       [5.70186169e-05, 4.40270755e-05],\n",
       "       [1.25185848e-04, 1.30208333e-04],\n",
       "       [1.79816737e-01, 0.00000000e+00],\n",
       "       [2.33935430e-04, 2.60416667e-03],\n",
       "       [7.35087061e-05, 6.84843750e-05],\n",
       "       [8.62059346e-05, 4.16666667e-05],\n",
       "       [1.14075062e-04, 5.46875000e-05],\n",
       "       [5.63110963e-05, 5.46875000e-05],\n",
       "       [1.14088975e-03, 5.46875000e-04],\n",
       "       [6.21997297e-05, 2.13442969e-04],\n",
       "       [1.99365082e-05, 5.72916667e-05],\n",
       "       [5.97409002e-02, 6.91406250e-02],\n",
       "       [3.79405993e-04, 2.18750000e-04],\n",
       "       [2.78647274e-05, 2.73437500e-05],\n",
       "       [1.18109124e-01, 5.63184375e-02],\n",
       "       [5.47053973e-02, 0.00000000e+00],\n",
       "       [4.88882288e-05, 1.09375000e-04],\n",
       "       [2.19903827e-04, 5.75657896e-04],\n",
       "       [2.45075565e-04, 2.18750000e-04],\n",
       "       [3.09779119e-05, 7.81250000e-05],\n",
       "       [3.45755161e-06, 4.38414844e-04],\n",
       "       [9.37882894e-05, 6.25000000e-05],\n",
       "       [5.65404851e-05, 1.00000000e-03],\n",
       "       [2.00857679e-01, 2.57812500e-01],\n",
       "       [2.37796220e-05, 1.04166667e-04],\n",
       "       [1.16668691e-02, 5.59240533e-03],\n",
       "       [1.08655960e-04, 5.20833333e-05],\n",
       "       [3.56977175e-05, 5.20833333e-05],\n",
       "       [7.41797997e-05, 6.51041667e-05],\n",
       "       [7.31011123e-04, 1.95312500e-04],\n",
       "       [6.49483130e-06, 5.80013021e-04],\n",
       "       [9.05256972e-05, 1.36718750e-03],\n",
       "       [4.53369907e-04, 2.34375000e-04],\n",
       "       [1.32493631e-04, 3.61979167e-04],\n",
       "       [3.34881632e-06, 1.60533333e-06],\n",
       "       [2.09650848e-04, 8.72395833e-05],\n",
       "       [4.41737548e-03, 5.20833333e-03],\n",
       "       [2.45904275e-05, 1.15451388e-04],\n",
       "       [5.43280713e-04, 2.60416667e-04],\n",
       "       [2.71638189e-05, 5.20833333e-04],\n",
       "       [7.48573227e-06, 6.51041667e-05],\n",
       "       [3.56935556e-03, 1.71093750e-03],\n",
       "       [6.29652229e-04, 5.20833333e-04],\n",
       "       [8.45553276e-05, 1.30208333e-04],\n",
       "       [2.34509707e-04, 2.34375000e-04],\n",
       "       [4.24975580e-05, 2.60416667e-05],\n",
       "       [3.23462410e-06, 5.46875000e-05],\n",
       "       [3.39213645e-05, 2.53541667e-05],\n",
       "       [3.57258475e-06, 7.81250000e-06],\n",
       "       [1.40271227e-05, 5.46875000e-05],\n",
       "       [5.43280918e-03, 3.12500000e-03],\n",
       "       [1.05388190e-05, 0.00000000e+00],\n",
       "       [6.34797626e-04, 5.20833333e-04],\n",
       "       [9.21396729e-04, 0.00000000e+00],\n",
       "       [4.94748134e-05, 2.77039010e-05],\n",
       "       [3.61390490e-03, 8.07291667e-03],\n",
       "       [6.04082662e-05, 7.81250000e-05],\n",
       "       [1.06362387e-01, 5.20833333e-02],\n",
       "       [4.02211334e-04, 1.92708333e-04],\n",
       "       [1.82123608e-04, 0.00000000e+00],\n",
       "       [1.43794739e-03, 3.90625000e-03],\n",
       "       [4.11168014e-05, 5.57291667e-05],\n",
       "       [8.07949890e-04, 1.04166401e-04],\n",
       "       [1.35824690e-05, 6.51073958e-06],\n",
       "       [5.43280713e-04, 2.60416667e-04],\n",
       "       [9.68052760e-05, 7.83854167e-04],\n",
       "       [5.87918312e-03, 1.95468750e-02],\n",
       "       [1.42369471e-04, 6.82435911e-05]])"
      ]
     },
     "execution_count": 71,
     "metadata": {},
     "output_type": "execute_result"
    }
   ],
   "source": [
    "fit_params = [0,1]\n",
    "# Scaling data to create the scatter plot with tradable cryptocurrencies.\n",
    "scaled = MinMaxScaler().fit_transform(clustered_df[[\"TotalCoinsMined\",\"TotalCoinSupply\"]], fit_params)\n",
    "scaled"
   ]
  },
  {
   "cell_type": "code",
   "execution_count": 76,
   "metadata": {},
   "outputs": [
    {
     "data": {
      "text/html": [
       "<div>\n",
       "<style scoped>\n",
       "    .dataframe tbody tr th:only-of-type {\n",
       "        vertical-align: middle;\n",
       "    }\n",
       "\n",
       "    .dataframe tbody tr th {\n",
       "        vertical-align: top;\n",
       "    }\n",
       "\n",
       "    .dataframe thead th {\n",
       "        text-align: right;\n",
       "    }\n",
       "</style>\n",
       "<table border=\"1\" class=\"dataframe\">\n",
       "  <thead>\n",
       "    <tr style=\"text-align: right;\">\n",
       "      <th></th>\n",
       "      <th>TotalCoinsMined</th>\n",
       "      <th>TotalCoinSupply</th>\n",
       "      <th>CoinName</th>\n",
       "      <th>Class</th>\n",
       "    </tr>\n",
       "  </thead>\n",
       "  <tbody>\n",
       "    <tr>\n",
       "      <th>0</th>\n",
       "      <td>0.000000</td>\n",
       "      <td>1.093750e-10</td>\n",
       "      <td>42 Coin</td>\n",
       "      <td>1</td>\n",
       "    </tr>\n",
       "    <tr>\n",
       "      <th>2</th>\n",
       "      <td>0.005733</td>\n",
       "      <td>1.385417e-03</td>\n",
       "      <td>404Coin</td>\n",
       "      <td>1</td>\n",
       "    </tr>\n",
       "    <tr>\n",
       "      <th>5</th>\n",
       "      <td>0.159070</td>\n",
       "      <td>8.181231e-01</td>\n",
       "      <td>EliteCoin</td>\n",
       "      <td>0</td>\n",
       "    </tr>\n",
       "    <tr>\n",
       "      <th>7</th>\n",
       "      <td>0.000097</td>\n",
       "      <td>5.468750e-05</td>\n",
       "      <td>Bitcoin</td>\n",
       "      <td>0</td>\n",
       "    </tr>\n",
       "    <tr>\n",
       "      <th>8</th>\n",
       "      <td>0.000585</td>\n",
       "      <td>0.000000e+00</td>\n",
       "      <td>Ethereum</td>\n",
       "      <td>0</td>\n",
       "    </tr>\n",
       "    <tr>\n",
       "      <th>9</th>\n",
       "      <td>0.000342</td>\n",
       "      <td>2.187500e-04</td>\n",
       "      <td>Litecoin</td>\n",
       "      <td>0</td>\n",
       "    </tr>\n",
       "    <tr>\n",
       "      <th>10</th>\n",
       "      <td>0.000049</td>\n",
       "      <td>5.729167e-05</td>\n",
       "      <td>Dash</td>\n",
       "      <td>1</td>\n",
       "    </tr>\n",
       "    <tr>\n",
       "      <th>11</th>\n",
       "      <td>0.000093</td>\n",
       "      <td>0.000000e+00</td>\n",
       "      <td>Monero</td>\n",
       "      <td>0</td>\n",
       "    </tr>\n",
       "    <tr>\n",
       "      <th>12</th>\n",
       "      <td>0.000616</td>\n",
       "      <td>5.468750e-04</td>\n",
       "      <td>Ethereum Classic</td>\n",
       "      <td>1</td>\n",
       "    </tr>\n",
       "    <tr>\n",
       "      <th>13</th>\n",
       "      <td>0.000040</td>\n",
       "      <td>5.468750e-05</td>\n",
       "      <td>ZCash</td>\n",
       "      <td>1</td>\n",
       "    </tr>\n",
       "  </tbody>\n",
       "</table>\n",
       "</div>"
      ],
      "text/plain": [
       "    TotalCoinsMined  TotalCoinSupply          CoinName  Class\n",
       "0          0.000000     1.093750e-10           42 Coin      1\n",
       "2          0.005733     1.385417e-03           404Coin      1\n",
       "5          0.159070     8.181231e-01         EliteCoin      0\n",
       "7          0.000097     5.468750e-05           Bitcoin      0\n",
       "8          0.000585     0.000000e+00          Ethereum      0\n",
       "9          0.000342     2.187500e-04          Litecoin      0\n",
       "10         0.000049     5.729167e-05              Dash      1\n",
       "11         0.000093     0.000000e+00            Monero      0\n",
       "12         0.000616     5.468750e-04  Ethereum Classic      1\n",
       "13         0.000040     5.468750e-05             ZCash      1"
      ]
     },
     "execution_count": 76,
     "metadata": {},
     "output_type": "execute_result"
    }
   ],
   "source": [
    "# Create a new DataFrame that has the scaled data with the clustered_df DataFrame index.\n",
    "df = pd.DataFrame(scaled, columns=[\"TotalCoinsMined\",\"TotalCoinSupply\"], index=clustered_df.index)\n",
    "\n",
    "# Add the \"CoinName\" column from the clustered_df DataFrame to the new DataFrame.\n",
    "name_df = pd.DataFrame(clustered_df, columns=[\"CoinName\"])\n",
    "df_new = df.join(name_df, how='inner')\n",
    "\n",
    "# Add the \"Class\" column from the clustered_df DataFrame to the new DataFrame. \n",
    "class_df = pd.DataFrame(clustered_df, columns=[\"Class\"])\n",
    "df_new2 = df_new.join(class_df, how='inner')\n",
    "\n",
    "df_new2.head(10)"
   ]
  },
  {
   "cell_type": "code",
   "execution_count": 78,
   "metadata": {},
   "outputs": [
    {
     "data": {},
     "metadata": {},
     "output_type": "display_data"
    },
    {
     "data": {
      "application/vnd.holoviews_exec.v0+json": "",
      "text/html": [
       "<div id='1985'>\n",
       "\n",
       "\n",
       "\n",
       "\n",
       "\n",
       "  <div class=\"bk-root\" id=\"2a782600-05c1-4874-82a4-0925e38c9504\" data-root-id=\"1985\"></div>\n",
       "</div>\n",
       "<script type=\"application/javascript\">(function(root) {\n",
       "  function embed_document(root) {\n",
       "    var docs_json = {\"2d49cfac-8ff5-46b2-8e0f-e788c058d721\":{\"defs\":[{\"extends\":null,\"module\":null,\"name\":\"ReactiveHTML1\",\"overrides\":[],\"properties\":[]},{\"extends\":null,\"module\":null,\"name\":\"FlexBox1\",\"overrides\":[],\"properties\":[{\"default\":\"flex-start\",\"kind\":null,\"name\":\"align_content\"},{\"default\":\"flex-start\",\"kind\":null,\"name\":\"align_items\"},{\"default\":\"row\",\"kind\":null,\"name\":\"flex_direction\"},{\"default\":\"wrap\",\"kind\":null,\"name\":\"flex_wrap\"},{\"default\":\"flex-start\",\"kind\":null,\"name\":\"justify_content\"}]},{\"extends\":null,\"module\":null,\"name\":\"GridStack1\",\"overrides\":[],\"properties\":[{\"default\":\"warn\",\"kind\":null,\"name\":\"mode\"},{\"default\":null,\"kind\":null,\"name\":\"ncols\"},{\"default\":null,\"kind\":null,\"name\":\"nrows\"},{\"default\":true,\"kind\":null,\"name\":\"allow_resize\"},{\"default\":true,\"kind\":null,\"name\":\"allow_drag\"},{\"default\":[],\"kind\":null,\"name\":\"state\"}]},{\"extends\":null,\"module\":null,\"name\":\"click1\",\"overrides\":[],\"properties\":[{\"default\":\"\",\"kind\":null,\"name\":\"terminal_output\"},{\"default\":\"\",\"kind\":null,\"name\":\"debug_name\"},{\"default\":0,\"kind\":null,\"name\":\"clears\"}]},{\"extends\":null,\"module\":null,\"name\":\"TemplateActions1\",\"overrides\":[],\"properties\":[{\"default\":0,\"kind\":null,\"name\":\"open_modal\"},{\"default\":0,\"kind\":null,\"name\":\"close_modal\"}]},{\"extends\":null,\"module\":null,\"name\":\"MaterialTemplateActions1\",\"overrides\":[],\"properties\":[{\"default\":0,\"kind\":null,\"name\":\"open_modal\"},{\"default\":0,\"kind\":null,\"name\":\"close_modal\"}]}],\"roots\":{\"references\":[{\"attributes\":{\"source\":{\"id\":\"2096\"}},\"id\":\"2103\",\"type\":\"CDSView\"},{\"attributes\":{\"source\":{\"id\":\"2050\"}},\"id\":\"2057\",\"type\":\"CDSView\"},{\"attributes\":{\"fill_color\":{\"value\":\"#e5ae38\"},\"hatch_color\":{\"value\":\"#e5ae38\"},\"line_color\":{\"value\":\"#e5ae38\"},\"size\":{\"value\":5.477225575051661},\"x\":{\"field\":\"TotalCoinSupply\"},\"y\":{\"field\":\"TotalCoinsMined\"}},\"id\":\"2075\",\"type\":\"Scatter\"},{\"attributes\":{},\"id\":\"2073\",\"type\":\"Selection\"},{\"attributes\":{\"fill_alpha\":{\"value\":0.1},\"fill_color\":{\"value\":\"#30a2da\"},\"hatch_alpha\":{\"value\":0.1},\"hatch_color\":{\"value\":\"#30a2da\"},\"line_alpha\":{\"value\":0.1},\"line_color\":{\"value\":\"#30a2da\"},\"size\":{\"value\":5.477225575051661},\"x\":{\"field\":\"TotalCoinSupply\"},\"y\":{\"field\":\"TotalCoinsMined\"}},\"id\":\"2033\",\"type\":\"Scatter\"},{\"attributes\":{\"end\":1.1,\"reset_end\":1.1,\"reset_start\":-0.1,\"start\":-0.1,\"tags\":[[[\"TotalCoinsMined\",\"TotalCoinsMined\",null]]]},\"id\":\"1988\",\"type\":\"Range1d\"},{\"attributes\":{\"fill_color\":{\"value\":\"#30a2da\"},\"hatch_color\":{\"value\":\"#30a2da\"},\"line_color\":{\"value\":\"#30a2da\"},\"size\":{\"value\":5.477225575051661},\"x\":{\"field\":\"TotalCoinSupply\"},\"y\":{\"field\":\"TotalCoinsMined\"}},\"id\":\"2032\",\"type\":\"Scatter\"},{\"attributes\":{\"label\":{\"value\":\"3\"},\"renderers\":[{\"id\":\"2102\"}]},\"id\":\"2120\",\"type\":\"LegendItem\"},{\"attributes\":{\"data\":{\"Class\":[0,0,0,0,0,0,0,0,0,0,0,0,0,0,0,0,0,0,0,0,0,0,0,0,0,0,0,0,0,0,0,0,0,0,0,0,0,0,0,0,0,0,0,0,0,0,0,0,0,0,0,0,0,0,0,0,0,0,0,0,0,0,0,0,0,0,0,0,0,0,0,0,0,0,0,0,0,0,0,0,0,0,0,0,0,0,0,0,0,0,0,0,0,0,0,0],\"TotalCoinSupply\":{\"__ndarray__\":\"MwbHdxAu6j956SYxCKwMPwAAAAAAAAAAeekmMQisLD8AAAAAAAAAAMXW2pr6M4M/o7dlrY4JDj956SYxCKwMP97d3d3d3U0/ThvotIFOCz+l4uzDZ9glP/R4XH8L5QY/VVVVVVVVdT8AAAAAAADwP8IK+oB7+jw/VVVVVVVVRT8RERERERExP3npJjEIrCw/peLsw2fYtT556SYxCKwMP/p+arx0kwg/qqqqqqqquj8AAAAAAACsP8Uu5vAQlUk/peLsw2fYFT8AAAAAAAAAAAyDtQ5nrv4+eekmMQisTD+r8goybE5uP3sUrkfhejQ/eekmMQisDD9OG+i0gU4LP5LLf0i/fc0+ERERERERMT956SYxCKwcP04b6LSBTvs+INJvXwfOeT/gjIfkURcGP3npJjEIrAw/sUMPj9eW5D7rUbgehetRPwAAAAAAAAAAeekmMQisDD8RERERERExP04b6LSBTvs+peLsw2fYpT4RERERERFxP82FpCkVZw8/AAAAAAAAAABVVVVVVVVlP1VVVVVVVVU/AAAAAAAAAABVVVVVVVVVP04b6LSBTjs/ThvotIFOCz8AAAAAAAAAACc7Y4N4aeI+eekmMQisDD+6SQwCK4cWP7GOPkG9dCY/eekmMQisDD8AAAAAAAAAAFVVVVVVVUU/OevGyzYVBz9VVVVVVVVlP+KsiJro8xE/61G4HoXrQT9H6wMk9fkrP6O3Za2OCQ4/AAAAAAAAAAB56SYxCKwsPxsjfmphuzw/ThvotIFOGz9OG+i0gU4LP04b6LSBTgs/mZmZmZmZKT9mZmZmZmZWPxHjnKra7ro+Rf0boYzeFj8RERERERExP9V46SYxCFw/ERERERERQT8REREREREhP3npJjEIrAw//Knx0k1i4D556SYxCKwMP5mZmZmZmWk/AAAAAAAAAAAAAAAAAAAAAIf1R5W1DP0+D+aJ+jdCKT8AAAAAAAAAAAAAAAAAAHA/idUMltc3DT+k8awkfU4bPxegJXjaTts+\",\"dtype\":\"float64\",\"order\":\"little\",\"shape\":[96]},\"TotalCoinsMined\":{\"__ndarray__\":\"ueQG9mNcxD8lrvUmDIgZP/1LJEWRK0M/rKEjQdxxNj8eE2wAWH8YP63MbCn4gI4/t6jGTj9e3T5Y8ZIRGm4AP/nwvL5DMCI/tuGNACDCDz/lZ+JyF2IRP/X3cdLa0xk/bkkhFcDIgj/UEB9CdCzxPWu3ieTXTE4/YjWuvlD0Rj+Lg0cNH/UEP41o58I4pDE/nxj8jHcEjz7Tm0jRnJAEP5joL0BWd/w+ntUaN+TQyz8Lh1idVBy6P/LNHatme1M/Z3LTwE/EGz9crGcufi0AP8BuVPDOCdo+9QfWR+mSUj+aFyp4nKxzPwTTfFRyyD8/GVIohfEIHj/agzk1KYYbP62KivvfKdk+WcSlYZ/gNT9XqD+k5yorP2dQbJBGiAA/KqfD58f0gT+LUfOmCwsXP0M3o0+5/BQ/KWk5n8BY8j6910LPHNJTPzqcZRzTYsQ/pgX4Asko2T5hLYy2h5M8P4l6AqEuUOA+lN/IEQtPsj5hz4P7anR4P/9ZkMdHfCA/Z9Dyuc6QJz/kWh5JdlhKP+qfGMtLODI/RxjV+XnwMj/HQZboRBdPPyUOiXeJG0s/D3zofkyl7j4l35NWZyECP6AMBljh4Qw/yRg1KLq/ET/qWIOo0fEmP3IBu+lxkhM/B/Gxo8aXFj/1gNG2fAC+PizxUQIQ7Do/hw2NwujkDT+T9KsLkqkuP5z7YPQVRRM//+kkCj2xUj9zckk4J04QP1ZYsmmq5/Q+sb9FiFgCrD/ffAyJrw8wPyTHOhkJAc0+SykpLkvv+D5CvSkux3scP7li6jtEtwI/+623bir0Rz/KDpiiE7sXP85WwD2HF8w+OF9nEbd6Kz/avJ5yXs1BP6i0OCx7PW0/mpSO3eehRD+hrmB3aSoWPwnPXmdNIss+bd+4PBH4zT6GS+oRwWrtPum6ZZy2QHY/LiKMQvwZ5j6hINJoPDFOP53Bm6Rl8Ak/JRPahvxbOj9yPr/hDd8nP1Q4Q0Ewj1c/d1Y1ipqOBT94fy4tk3lKP3DYAVQIfOw+\",\"dtype\":\"float64\",\"order\":\"little\",\"shape\":[96]}},\"selected\":{\"id\":\"2030\"},\"selection_policy\":{\"id\":\"2044\"}},\"id\":\"2029\",\"type\":\"ColumnDataSource\"},{\"attributes\":{\"children\":[{\"id\":\"1986\"},{\"id\":\"1993\"},{\"id\":\"2266\"}],\"margin\":[0,0,0,0],\"name\":\"Row03680\",\"tags\":[\"embedded\"]},\"id\":\"1985\",\"type\":\"Row\"},{\"attributes\":{\"coordinates\":null,\"data_source\":{\"id\":\"2029\"},\"glyph\":{\"id\":\"2032\"},\"group\":null,\"hover_glyph\":null,\"muted_glyph\":{\"id\":\"2034\"},\"nonselection_glyph\":{\"id\":\"2033\"},\"selection_glyph\":{\"id\":\"2049\"},\"view\":{\"id\":\"2036\"}},\"id\":\"2035\",\"type\":\"GlyphRenderer\"},{\"attributes\":{\"margin\":[5,5,5,5],\"name\":\"HSpacer03684\",\"sizing_mode\":\"stretch_width\"},\"id\":\"1986\",\"type\":\"Spacer\"},{\"attributes\":{\"fill_alpha\":{\"value\":0.2},\"fill_color\":{\"value\":\"#30a2da\"},\"hatch_alpha\":{\"value\":0.2},\"hatch_color\":{\"value\":\"#30a2da\"},\"line_alpha\":{\"value\":0.2},\"line_color\":{\"value\":\"#30a2da\"},\"size\":{\"value\":5.477225575051661},\"x\":{\"field\":\"TotalCoinSupply\"},\"y\":{\"field\":\"TotalCoinsMined\"}},\"id\":\"2034\",\"type\":\"Scatter\"},{\"attributes\":{\"label\":{\"value\":\"2\"},\"renderers\":[{\"id\":\"2078\"}]},\"id\":\"2094\",\"type\":\"LegendItem\"},{\"attributes\":{\"fill_alpha\":{\"value\":0.2},\"fill_color\":{\"value\":\"#e5ae38\"},\"hatch_alpha\":{\"value\":0.2},\"hatch_color\":{\"value\":\"#e5ae38\"},\"line_alpha\":{\"value\":0.2},\"line_color\":{\"value\":\"#e5ae38\"},\"size\":{\"value\":5.477225575051661},\"x\":{\"field\":\"TotalCoinSupply\"},\"y\":{\"field\":\"TotalCoinsMined\"}},\"id\":\"2077\",\"type\":\"Scatter\"},{\"attributes\":{},\"id\":\"1998\",\"type\":\"LinearScale\"},{\"attributes\":{\"fill_color\":{\"value\":\"#fc4f30\"},\"hatch_color\":{\"value\":\"#fc4f30\"},\"line_color\":{\"value\":\"#fc4f30\"},\"size\":{\"value\":5.477225575051661},\"x\":{\"field\":\"TotalCoinSupply\"},\"y\":{\"field\":\"TotalCoinsMined\"}},\"id\":\"2053\",\"type\":\"Scatter\"},{\"attributes\":{},\"id\":\"2044\",\"type\":\"UnionRenderers\"},{\"attributes\":{\"fill_alpha\":{\"value\":0.1},\"fill_color\":{\"value\":\"#e5ae38\"},\"hatch_alpha\":{\"value\":0.1},\"hatch_color\":{\"value\":\"#e5ae38\"},\"line_alpha\":{\"value\":0.1},\"line_color\":{\"value\":\"#e5ae38\"},\"size\":{\"value\":5.477225575051661},\"x\":{\"field\":\"TotalCoinSupply\"},\"y\":{\"field\":\"TotalCoinsMined\"}},\"id\":\"2076\",\"type\":\"Scatter\"},{\"attributes\":{\"fill_color\":{\"value\":\"#6d904f\"},\"hatch_color\":{\"value\":\"#6d904f\"},\"line_color\":{\"value\":\"#6d904f\"},\"size\":{\"value\":5.477225575051661},\"x\":{\"field\":\"TotalCoinSupply\"},\"y\":{\"field\":\"TotalCoinsMined\"}},\"id\":\"2099\",\"type\":\"Scatter\"},{\"attributes\":{\"data\":{\"Class\":[1,1,1,1,1,1,1,1,1,1,1,1,1,1,1,1,1,1,1,1,1,1,1,1,1,1,1,1,1,1,1,1,1,1,1,1,1,1,1,1,1,1,1,1,1,1,1,1,1,1,1,1,1,1,1,1,1,1,1,1,1,1,1,1,1,1,1,1,1,1,1,1,1,1,1,1,1,1,1,1,1,1,1,1,1,1,1,1,1,1,1,1,1,1,1,1,1,1,1,1,1,1,1,1,1,1],\"TotalCoinSupply\":{\"__ndarray__\":\"hPdD1pQQ3j1/I5TR27JWP6O3Za2OCQ4/61G4HoXrQT956SYxCKwMPwAAAAAAAKw/ERERERERAT8AAAAAAAAAAAAAAAAAAAAArY4JHswTRT9GR18uz3AgP6Xi7MNn2MU+xooaTMPwAT+yYyMQr+vnPpNfLPnFEqY/AAAAAAAAoj956SYxCKwMPwAAAAAAAAAA5BdLfrHkJz9jwbPz7KgoPwAAAAAAAAAAMzMzMzMzzj+jt2WtjgkOP+Uzj7I0pkY/ERERERERQT8AAAAAAAAAAAAAAAAAAAAAAAAAAAAApD9b1uqY4MFMPwAAAAAAAAAAhl0Bcq+5MD9VVVVVVVVFPx6CvZzseSE/AAAAAAAAAAARkvKAn14mPots5/up8WI/zoIb7PcLID+IiIiIiIh4P3npJjEIrBw/ThvotIFOKz8AAAAAAAAAABERERERETE/AAAAAAAAAAB56SYxCKwsP+Uzj7I0pkY/o7dlrY4J7j4AAAAAAAAAALgehetRuB4/HEayXZy+3j+qqqqqqqqaPxan7Ib/Bnc/xooaTMPwMT/PsCtA7jUnP+tRuB6F63E/AAAAAAAAAADObFfog2U8P/yp8dJNYgA/b0T3rGu03D4AAAAAAAAAAE4b6LSBTvs+VVVVVVVVZT9VVVVVVVVlPwAAAAAAAAAAThvotIFOCz+qqqqqqqqaP6DTBjptoHM/rtcZgL4Quz6qqqqqqqrOPwAAAAAAAAAAObTIdr6fKj/S+8bXnlkiP8aKGkzD8EE/ERERERERMT8REREREREhPwAAAAAAAAAApeLsw2fYBT956SYxCKwMP3npJjEIrAw/MzMzMzOzsT956SYxCKwsP3npJjEIrPw+EtpyLsXVrD956SYxCKwcPxJ/C+v33EI/exSuR+F6FD/8qfHSTWIQP/yp8dJNYlA/AAAAAACA0D+m+AXgD+h2PxERERERERE/SXhVeoABQz+4HoXrUbguPx8+w64AuTc/VVVVVVVVdT8Egkm+z0MePxEREREREUE/ERERERERET+4HoXrUbguP04b6LSBTvs+ERERERERQT+IiIiIiIiAP3sUrkfhehQ/qqqqqqqqqj8RERERERExP3yGXQFyr0k/KrPx97/jET8=\",\"dtype\":\"float64\",\"order\":\"little\",\"shape\":[106]},\"TotalCoinsMined\":{\"__ndarray__\":\"AAAAAAAAAACWxsv9FXt3P0CdiRFnuQk/k9iIWzguRD8AZBqbigcFP0b6RdE+uq8/GEQxH1wVET+hNqPJp0dsP6KwzyJt6EU/T4pGhn0aVz9KWkXyedAnPyzfE8Zfrdc+cQZO2uHL+j5sW0guEdPyPtwBJJKfJ7Y/++Wh13JwsT9rrsKtuscdP0DXKSzTjWQ/hfptH+VhNz/k2f8OJqotP/SjgCIGrYI/A2AQOAiA3z/NGn9XUyMZP5uVLXUH9ko/P5oB0ILKLD8XNm5Mlp29P8uR1g6qhzc/31WaoGZTij8HgV8m+MpdPzQVuqnWlRU/bfyeaTFVOj9PLw99Sz4hPyVWLzGZOSI/SREkWt4NMj+asOb12Xs6PitrlVZVEmk/A4XArIYALz/jMTDs9gyCP6UG8h3/VCA/l/uY3Jj06T6vIiffhILbPokFJVDO4jE/NQ6OZUbNJj+OKphSWTgyPw/GOBHuSkU/n6rqLF/MAz/avJ5yXs1BP4VdO1Ms6Ss/AAAAAAAA8D96LQQ8GzajP1hS59YqLIQ/gV92v8NHOD+FUJrQrNsrP7xpqCKkeGI/VgJKopVbIz8SxGgFMHtIP/NoV/7VCuc+kDVYR+CTsD6tmBGhJ7ngPuTPMobVNgQ/8LqjgtuicT8dWe3xTwJwPyaPXsznLjc/Sm4rSfKGED9k62uM8qWZPxBvCiJRiG8/vLua/+A6zD4OV3HZtxKgPlB+9pjsPuE+AlgZ9i+qNj8eQCBUqQAVPxYoAHJ6MCc/2ryecl7NQT+Nb3A+imggP3GmvR08BMc/BXLUrS6ZFj/c136jcucdP3WvmYnyhQ0/Hled+VuWrj8uOkJVYN04P/B70nvhN/0+epGMSGY8vj9Ti0zAqqEJPxiutny/0iw/VCRz8sg9AD85JNeKBpYYP1FIZUa8pA0/VqkwVbS1yT9A7lqrzOSHPy2me0EfchM/okTwocU92z7fwS3sSLY9P6QY6J+/XSE/n8i1M/QXcj8UfrlO8cj5Pt3VjWu7e/w+sQUea75l3z4IhlgK17wuP8HBCvnsRwY/Qd2+hRHNRD9z3tRr6JptP3JHPDncqw8/Ns9RvJA6uz/avJ5yXs1BP+MTdfp9YBk/GREfcSCpIj8=\",\"dtype\":\"float64\",\"order\":\"little\",\"shape\":[106]}},\"selected\":{\"id\":\"2051\"},\"selection_policy\":{\"id\":\"2067\"}},\"id\":\"2050\",\"type\":\"ColumnDataSource\"},{\"attributes\":{\"callback\":null,\"renderers\":[{\"id\":\"2035\"},{\"id\":\"2056\"},{\"id\":\"2078\"},{\"id\":\"2102\"}],\"tags\":[\"hv_created\"],\"tooltips\":[[\"Class\",\"@{Class}\"],[\"TotalCoinSupply\",\"@{TotalCoinSupply}\"],[\"TotalCoinsMined\",\"@{TotalCoinsMined}\"]]},\"id\":\"1989\",\"type\":\"HoverTool\"},{\"attributes\":{},\"id\":\"2000\",\"type\":\"LinearScale\"},{\"attributes\":{\"coordinates\":null,\"data_source\":{\"id\":\"2072\"},\"glyph\":{\"id\":\"2075\"},\"group\":null,\"hover_glyph\":null,\"muted_glyph\":{\"id\":\"2077\"},\"nonselection_glyph\":{\"id\":\"2076\"},\"selection_glyph\":{\"id\":\"2095\"},\"view\":{\"id\":\"2079\"}},\"id\":\"2078\",\"type\":\"GlyphRenderer\"},{\"attributes\":{\"label\":{\"value\":\"1\"},\"renderers\":[{\"id\":\"2056\"}]},\"id\":\"2070\",\"type\":\"LegendItem\"},{\"attributes\":{\"angle\":{\"value\":0.0},\"fill_alpha\":{\"value\":1.0},\"fill_color\":{\"value\":\"#30a2da\"},\"hatch_alpha\":{\"value\":1.0},\"hatch_color\":{\"value\":\"#30a2da\"},\"hatch_scale\":{\"value\":12.0},\"hatch_weight\":{\"value\":1.0},\"line_alpha\":{\"value\":1.0},\"line_cap\":{\"value\":\"butt\"},\"line_color\":{\"value\":\"#30a2da\"},\"line_dash\":{\"value\":[]},\"line_dash_offset\":{\"value\":0},\"line_join\":{\"value\":\"bevel\"},\"line_width\":{\"value\":1},\"marker\":{\"value\":\"circle\"},\"size\":{\"value\":5.477225575051661},\"x\":{\"field\":\"TotalCoinSupply\"},\"y\":{\"field\":\"TotalCoinsMined\"}},\"id\":\"2049\",\"type\":\"Scatter\"},{\"attributes\":{\"fill_alpha\":{\"value\":0.2},\"fill_color\":{\"value\":\"#6d904f\"},\"hatch_alpha\":{\"value\":0.2},\"hatch_color\":{\"value\":\"#6d904f\"},\"line_alpha\":{\"value\":0.2},\"line_color\":{\"value\":\"#6d904f\"},\"size\":{\"value\":5.477225575051661},\"x\":{\"field\":\"TotalCoinSupply\"},\"y\":{\"field\":\"TotalCoinsMined\"}},\"id\":\"2101\",\"type\":\"Scatter\"},{\"attributes\":{\"coordinates\":null,\"data_source\":{\"id\":\"2096\"},\"glyph\":{\"id\":\"2099\"},\"group\":null,\"hover_glyph\":null,\"muted_glyph\":{\"id\":\"2101\"},\"nonselection_glyph\":{\"id\":\"2100\"},\"selection_glyph\":{\"id\":\"2121\"},\"view\":{\"id\":\"2103\"}},\"id\":\"2102\",\"type\":\"GlyphRenderer\"},{\"attributes\":{\"fill_alpha\":{\"value\":0.2},\"fill_color\":{\"value\":\"#fc4f30\"},\"hatch_alpha\":{\"value\":0.2},\"hatch_color\":{\"value\":\"#fc4f30\"},\"line_alpha\":{\"value\":0.2},\"line_color\":{\"value\":\"#fc4f30\"},\"size\":{\"value\":5.477225575051661},\"x\":{\"field\":\"TotalCoinSupply\"},\"y\":{\"field\":\"TotalCoinsMined\"}},\"id\":\"2055\",\"type\":\"Scatter\"},{\"attributes\":{\"below\":[{\"id\":\"2002\"}],\"center\":[{\"id\":\"2005\"},{\"id\":\"2009\"}],\"height\":300,\"left\":[{\"id\":\"2006\"}],\"margin\":[5,5,5,5],\"min_border_bottom\":10,\"min_border_left\":10,\"min_border_right\":10,\"min_border_top\":10,\"renderers\":[{\"id\":\"2035\"},{\"id\":\"2056\"},{\"id\":\"2078\"},{\"id\":\"2102\"}],\"right\":[{\"id\":\"2047\"}],\"sizing_mode\":\"fixed\",\"title\":{\"id\":\"1994\"},\"toolbar\":{\"id\":\"2016\"},\"width\":700,\"x_range\":{\"id\":\"1987\"},\"x_scale\":{\"id\":\"1998\"},\"y_range\":{\"id\":\"1988\"},\"y_scale\":{\"id\":\"2000\"}},\"id\":\"1993\",\"subtype\":\"Figure\",\"type\":\"Plot\"},{\"attributes\":{\"coordinates\":null,\"group\":null,\"text_color\":\"black\",\"text_font_size\":\"12pt\"},\"id\":\"1994\",\"type\":\"Title\"},{\"attributes\":{\"data\":{\"Class\":[2],\"TotalCoinSupply\":{\"__ndarray__\":\"arx0kxgElD8=\",\"dtype\":\"float64\",\"order\":\"little\",\"shape\":[1]},\"TotalCoinsMined\":{\"__ndarray__\":\"MD/3M8UUeD8=\",\"dtype\":\"float64\",\"order\":\"little\",\"shape\":[1]}},\"selected\":{\"id\":\"2073\"},\"selection_policy\":{\"id\":\"2091\"}},\"id\":\"2072\",\"type\":\"ColumnDataSource\"},{\"attributes\":{},\"id\":\"2011\",\"type\":\"PanTool\"},{\"attributes\":{\"axis\":{\"id\":\"2002\"},\"coordinates\":null,\"grid_line_color\":null,\"group\":null,\"ticker\":null},\"id\":\"2005\",\"type\":\"Grid\"},{\"attributes\":{\"angle\":{\"value\":0.0},\"fill_alpha\":{\"value\":1.0},\"fill_color\":{\"value\":\"#6d904f\"},\"hatch_alpha\":{\"value\":1.0},\"hatch_color\":{\"value\":\"#6d904f\"},\"hatch_scale\":{\"value\":12.0},\"hatch_weight\":{\"value\":1.0},\"line_alpha\":{\"value\":1.0},\"line_cap\":{\"value\":\"butt\"},\"line_color\":{\"value\":\"#6d904f\"},\"line_dash\":{\"value\":[]},\"line_dash_offset\":{\"value\":0},\"line_join\":{\"value\":\"bevel\"},\"line_width\":{\"value\":1},\"marker\":{\"value\":\"circle\"},\"size\":{\"value\":5.477225575051661},\"x\":{\"field\":\"TotalCoinSupply\"},\"y\":{\"field\":\"TotalCoinsMined\"}},\"id\":\"2121\",\"type\":\"Scatter\"},{\"attributes\":{\"fill_alpha\":{\"value\":0.1},\"fill_color\":{\"value\":\"#fc4f30\"},\"hatch_alpha\":{\"value\":0.1},\"hatch_color\":{\"value\":\"#fc4f30\"},\"line_alpha\":{\"value\":0.1},\"line_color\":{\"value\":\"#fc4f30\"},\"size\":{\"value\":5.477225575051661},\"x\":{\"field\":\"TotalCoinSupply\"},\"y\":{\"field\":\"TotalCoinsMined\"}},\"id\":\"2054\",\"type\":\"Scatter\"},{\"attributes\":{},\"id\":\"2051\",\"type\":\"Selection\"},{\"attributes\":{\"axis_label\":\"TotalCoinSupply\",\"coordinates\":null,\"formatter\":{\"id\":\"2024\"},\"group\":null,\"major_label_policy\":{\"id\":\"2025\"},\"ticker\":{\"id\":\"2003\"}},\"id\":\"2002\",\"type\":\"LinearAxis\"},{\"attributes\":{\"coordinates\":null,\"data_source\":{\"id\":\"2050\"},\"glyph\":{\"id\":\"2053\"},\"group\":null,\"hover_glyph\":null,\"muted_glyph\":{\"id\":\"2055\"},\"nonselection_glyph\":{\"id\":\"2054\"},\"selection_glyph\":{\"id\":\"2071\"},\"view\":{\"id\":\"2057\"}},\"id\":\"2056\",\"type\":\"GlyphRenderer\"},{\"attributes\":{},\"id\":\"2012\",\"type\":\"WheelZoomTool\"},{\"attributes\":{\"data\":{\"Class\":[3,3],\"TotalCoinSupply\":{\"__ndarray__\":\"8qgLi2Si6z4ZSgAR9ZX6Pg==\",\"dtype\":\"float64\",\"order\":\"little\",\"shape\":[2]},\"TotalCoinsMined\":{\"__ndarray__\":\"5CcQHJtnCD94EwI22cgBPw==\",\"dtype\":\"float64\",\"order\":\"little\",\"shape\":[2]}},\"selected\":{\"id\":\"2097\"},\"selection_policy\":{\"id\":\"2117\"}},\"id\":\"2096\",\"type\":\"ColumnDataSource\"},{\"attributes\":{},\"id\":\"2003\",\"type\":\"BasicTicker\"},{\"attributes\":{\"source\":{\"id\":\"2072\"}},\"id\":\"2079\",\"type\":\"CDSView\"},{\"attributes\":{\"axis_label\":\"TotalCoinsMined\",\"coordinates\":null,\"formatter\":{\"id\":\"2027\"},\"group\":null,\"major_label_policy\":{\"id\":\"2028\"},\"ticker\":{\"id\":\"2007\"}},\"id\":\"2006\",\"type\":\"LinearAxis\"},{\"attributes\":{\"axis\":{\"id\":\"2006\"},\"coordinates\":null,\"dimension\":1,\"grid_line_color\":null,\"group\":null,\"ticker\":null},\"id\":\"2009\",\"type\":\"Grid\"},{\"attributes\":{},\"id\":\"2007\",\"type\":\"BasicTicker\"},{\"attributes\":{},\"id\":\"2067\",\"type\":\"UnionRenderers\"},{\"attributes\":{},\"id\":\"2091\",\"type\":\"UnionRenderers\"},{\"attributes\":{},\"id\":\"2010\",\"type\":\"SaveTool\"},{\"attributes\":{\"label\":{\"value\":\"0\"},\"renderers\":[{\"id\":\"2035\"}]},\"id\":\"2048\",\"type\":\"LegendItem\"},{\"attributes\":{\"overlay\":{\"id\":\"2015\"}},\"id\":\"2013\",\"type\":\"BoxZoomTool\"},{\"attributes\":{},\"id\":\"2014\",\"type\":\"ResetTool\"},{\"attributes\":{\"end\":1.042857142857143,\"reset_end\":1.042857142857143,\"reset_start\":-0.04285714285714286,\"start\":-0.04285714285714286,\"tags\":[[[\"TotalCoinSupply\",\"TotalCoinSupply\",null]]]},\"id\":\"1987\",\"type\":\"Range1d\"},{\"attributes\":{\"bottom_units\":\"screen\",\"coordinates\":null,\"fill_alpha\":0.5,\"fill_color\":\"lightgrey\",\"group\":null,\"left_units\":\"screen\",\"level\":\"overlay\",\"line_alpha\":1.0,\"line_color\":\"black\",\"line_dash\":[4,4],\"line_width\":2,\"right_units\":\"screen\",\"syncable\":false,\"top_units\":\"screen\"},\"id\":\"2015\",\"type\":\"BoxAnnotation\"},{\"attributes\":{},\"id\":\"2030\",\"type\":\"Selection\"},{\"attributes\":{\"tools\":[{\"id\":\"1989\"},{\"id\":\"2010\"},{\"id\":\"2011\"},{\"id\":\"2012\"},{\"id\":\"2013\"},{\"id\":\"2014\"}]},\"id\":\"2016\",\"type\":\"Toolbar\"},{\"attributes\":{\"angle\":{\"value\":0.0},\"fill_alpha\":{\"value\":1.0},\"fill_color\":{\"value\":\"#e5ae38\"},\"hatch_alpha\":{\"value\":1.0},\"hatch_color\":{\"value\":\"#e5ae38\"},\"hatch_scale\":{\"value\":12.0},\"hatch_weight\":{\"value\":1.0},\"line_alpha\":{\"value\":1.0},\"line_cap\":{\"value\":\"butt\"},\"line_color\":{\"value\":\"#e5ae38\"},\"line_dash\":{\"value\":[]},\"line_dash_offset\":{\"value\":0},\"line_join\":{\"value\":\"bevel\"},\"line_width\":{\"value\":1},\"marker\":{\"value\":\"circle\"},\"size\":{\"value\":5.477225575051661},\"x\":{\"field\":\"TotalCoinSupply\"},\"y\":{\"field\":\"TotalCoinsMined\"}},\"id\":\"2095\",\"type\":\"Scatter\"},{\"attributes\":{\"margin\":[5,5,5,5],\"name\":\"HSpacer03685\",\"sizing_mode\":\"stretch_width\"},\"id\":\"2266\",\"type\":\"Spacer\"},{\"attributes\":{},\"id\":\"2025\",\"type\":\"AllLabels\"},{\"attributes\":{},\"id\":\"2028\",\"type\":\"AllLabels\"},{\"attributes\":{},\"id\":\"2097\",\"type\":\"Selection\"},{\"attributes\":{\"source\":{\"id\":\"2029\"}},\"id\":\"2036\",\"type\":\"CDSView\"},{\"attributes\":{\"fill_alpha\":{\"value\":0.1},\"fill_color\":{\"value\":\"#6d904f\"},\"hatch_alpha\":{\"value\":0.1},\"hatch_color\":{\"value\":\"#6d904f\"},\"line_alpha\":{\"value\":0.1},\"line_color\":{\"value\":\"#6d904f\"},\"size\":{\"value\":5.477225575051661},\"x\":{\"field\":\"TotalCoinSupply\"},\"y\":{\"field\":\"TotalCoinsMined\"}},\"id\":\"2100\",\"type\":\"Scatter\"},{\"attributes\":{},\"id\":\"2027\",\"type\":\"BasicTickFormatter\"},{\"attributes\":{\"click_policy\":\"mute\",\"coordinates\":null,\"group\":null,\"items\":[{\"id\":\"2048\"},{\"id\":\"2070\"},{\"id\":\"2094\"},{\"id\":\"2120\"}],\"location\":[0,0],\"title\":\"Class\"},\"id\":\"2047\",\"type\":\"Legend\"},{\"attributes\":{\"angle\":{\"value\":0.0},\"fill_alpha\":{\"value\":1.0},\"fill_color\":{\"value\":\"#fc4f30\"},\"hatch_alpha\":{\"value\":1.0},\"hatch_color\":{\"value\":\"#fc4f30\"},\"hatch_scale\":{\"value\":12.0},\"hatch_weight\":{\"value\":1.0},\"line_alpha\":{\"value\":1.0},\"line_cap\":{\"value\":\"butt\"},\"line_color\":{\"value\":\"#fc4f30\"},\"line_dash\":{\"value\":[]},\"line_dash_offset\":{\"value\":0},\"line_join\":{\"value\":\"bevel\"},\"line_width\":{\"value\":1},\"marker\":{\"value\":\"circle\"},\"size\":{\"value\":5.477225575051661},\"x\":{\"field\":\"TotalCoinSupply\"},\"y\":{\"field\":\"TotalCoinsMined\"}},\"id\":\"2071\",\"type\":\"Scatter\"},{\"attributes\":{},\"id\":\"2117\",\"type\":\"UnionRenderers\"},{\"attributes\":{},\"id\":\"2024\",\"type\":\"BasicTickFormatter\"}],\"root_ids\":[\"1985\"]},\"title\":\"Bokeh Application\",\"version\":\"2.4.2\"}};\n",
       "    var render_items = [{\"docid\":\"2d49cfac-8ff5-46b2-8e0f-e788c058d721\",\"root_ids\":[\"1985\"],\"roots\":{\"1985\":\"2a782600-05c1-4874-82a4-0925e38c9504\"}}];\n",
       "    root.Bokeh.embed.embed_items_notebook(docs_json, render_items);\n",
       "  }\n",
       "  if (root.Bokeh !== undefined && root.Bokeh.Panel !== undefined) {\n",
       "    embed_document(root);\n",
       "  } else {\n",
       "    var attempts = 0;\n",
       "    var timer = setInterval(function(root) {\n",
       "      if (root.Bokeh !== undefined && root.Bokeh.Panel !== undefined) {\n",
       "        clearInterval(timer);\n",
       "        embed_document(root);\n",
       "      } else if (document.readyState == \"complete\") {\n",
       "        attempts++;\n",
       "        if (attempts > 200) {\n",
       "          clearInterval(timer);\n",
       "          console.log(\"Bokeh: ERROR: Unable to run BokehJS code because BokehJS library is missing\");\n",
       "        }\n",
       "      }\n",
       "    }, 25, root)\n",
       "  }\n",
       "})(window);</script>"
      ],
      "text/plain": [
       ":NdOverlay   [Class]\n",
       "   :Scatter   [TotalCoinSupply]   (TotalCoinsMined)"
      ]
     },
     "execution_count": 78,
     "metadata": {
      "application/vnd.holoviews_exec.v0+json": {
       "id": "1985"
      }
     },
     "output_type": "execute_result"
    }
   ],
   "source": [
    "# Create a hvplot.scatter plot using x=\"TotalCoinsMined\" and y=\"TotalCoinSupply\".\n",
    "df_new2.hvplot.scatter(\n",
    "    x=\"TotalCoinSupply\",\n",
    "    y=\"TotalCoinsMined\",\n",
    "    by=\"Class\"\n",
    ")\n"
   ]
  },
  {
   "cell_type": "code",
   "execution_count": null,
   "metadata": {},
   "outputs": [],
   "source": []
  }
 ],
 "metadata": {
  "file_extension": ".py",
  "kernelspec": {
   "display_name": "mlenv",
   "language": "python",
   "name": "mlenv"
  },
  "language_info": {
   "codemirror_mode": {
    "name": "ipython",
    "version": 3
   },
   "file_extension": ".py",
   "mimetype": "text/x-python",
   "name": "python",
   "nbconvert_exporter": "python",
   "pygments_lexer": "ipython3",
   "version": "3.10.4"
  },
  "latex_envs": {
   "LaTeX_envs_menu_present": true,
   "autoclose": false,
   "autocomplete": true,
   "bibliofile": "biblio.bib",
   "cite_by": "apalike",
   "current_citInitial": 1,
   "eqLabelWithNumbers": true,
   "eqNumInitial": 1,
   "hotkeys": {
    "equation": "Ctrl-E",
    "itemize": "Ctrl-I"
   },
   "labels_anchors": false,
   "latex_user_defs": false,
   "report_style_numbering": false,
   "user_envs_cfg": false
  },
  "mimetype": "text/x-python",
  "name": "python",
  "npconvert_exporter": "python",
  "pygments_lexer": "ipython3",
  "version": 3
 },
 "nbformat": 4,
 "nbformat_minor": 2
}
